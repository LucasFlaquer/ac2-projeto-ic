{
 "cells": [
  {
   "cell_type": "code",
   "execution_count": 28,
   "metadata": {},
   "outputs": [
    {
     "data": {
      "text/plain": [
       "age                  0\n",
       "workclass         1836\n",
       "fnlwgt               0\n",
       "education            0\n",
       "education-num        0\n",
       "marital-status       0\n",
       "ocupation         1843\n",
       "relationship         0\n",
       "race                 0\n",
       "sex                  0\n",
       "capital-gain         0\n",
       "capital-loss         0\n",
       "hours-per-week       0\n",
       "native-country     583\n",
       "greater              0\n",
       "dtype: int64"
      ]
     },
     "execution_count": 28,
     "metadata": {},
     "output_type": "execute_result"
    }
   ],
   "source": [
    "# Importar biblioteca pandas para leitura da base\n",
    "import pandas as pd\n",
    "import numpy as np\n",
    "\n",
    "# Ler base de dados e atribuir interrogação para os valores nulos\n",
    "df = pd.read_csv('adult.data', na_values=' ?')\n",
    "\n",
    "# Mostra os 5 primeiros dados da base\n",
    "df.head()\n",
    "df.isna().sum()"
   ]
  },
  {
   "cell_type": "code",
   "execution_count": 29,
   "metadata": {},
   "outputs": [
    {
     "name": "stdout",
     "output_type": "stream",
     "text": [
      "(30162, 15)\n"
     ]
    }
   ],
   "source": [
    "df = df.dropna()\n",
    "\n",
    "# Mostrando a forma (Linhas x Colunas) após remover as linhas vazias\n",
    "print(df.shape)"
   ]
  },
  {
   "cell_type": "markdown",
   "metadata": {},
   "source": [
    "preparacao"
   ]
  },
  {
   "cell_type": "code",
   "execution_count": 30,
   "metadata": {},
   "outputs": [],
   "source": [
    "df['sex'] = df.sex.map({\" Male\": 1, \" Female\": 0})"
   ]
  },
  {
   "cell_type": "code",
   "execution_count": 31,
   "metadata": {},
   "outputs": [],
   "source": [
    "df['workclass_private'] = ''\n",
    "df['workclass_others'] = ''"
   ]
  },
  {
   "cell_type": "code",
   "execution_count": 32,
   "metadata": {},
   "outputs": [],
   "source": [
    "df['workclass_private'] = df['workclass'] == ' Private'\n",
    "df['workclass_others'] = df['workclass'] != ' Private'"
   ]
  },
  {
   "cell_type": "code",
   "execution_count": 33,
   "metadata": {},
   "outputs": [],
   "source": [
    "df['greater'] = df.greater.map({' <=50K': 0, ' >50K': 1})"
   ]
  },
  {
   "cell_type": "code",
   "execution_count": 39,
   "metadata": {},
   "outputs": [
    {
     "data": {
      "text/html": [
       "<div>\n",
       "<style scoped>\n",
       "    .dataframe tbody tr th:only-of-type {\n",
       "        vertical-align: middle;\n",
       "    }\n",
       "\n",
       "    .dataframe tbody tr th {\n",
       "        vertical-align: top;\n",
       "    }\n",
       "\n",
       "    .dataframe thead th {\n",
       "        text-align: right;\n",
       "    }\n",
       "</style>\n",
       "<table border=\"1\" class=\"dataframe\">\n",
       "  <thead>\n",
       "    <tr style=\"text-align: right;\">\n",
       "      <th></th>\n",
       "      <th>workclass_private</th>\n",
       "      <th>workclass_others</th>\n",
       "      <th>fnlwgt</th>\n",
       "      <th>education-num</th>\n",
       "      <th>sex</th>\n",
       "      <th>hours-per-week</th>\n",
       "      <th>greater</th>\n",
       "      <th>education_ 10th</th>\n",
       "      <th>education_ 11th</th>\n",
       "      <th>education_ 12th</th>\n",
       "      <th>...</th>\n",
       "      <th>relationship_ Not-in-family</th>\n",
       "      <th>relationship_ Other-relative</th>\n",
       "      <th>relationship_ Own-child</th>\n",
       "      <th>relationship_ Unmarried</th>\n",
       "      <th>relationship_ Wife</th>\n",
       "      <th>race_ Amer-Indian-Eskimo</th>\n",
       "      <th>race_ Asian-Pac-Islander</th>\n",
       "      <th>race_ Black</th>\n",
       "      <th>race_ Other</th>\n",
       "      <th>race_ White</th>\n",
       "    </tr>\n",
       "  </thead>\n",
       "  <tbody>\n",
       "    <tr>\n",
       "      <th>0</th>\n",
       "      <td>False</td>\n",
       "      <td>True</td>\n",
       "      <td>77516</td>\n",
       "      <td>13</td>\n",
       "      <td>1</td>\n",
       "      <td>40</td>\n",
       "      <td>0</td>\n",
       "      <td>0</td>\n",
       "      <td>0</td>\n",
       "      <td>0</td>\n",
       "      <td>...</td>\n",
       "      <td>1</td>\n",
       "      <td>0</td>\n",
       "      <td>0</td>\n",
       "      <td>0</td>\n",
       "      <td>0</td>\n",
       "      <td>0</td>\n",
       "      <td>0</td>\n",
       "      <td>0</td>\n",
       "      <td>0</td>\n",
       "      <td>1</td>\n",
       "    </tr>\n",
       "    <tr>\n",
       "      <th>1</th>\n",
       "      <td>False</td>\n",
       "      <td>True</td>\n",
       "      <td>83311</td>\n",
       "      <td>13</td>\n",
       "      <td>1</td>\n",
       "      <td>13</td>\n",
       "      <td>0</td>\n",
       "      <td>0</td>\n",
       "      <td>0</td>\n",
       "      <td>0</td>\n",
       "      <td>...</td>\n",
       "      <td>0</td>\n",
       "      <td>0</td>\n",
       "      <td>0</td>\n",
       "      <td>0</td>\n",
       "      <td>0</td>\n",
       "      <td>0</td>\n",
       "      <td>0</td>\n",
       "      <td>0</td>\n",
       "      <td>0</td>\n",
       "      <td>1</td>\n",
       "    </tr>\n",
       "    <tr>\n",
       "      <th>2</th>\n",
       "      <td>True</td>\n",
       "      <td>False</td>\n",
       "      <td>215646</td>\n",
       "      <td>9</td>\n",
       "      <td>1</td>\n",
       "      <td>40</td>\n",
       "      <td>0</td>\n",
       "      <td>0</td>\n",
       "      <td>0</td>\n",
       "      <td>0</td>\n",
       "      <td>...</td>\n",
       "      <td>1</td>\n",
       "      <td>0</td>\n",
       "      <td>0</td>\n",
       "      <td>0</td>\n",
       "      <td>0</td>\n",
       "      <td>0</td>\n",
       "      <td>0</td>\n",
       "      <td>0</td>\n",
       "      <td>0</td>\n",
       "      <td>1</td>\n",
       "    </tr>\n",
       "    <tr>\n",
       "      <th>3</th>\n",
       "      <td>True</td>\n",
       "      <td>False</td>\n",
       "      <td>234721</td>\n",
       "      <td>7</td>\n",
       "      <td>1</td>\n",
       "      <td>40</td>\n",
       "      <td>0</td>\n",
       "      <td>0</td>\n",
       "      <td>1</td>\n",
       "      <td>0</td>\n",
       "      <td>...</td>\n",
       "      <td>0</td>\n",
       "      <td>0</td>\n",
       "      <td>0</td>\n",
       "      <td>0</td>\n",
       "      <td>0</td>\n",
       "      <td>0</td>\n",
       "      <td>0</td>\n",
       "      <td>1</td>\n",
       "      <td>0</td>\n",
       "      <td>0</td>\n",
       "    </tr>\n",
       "    <tr>\n",
       "      <th>4</th>\n",
       "      <td>True</td>\n",
       "      <td>False</td>\n",
       "      <td>338409</td>\n",
       "      <td>13</td>\n",
       "      <td>0</td>\n",
       "      <td>40</td>\n",
       "      <td>0</td>\n",
       "      <td>0</td>\n",
       "      <td>0</td>\n",
       "      <td>0</td>\n",
       "      <td>...</td>\n",
       "      <td>0</td>\n",
       "      <td>0</td>\n",
       "      <td>0</td>\n",
       "      <td>0</td>\n",
       "      <td>1</td>\n",
       "      <td>0</td>\n",
       "      <td>0</td>\n",
       "      <td>1</td>\n",
       "      <td>0</td>\n",
       "      <td>0</td>\n",
       "    </tr>\n",
       "  </tbody>\n",
       "</table>\n",
       "<p>5 rows × 55 columns</p>\n",
       "</div>"
      ],
      "text/plain": [
       "   workclass_private  workclass_others  fnlwgt  education-num  sex  \\\n",
       "0              False              True   77516             13    1   \n",
       "1              False              True   83311             13    1   \n",
       "2               True             False  215646              9    1   \n",
       "3               True             False  234721              7    1   \n",
       "4               True             False  338409             13    0   \n",
       "\n",
       "   hours-per-week  greater  education_ 10th  education_ 11th  education_ 12th  \\\n",
       "0              40        0                0                0                0   \n",
       "1              13        0                0                0                0   \n",
       "2              40        0                0                0                0   \n",
       "3              40        0                0                1                0   \n",
       "4              40        0                0                0                0   \n",
       "\n",
       "   ...  relationship_ Not-in-family  relationship_ Other-relative  \\\n",
       "0  ...                            1                             0   \n",
       "1  ...                            0                             0   \n",
       "2  ...                            1                             0   \n",
       "3  ...                            0                             0   \n",
       "4  ...                            0                             0   \n",
       "\n",
       "   relationship_ Own-child  relationship_ Unmarried  relationship_ Wife  \\\n",
       "0                        0                        0                   0   \n",
       "1                        0                        0                   0   \n",
       "2                        0                        0                   0   \n",
       "3                        0                        0                   0   \n",
       "4                        0                        0                   1   \n",
       "\n",
       "   race_ Amer-Indian-Eskimo  race_ Asian-Pac-Islander  race_ Black  \\\n",
       "0                         0                         0            0   \n",
       "1                         0                         0            0   \n",
       "2                         0                         0            0   \n",
       "3                         0                         0            1   \n",
       "4                         0                         0            1   \n",
       "\n",
       "   race_ Other  race_ White  \n",
       "0            0            1  \n",
       "1            0            1  \n",
       "2            0            1  \n",
       "3            0            0  \n",
       "4            0            0  \n",
       "\n",
       "[5 rows x 55 columns]"
      ]
     },
     "execution_count": 39,
     "metadata": {},
     "output_type": "execute_result"
    }
   ],
   "source": [
    "from sklearn.preprocessing import StandardScaler\n",
    "usedColumns = [\n",
    "  # 'age',\n",
    "  'workclass_private',\n",
    "  'workclass_others',\n",
    "  'fnlwgt','education',\n",
    "  'education-num',\n",
    "  'marital-status',\n",
    "  'ocupation','relationship','race','sex','hours-per-week', 'greater']\n",
    "dfDesired = df[usedColumns]\n",
    "df_c = pd.get_dummies(dfDesired, columns=['education','marital-status','ocupation', 'relationship', 'race'])\n",
    "df_c.head()\n",
    "# scaler = StandardScaler()\n",
    "# scaler.fit(df_c)\n",
    "# df_c = scaler.transform(df_c)"
   ]
  },
  {
   "cell_type": "code",
   "execution_count": 40,
   "metadata": {},
   "outputs": [
    {
     "name": "stdout",
     "output_type": "stream",
     "text": [
      "21113\n"
     ]
    }
   ],
   "source": [
    "from sklearn.utils import shuffle\n",
    "train_percentage = int(len(df)*70/100)\n",
    "print(train_percentage)\n",
    "\n",
    "df_shuffled = shuffle(df_c, random_state=42)"
   ]
  },
  {
   "cell_type": "markdown",
   "metadata": {},
   "source": [
    "holdout"
   ]
  },
  {
   "cell_type": "code",
   "execution_count": 41,
   "metadata": {},
   "outputs": [],
   "source": [
    "y = df_shuffled['greater']\n",
    "X_train, X_test = df_shuffled[:train_percentage], df_shuffled[train_percentage:]\n",
    "y_train, y_test = y[:train_percentage], y[train_percentage:]\n"
   ]
  },
  {
   "cell_type": "markdown",
   "metadata": {},
   "source": [
    "KNN"
   ]
  },
  {
   "cell_type": "code",
   "execution_count": 51,
   "metadata": {},
   "outputs": [],
   "source": [
    "from sklearn.neighbors import KNeighborsClassifier\n",
    " \n",
    "# Aplicação do modelo KNN e treinamento do mesmo\n",
    "modelo = KNeighborsClassifier(n_neighbors = 13)\n",
    "modelo.fit(X_train, y_train)\n",
    " \n",
    "# Aplicação da predição no modelo\n",
    "y_pred = modelo.predict(X_test)\n"
   ]
  },
  {
   "cell_type": "code",
   "execution_count": 52,
   "metadata": {},
   "outputs": [
    {
     "data": {
      "text/plain": [
       "0.7406343242347221"
      ]
     },
     "execution_count": 52,
     "metadata": {},
     "output_type": "execute_result"
    }
   ],
   "source": [
    "from sklearn.metrics import accuracy_score\n",
    " \n",
    "# Demonstração da acurácia encontrada pelo modelo\n",
    "accuracy_score(y_pred, y_test)\n"
   ]
  },
  {
   "cell_type": "code",
   "execution_count": 53,
   "metadata": {},
   "outputs": [
    {
     "name": "stdout",
     "output_type": "stream",
     "text": [
      "              precision    recall  f1-score   support\n",
      "\n",
      "           0       0.97      0.76      0.85      8697\n",
      "           1       0.06      0.38      0.10       352\n",
      "\n",
      "    accuracy                           0.74      9049\n",
      "   macro avg       0.51      0.57      0.48      9049\n",
      "weighted avg       0.93      0.74      0.82      9049\n",
      "\n"
     ]
    }
   ],
   "source": [
    "from sklearn.metrics import classification_report\n",
    " \n",
    "# Exibindo relatório da precisão de acertos dos valores menores e maiores que 50k\n",
    "print(classification_report(y_pred, y_test))\n"
   ]
  },
  {
   "cell_type": "code",
   "execution_count": 54,
   "metadata": {},
   "outputs": [
    {
     "data": {
      "text/html": [
       "<style>#sk-container-id-1 {color: black;background-color: white;}#sk-container-id-1 pre{padding: 0;}#sk-container-id-1 div.sk-toggleable {background-color: white;}#sk-container-id-1 label.sk-toggleable__label {cursor: pointer;display: block;width: 100%;margin-bottom: 0;padding: 0.3em;box-sizing: border-box;text-align: center;}#sk-container-id-1 label.sk-toggleable__label-arrow:before {content: \"▸\";float: left;margin-right: 0.25em;color: #696969;}#sk-container-id-1 label.sk-toggleable__label-arrow:hover:before {color: black;}#sk-container-id-1 div.sk-estimator:hover label.sk-toggleable__label-arrow:before {color: black;}#sk-container-id-1 div.sk-toggleable__content {max-height: 0;max-width: 0;overflow: hidden;text-align: left;background-color: #f0f8ff;}#sk-container-id-1 div.sk-toggleable__content pre {margin: 0.2em;color: black;border-radius: 0.25em;background-color: #f0f8ff;}#sk-container-id-1 input.sk-toggleable__control:checked~div.sk-toggleable__content {max-height: 200px;max-width: 100%;overflow: auto;}#sk-container-id-1 input.sk-toggleable__control:checked~label.sk-toggleable__label-arrow:before {content: \"▾\";}#sk-container-id-1 div.sk-estimator input.sk-toggleable__control:checked~label.sk-toggleable__label {background-color: #d4ebff;}#sk-container-id-1 div.sk-label input.sk-toggleable__control:checked~label.sk-toggleable__label {background-color: #d4ebff;}#sk-container-id-1 input.sk-hidden--visually {border: 0;clip: rect(1px 1px 1px 1px);clip: rect(1px, 1px, 1px, 1px);height: 1px;margin: -1px;overflow: hidden;padding: 0;position: absolute;width: 1px;}#sk-container-id-1 div.sk-estimator {font-family: monospace;background-color: #f0f8ff;border: 1px dotted black;border-radius: 0.25em;box-sizing: border-box;margin-bottom: 0.5em;}#sk-container-id-1 div.sk-estimator:hover {background-color: #d4ebff;}#sk-container-id-1 div.sk-parallel-item::after {content: \"\";width: 100%;border-bottom: 1px solid gray;flex-grow: 1;}#sk-container-id-1 div.sk-label:hover label.sk-toggleable__label {background-color: #d4ebff;}#sk-container-id-1 div.sk-serial::before {content: \"\";position: absolute;border-left: 1px solid gray;box-sizing: border-box;top: 0;bottom: 0;left: 50%;z-index: 0;}#sk-container-id-1 div.sk-serial {display: flex;flex-direction: column;align-items: center;background-color: white;padding-right: 0.2em;padding-left: 0.2em;position: relative;}#sk-container-id-1 div.sk-item {position: relative;z-index: 1;}#sk-container-id-1 div.sk-parallel {display: flex;align-items: stretch;justify-content: center;background-color: white;position: relative;}#sk-container-id-1 div.sk-item::before, #sk-container-id-1 div.sk-parallel-item::before {content: \"\";position: absolute;border-left: 1px solid gray;box-sizing: border-box;top: 0;bottom: 0;left: 50%;z-index: -1;}#sk-container-id-1 div.sk-parallel-item {display: flex;flex-direction: column;z-index: 1;position: relative;background-color: white;}#sk-container-id-1 div.sk-parallel-item:first-child::after {align-self: flex-end;width: 50%;}#sk-container-id-1 div.sk-parallel-item:last-child::after {align-self: flex-start;width: 50%;}#sk-container-id-1 div.sk-parallel-item:only-child::after {width: 0;}#sk-container-id-1 div.sk-dashed-wrapped {border: 1px dashed gray;margin: 0 0.4em 0.5em 0.4em;box-sizing: border-box;padding-bottom: 0.4em;background-color: white;}#sk-container-id-1 div.sk-label label {font-family: monospace;font-weight: bold;display: inline-block;line-height: 1.2em;}#sk-container-id-1 div.sk-label-container {text-align: center;}#sk-container-id-1 div.sk-container {/* jupyter's `normalize.less` sets `[hidden] { display: none; }` but bootstrap.min.css set `[hidden] { display: none !important; }` so we also need the `!important` here to be able to override the default hidden behavior on the sphinx rendered scikit-learn.org. See: https://github.com/scikit-learn/scikit-learn/issues/21755 */display: inline-block !important;position: relative;}#sk-container-id-1 div.sk-text-repr-fallback {display: none;}</style><div id=\"sk-container-id-1\" class=\"sk-top-container\"><div class=\"sk-text-repr-fallback\"><pre>GridSearchCV(estimator=KNeighborsClassifier(n_neighbors=13),\n",
       "             param_grid={&#x27;n_neighbors&#x27;: [1, 5, 9, 13, 101, 207]})</pre><b>In a Jupyter environment, please rerun this cell to show the HTML representation or trust the notebook. <br />On GitHub, the HTML representation is unable to render, please try loading this page with nbviewer.org.</b></div><div class=\"sk-container\" hidden><div class=\"sk-item sk-dashed-wrapped\"><div class=\"sk-label-container\"><div class=\"sk-label sk-toggleable\"><input class=\"sk-toggleable__control sk-hidden--visually\" id=\"sk-estimator-id-1\" type=\"checkbox\" ><label for=\"sk-estimator-id-1\" class=\"sk-toggleable__label sk-toggleable__label-arrow\">GridSearchCV</label><div class=\"sk-toggleable__content\"><pre>GridSearchCV(estimator=KNeighborsClassifier(n_neighbors=13),\n",
       "             param_grid={&#x27;n_neighbors&#x27;: [1, 5, 9, 13, 101, 207]})</pre></div></div></div><div class=\"sk-parallel\"><div class=\"sk-parallel-item\"><div class=\"sk-item\"><div class=\"sk-label-container\"><div class=\"sk-label sk-toggleable\"><input class=\"sk-toggleable__control sk-hidden--visually\" id=\"sk-estimator-id-2\" type=\"checkbox\" ><label for=\"sk-estimator-id-2\" class=\"sk-toggleable__label sk-toggleable__label-arrow\">estimator: KNeighborsClassifier</label><div class=\"sk-toggleable__content\"><pre>KNeighborsClassifier(n_neighbors=13)</pre></div></div></div><div class=\"sk-serial\"><div class=\"sk-item\"><div class=\"sk-estimator sk-toggleable\"><input class=\"sk-toggleable__control sk-hidden--visually\" id=\"sk-estimator-id-3\" type=\"checkbox\" ><label for=\"sk-estimator-id-3\" class=\"sk-toggleable__label sk-toggleable__label-arrow\">KNeighborsClassifier</label><div class=\"sk-toggleable__content\"><pre>KNeighborsClassifier(n_neighbors=13)</pre></div></div></div></div></div></div></div></div></div></div>"
      ],
      "text/plain": [
       "GridSearchCV(estimator=KNeighborsClassifier(n_neighbors=13),\n",
       "             param_grid={'n_neighbors': [1, 5, 9, 13, 101, 207]})"
      ]
     },
     "execution_count": 54,
     "metadata": {},
     "output_type": "execute_result"
    }
   ],
   "source": [
    "from sklearn.model_selection import GridSearchCV\n",
    " \n",
    "# Definir o intervalo de parametros para teste\n",
    "params = {'n_neighbors':[1,5,9,13,101,207]}\n",
    "clf = GridSearchCV(modelo, params)\n",
    "clf.fit(X_train, y_train)\n"
   ]
  },
  {
   "cell_type": "code",
   "execution_count": 55,
   "metadata": {},
   "outputs": [
    {
     "data": {
      "text/html": [
       "<div>\n",
       "<style scoped>\n",
       "    .dataframe tbody tr th:only-of-type {\n",
       "        vertical-align: middle;\n",
       "    }\n",
       "\n",
       "    .dataframe tbody tr th {\n",
       "        vertical-align: top;\n",
       "    }\n",
       "\n",
       "    .dataframe thead th {\n",
       "        text-align: right;\n",
       "    }\n",
       "</style>\n",
       "<table border=\"1\" class=\"dataframe\">\n",
       "  <thead>\n",
       "    <tr style=\"text-align: right;\">\n",
       "      <th></th>\n",
       "      <th>mean_fit_time</th>\n",
       "      <th>std_fit_time</th>\n",
       "      <th>mean_score_time</th>\n",
       "      <th>std_score_time</th>\n",
       "      <th>param_n_neighbors</th>\n",
       "      <th>params</th>\n",
       "      <th>split0_test_score</th>\n",
       "      <th>split1_test_score</th>\n",
       "      <th>split2_test_score</th>\n",
       "      <th>split3_test_score</th>\n",
       "      <th>split4_test_score</th>\n",
       "      <th>mean_test_score</th>\n",
       "      <th>std_test_score</th>\n",
       "      <th>rank_test_score</th>\n",
       "    </tr>\n",
       "  </thead>\n",
       "  <tbody>\n",
       "    <tr>\n",
       "      <th>0</th>\n",
       "      <td>0.008896</td>\n",
       "      <td>0.001761</td>\n",
       "      <td>0.876707</td>\n",
       "      <td>0.014152</td>\n",
       "      <td>1</td>\n",
       "      <td>{'n_neighbors': 1}</td>\n",
       "      <td>0.663036</td>\n",
       "      <td>0.673455</td>\n",
       "      <td>0.659484</td>\n",
       "      <td>0.654429</td>\n",
       "      <td>0.678115</td>\n",
       "      <td>0.665704</td>\n",
       "      <td>0.008798</td>\n",
       "      <td>6</td>\n",
       "    </tr>\n",
       "    <tr>\n",
       "      <th>1</th>\n",
       "      <td>0.007911</td>\n",
       "      <td>0.000387</td>\n",
       "      <td>1.200530</td>\n",
       "      <td>0.040006</td>\n",
       "      <td>5</td>\n",
       "      <td>{'n_neighbors': 5}</td>\n",
       "      <td>0.709922</td>\n",
       "      <td>0.711579</td>\n",
       "      <td>0.704002</td>\n",
       "      <td>0.712932</td>\n",
       "      <td>0.709379</td>\n",
       "      <td>0.709563</td>\n",
       "      <td>0.003050</td>\n",
       "      <td>5</td>\n",
       "    </tr>\n",
       "    <tr>\n",
       "      <th>2</th>\n",
       "      <td>0.008337</td>\n",
       "      <td>0.000262</td>\n",
       "      <td>1.213879</td>\n",
       "      <td>0.022907</td>\n",
       "      <td>9</td>\n",
       "      <td>{'n_neighbors': 9}</td>\n",
       "      <td>0.727445</td>\n",
       "      <td>0.727682</td>\n",
       "      <td>0.730523</td>\n",
       "      <td>0.733065</td>\n",
       "      <td>0.729986</td>\n",
       "      <td>0.729740</td>\n",
       "      <td>0.002061</td>\n",
       "      <td>4</td>\n",
       "    </tr>\n",
       "    <tr>\n",
       "      <th>3</th>\n",
       "      <td>0.008089</td>\n",
       "      <td>0.000372</td>\n",
       "      <td>1.209944</td>\n",
       "      <td>0.029767</td>\n",
       "      <td>13</td>\n",
       "      <td>{'n_neighbors': 13}</td>\n",
       "      <td>0.737390</td>\n",
       "      <td>0.739285</td>\n",
       "      <td>0.740469</td>\n",
       "      <td>0.740407</td>\n",
       "      <td>0.739697</td>\n",
       "      <td>0.739450</td>\n",
       "      <td>0.001121</td>\n",
       "      <td>3</td>\n",
       "    </tr>\n",
       "    <tr>\n",
       "      <th>4</th>\n",
       "      <td>0.008340</td>\n",
       "      <td>0.000424</td>\n",
       "      <td>1.234984</td>\n",
       "      <td>0.034818</td>\n",
       "      <td>101</td>\n",
       "      <td>{'n_neighbors': 101}</td>\n",
       "      <td>0.751598</td>\n",
       "      <td>0.751598</td>\n",
       "      <td>0.751598</td>\n",
       "      <td>0.751776</td>\n",
       "      <td>0.751776</td>\n",
       "      <td>0.751670</td>\n",
       "      <td>0.000087</td>\n",
       "      <td>1</td>\n",
       "    </tr>\n",
       "    <tr>\n",
       "      <th>5</th>\n",
       "      <td>0.008303</td>\n",
       "      <td>0.000561</td>\n",
       "      <td>1.279258</td>\n",
       "      <td>0.026282</td>\n",
       "      <td>207</td>\n",
       "      <td>{'n_neighbors': 207}</td>\n",
       "      <td>0.751598</td>\n",
       "      <td>0.751598</td>\n",
       "      <td>0.751598</td>\n",
       "      <td>0.751776</td>\n",
       "      <td>0.751776</td>\n",
       "      <td>0.751670</td>\n",
       "      <td>0.000087</td>\n",
       "      <td>1</td>\n",
       "    </tr>\n",
       "  </tbody>\n",
       "</table>\n",
       "</div>"
      ],
      "text/plain": [
       "   mean_fit_time  std_fit_time  mean_score_time  std_score_time  \\\n",
       "0       0.008896      0.001761         0.876707        0.014152   \n",
       "1       0.007911      0.000387         1.200530        0.040006   \n",
       "2       0.008337      0.000262         1.213879        0.022907   \n",
       "3       0.008089      0.000372         1.209944        0.029767   \n",
       "4       0.008340      0.000424         1.234984        0.034818   \n",
       "5       0.008303      0.000561         1.279258        0.026282   \n",
       "\n",
       "  param_n_neighbors                params  split0_test_score  \\\n",
       "0                 1    {'n_neighbors': 1}           0.663036   \n",
       "1                 5    {'n_neighbors': 5}           0.709922   \n",
       "2                 9    {'n_neighbors': 9}           0.727445   \n",
       "3                13   {'n_neighbors': 13}           0.737390   \n",
       "4               101  {'n_neighbors': 101}           0.751598   \n",
       "5               207  {'n_neighbors': 207}           0.751598   \n",
       "\n",
       "   split1_test_score  split2_test_score  split3_test_score  split4_test_score  \\\n",
       "0           0.673455           0.659484           0.654429           0.678115   \n",
       "1           0.711579           0.704002           0.712932           0.709379   \n",
       "2           0.727682           0.730523           0.733065           0.729986   \n",
       "3           0.739285           0.740469           0.740407           0.739697   \n",
       "4           0.751598           0.751598           0.751776           0.751776   \n",
       "5           0.751598           0.751598           0.751776           0.751776   \n",
       "\n",
       "   mean_test_score  std_test_score  rank_test_score  \n",
       "0         0.665704        0.008798                6  \n",
       "1         0.709563        0.003050                5  \n",
       "2         0.729740        0.002061                4  \n",
       "3         0.739450        0.001121                3  \n",
       "4         0.751670        0.000087                1  \n",
       "5         0.751670        0.000087                1  "
      ]
     },
     "metadata": {},
     "output_type": "display_data"
    }
   ],
   "source": [
    "display(pd.DataFrame(clf.cv_results_))\n"
   ]
  },
  {
   "cell_type": "code",
   "execution_count": 56,
   "metadata": {},
   "outputs": [
    {
     "ename": "KeyError",
     "evalue": "\"None of [Int64Index([    0,     1,     2,     3,     4,     5,     7,     8,     9,\\n               10,\\n            ...\\n            30152, 30153, 30154, 30155, 30156, 30157, 30158, 30159, 30160,\\n            30161],\\n           dtype='int64', length=28151)] are in the [columns]\"",
     "output_type": "error",
     "traceback": [
      "\u001b[0;31m---------------------------------------------------------------------------\u001b[0m",
      "\u001b[0;31mKeyError\u001b[0m                                  Traceback (most recent call last)",
      "\u001b[1;32m/home/lucas/workspace/ac2-projeto-ic/so-execucao.ipynb Cell 18'\u001b[0m in \u001b[0;36m<cell line: 15>\u001b[0;34m()\u001b[0m\n\u001b[1;32m     <a href='vscode-notebook-cell:/home/lucas/workspace/ac2-projeto-ic/so-execucao.ipynb#ch0000017?line=13'>14</a>\u001b[0m \u001b[39m# Percorre cada iteração da Validação Cruzada\u001b[39;00m\n\u001b[1;32m     <a href='vscode-notebook-cell:/home/lucas/workspace/ac2-projeto-ic/so-execucao.ipynb#ch0000017?line=14'>15</a>\u001b[0m \u001b[39mfor\u001b[39;00m train_index, test_index \u001b[39min\u001b[39;00m kf\u001b[39m.\u001b[39msplit(X):\n\u001b[1;32m     <a href='vscode-notebook-cell:/home/lucas/workspace/ac2-projeto-ic/so-execucao.ipynb#ch0000017?line=15'>16</a>\u001b[0m     \n\u001b[1;32m     <a href='vscode-notebook-cell:/home/lucas/workspace/ac2-projeto-ic/so-execucao.ipynb#ch0000017?line=16'>17</a>\u001b[0m     \u001b[39m# Define os valores de treino e teste, baseado com a iteração da Validação Cruzada\u001b[39;00m\n\u001b[0;32m---> <a href='vscode-notebook-cell:/home/lucas/workspace/ac2-projeto-ic/so-execucao.ipynb#ch0000017?line=17'>18</a>\u001b[0m     X_train, X_test \u001b[39m=\u001b[39m X[train_index], X[test_index]\n\u001b[1;32m     <a href='vscode-notebook-cell:/home/lucas/workspace/ac2-projeto-ic/so-execucao.ipynb#ch0000017?line=18'>19</a>\u001b[0m     y_train, y_test \u001b[39m=\u001b[39m y[train_index], y[test_index]\n\u001b[1;32m     <a href='vscode-notebook-cell:/home/lucas/workspace/ac2-projeto-ic/so-execucao.ipynb#ch0000017?line=19'>20</a>\u001b[0m     \u001b[39m# Aplicação do modelo KNN e treinamento do mesmo\u001b[39;00m\n",
      "File \u001b[0;32m~/workspace/ac2-projeto-ic/.venv/lib/python3.8/site-packages/pandas/core/frame.py:3511\u001b[0m, in \u001b[0;36mDataFrame.__getitem__\u001b[0;34m(self, key)\u001b[0m\n\u001b[1;32m   <a href='file:///home/lucas/workspace/ac2-projeto-ic/.venv/lib/python3.8/site-packages/pandas/core/frame.py?line=3508'>3509</a>\u001b[0m     \u001b[39mif\u001b[39;00m is_iterator(key):\n\u001b[1;32m   <a href='file:///home/lucas/workspace/ac2-projeto-ic/.venv/lib/python3.8/site-packages/pandas/core/frame.py?line=3509'>3510</a>\u001b[0m         key \u001b[39m=\u001b[39m \u001b[39mlist\u001b[39m(key)\n\u001b[0;32m-> <a href='file:///home/lucas/workspace/ac2-projeto-ic/.venv/lib/python3.8/site-packages/pandas/core/frame.py?line=3510'>3511</a>\u001b[0m     indexer \u001b[39m=\u001b[39m \u001b[39mself\u001b[39;49m\u001b[39m.\u001b[39;49mcolumns\u001b[39m.\u001b[39;49m_get_indexer_strict(key, \u001b[39m\"\u001b[39;49m\u001b[39mcolumns\u001b[39;49m\u001b[39m\"\u001b[39;49m)[\u001b[39m1\u001b[39m]\n\u001b[1;32m   <a href='file:///home/lucas/workspace/ac2-projeto-ic/.venv/lib/python3.8/site-packages/pandas/core/frame.py?line=3512'>3513</a>\u001b[0m \u001b[39m# take() does not accept boolean indexers\u001b[39;00m\n\u001b[1;32m   <a href='file:///home/lucas/workspace/ac2-projeto-ic/.venv/lib/python3.8/site-packages/pandas/core/frame.py?line=3513'>3514</a>\u001b[0m \u001b[39mif\u001b[39;00m \u001b[39mgetattr\u001b[39m(indexer, \u001b[39m\"\u001b[39m\u001b[39mdtype\u001b[39m\u001b[39m\"\u001b[39m, \u001b[39mNone\u001b[39;00m) \u001b[39m==\u001b[39m \u001b[39mbool\u001b[39m:\n",
      "File \u001b[0;32m~/workspace/ac2-projeto-ic/.venv/lib/python3.8/site-packages/pandas/core/indexes/base.py:5782\u001b[0m, in \u001b[0;36mIndex._get_indexer_strict\u001b[0;34m(self, key, axis_name)\u001b[0m\n\u001b[1;32m   <a href='file:///home/lucas/workspace/ac2-projeto-ic/.venv/lib/python3.8/site-packages/pandas/core/indexes/base.py?line=5778'>5779</a>\u001b[0m \u001b[39melse\u001b[39;00m:\n\u001b[1;32m   <a href='file:///home/lucas/workspace/ac2-projeto-ic/.venv/lib/python3.8/site-packages/pandas/core/indexes/base.py?line=5779'>5780</a>\u001b[0m     keyarr, indexer, new_indexer \u001b[39m=\u001b[39m \u001b[39mself\u001b[39m\u001b[39m.\u001b[39m_reindex_non_unique(keyarr)\n\u001b[0;32m-> <a href='file:///home/lucas/workspace/ac2-projeto-ic/.venv/lib/python3.8/site-packages/pandas/core/indexes/base.py?line=5781'>5782</a>\u001b[0m \u001b[39mself\u001b[39;49m\u001b[39m.\u001b[39;49m_raise_if_missing(keyarr, indexer, axis_name)\n\u001b[1;32m   <a href='file:///home/lucas/workspace/ac2-projeto-ic/.venv/lib/python3.8/site-packages/pandas/core/indexes/base.py?line=5783'>5784</a>\u001b[0m keyarr \u001b[39m=\u001b[39m \u001b[39mself\u001b[39m\u001b[39m.\u001b[39mtake(indexer)\n\u001b[1;32m   <a href='file:///home/lucas/workspace/ac2-projeto-ic/.venv/lib/python3.8/site-packages/pandas/core/indexes/base.py?line=5784'>5785</a>\u001b[0m \u001b[39mif\u001b[39;00m \u001b[39misinstance\u001b[39m(key, Index):\n\u001b[1;32m   <a href='file:///home/lucas/workspace/ac2-projeto-ic/.venv/lib/python3.8/site-packages/pandas/core/indexes/base.py?line=5785'>5786</a>\u001b[0m     \u001b[39m# GH 42790 - Preserve name from an Index\u001b[39;00m\n",
      "File \u001b[0;32m~/workspace/ac2-projeto-ic/.venv/lib/python3.8/site-packages/pandas/core/indexes/base.py:5842\u001b[0m, in \u001b[0;36mIndex._raise_if_missing\u001b[0;34m(self, key, indexer, axis_name)\u001b[0m\n\u001b[1;32m   <a href='file:///home/lucas/workspace/ac2-projeto-ic/.venv/lib/python3.8/site-packages/pandas/core/indexes/base.py?line=5839'>5840</a>\u001b[0m     \u001b[39mif\u001b[39;00m use_interval_msg:\n\u001b[1;32m   <a href='file:///home/lucas/workspace/ac2-projeto-ic/.venv/lib/python3.8/site-packages/pandas/core/indexes/base.py?line=5840'>5841</a>\u001b[0m         key \u001b[39m=\u001b[39m \u001b[39mlist\u001b[39m(key)\n\u001b[0;32m-> <a href='file:///home/lucas/workspace/ac2-projeto-ic/.venv/lib/python3.8/site-packages/pandas/core/indexes/base.py?line=5841'>5842</a>\u001b[0m     \u001b[39mraise\u001b[39;00m \u001b[39mKeyError\u001b[39;00m(\u001b[39mf\u001b[39m\u001b[39m\"\u001b[39m\u001b[39mNone of [\u001b[39m\u001b[39m{\u001b[39;00mkey\u001b[39m}\u001b[39;00m\u001b[39m] are in the [\u001b[39m\u001b[39m{\u001b[39;00maxis_name\u001b[39m}\u001b[39;00m\u001b[39m]\u001b[39m\u001b[39m\"\u001b[39m)\n\u001b[1;32m   <a href='file:///home/lucas/workspace/ac2-projeto-ic/.venv/lib/python3.8/site-packages/pandas/core/indexes/base.py?line=5843'>5844</a>\u001b[0m not_found \u001b[39m=\u001b[39m \u001b[39mlist\u001b[39m(ensure_index(key)[missing_mask\u001b[39m.\u001b[39mnonzero()[\u001b[39m0\u001b[39m]]\u001b[39m.\u001b[39munique())\n\u001b[1;32m   <a href='file:///home/lucas/workspace/ac2-projeto-ic/.venv/lib/python3.8/site-packages/pandas/core/indexes/base.py?line=5844'>5845</a>\u001b[0m \u001b[39mraise\u001b[39;00m \u001b[39mKeyError\u001b[39;00m(\u001b[39mf\u001b[39m\u001b[39m\"\u001b[39m\u001b[39m{\u001b[39;00mnot_found\u001b[39m}\u001b[39;00m\u001b[39m not in index\u001b[39m\u001b[39m\"\u001b[39m)\n",
      "\u001b[0;31mKeyError\u001b[0m: \"None of [Int64Index([    0,     1,     2,     3,     4,     5,     7,     8,     9,\\n               10,\\n            ...\\n            30152, 30153, 30154, 30155, 30156, 30157, 30158, 30159, 30160,\\n            30161],\\n           dtype='int64', length=28151)] are in the [columns]\""
     ]
    }
   ],
   "source": [
    "from sklearn.model_selection import KFold\n",
    "from sklearn.neighbors import KNeighborsClassifier\n",
    " \n",
    "# Atribuição de valor de X e y\n",
    "X = df_c\n",
    "y = df[\"greater\"].values\n",
    " \n",
    "# Insere as informação desejadas para a realização da Validação Cruzada, no caso, com 15 divisões\n",
    "kf = KFold(n_splits = 15, random_state = 42, shuffle = True)\n",
    " \n",
    "# Inicializa vetor de scores, responsável por armazenar dados de cada iteração da Validação Cruzada\n",
    "scores = []\n",
    " \n",
    "# Percorre cada iteração da Validação Cruzada\n",
    "for train_index, test_index in kf.split(X):\n",
    "    \n",
    "    # Define os valores de treino e teste, baseado com a iteração da Validação Cruzada\n",
    "    X_train, X_test = X[train_index], X[test_index]\n",
    "    y_train, y_test = y[train_index], y[test_index]\n",
    "    # Aplicação do modelo KNN e treinamento do mesmo\n",
    "    modelo = KNeighborsClassifier(n_neighbors = 13)\n",
    "    modelo.fit(X_train, y_train)\n",
    "    # Aplicação da predição no modelo\n",
    "    y_pred = modelo.predict(X_test)\n",
    "    # Armazena os valores de cada iteração da Validação Cruzada\n",
    "    score = modelo.score(X_test, y_test)\n",
    "    scores.append(score)\n",
    " \n",
    "# Transforma em array os valores dos scores de forma padronizada\n",
    "scores = np.array(scores)\n",
    " \n",
    "# Printa a média e o desvio da padrão dos modelos encontrados, além de printar os scores encontrados\n"
   ]
  }
 ],
 "metadata": {
  "interpreter": {
   "hash": "fa6f34dd7144ca72c76a4f1b96991c2d2d642a5777194ef587676924069bb17a"
  },
  "kernelspec": {
   "display_name": "Python 3.8.10 ('.venv': venv)",
   "language": "python",
   "name": "python3"
  },
  "language_info": {
   "codemirror_mode": {
    "name": "ipython",
    "version": 3
   },
   "file_extension": ".py",
   "mimetype": "text/x-python",
   "name": "python",
   "nbconvert_exporter": "python",
   "pygments_lexer": "ipython3",
   "version": "3.8.10"
  },
  "orig_nbformat": 4
 },
 "nbformat": 4,
 "nbformat_minor": 2
}
