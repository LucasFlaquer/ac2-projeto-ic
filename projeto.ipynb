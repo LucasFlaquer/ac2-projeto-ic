{
  "cells": [
    {
      "cell_type": "markdown",
      "metadata": {
        "id": "i7H42UXk5euG"
      },
      "source": [
        "# Projeto\n",
        "## Integrantes do Grupo:\n",
        "  - Lucas Henrique Antoneli Flaquer - 180952\n",
        "  - Jean Augusto Bauch - 180375\n",
        "  - Vinícius Espinosa de Oliveira - 180853\n",
        "  - Samel Ferraz de Araujo - 180207"
      ]
    },
    {
      "cell_type": "markdown",
      "metadata": {
        "id": "4XoklK1b5euJ"
      },
      "source": [
        "# Sobre a Base de Dados\n",
        "\n",
        "Link da base: https://archive.ics.uci.edu/ml/datasets/Adult\n",
        "OBS: A base original possui apenas as linhas, sem o cabeçalho. Tivemos que colocar na mão para\n",
        "\n",
        "# Base Escolhida: Adult Data Set\n",
        "Uma base de dados que visa prever se a renda excede de 50k/ano dos cidadãos norte americanos de acordo com alguns parâmetros.\n",
        "\n",
        "## Atributos (Português)\n",
        "Idade, Classe operária, Peso, Escolaridade, Anos de escolaridade, Estado civil, Ocupação, Relação, Raça, Sexo, Ganho de capital, Perda de capital, Horas por semana, País de origem e a coluna se é ou não mais que 50k por ano.\n",
        "\n",
        "## Atributos e opções\n",
        "\n",
        "- age: continuous.\n",
        "- workclass: Private, Self-emp-not-inc, Self-emp-inc, Federal-gov, Local-gov, State-gov, Without-pay, Never-worked.\n",
        "- fnlwgt: continuous.\n",
        "- education: Bachelors, Some-college, 11th, HS-grad, Prof-school, Assoc-acdm, Assoc-voc, 9th, 7th-8th, 12th, Masters, 1st-4th, 10th, Doctorate, 5th-6th, Preschool.\n",
        "- education-num: continuous.\n",
        "- marital-status: Married-civ-spouse, Divorced, Never-married, Separated, Widowed, Married-spouse-absent, Married-AF-spouse.\n",
        "- occupation: Tech-support, Craft-repair, Other-service, Sales, Exec-managerial, Prof-specialty, Handlers-cleaners, Machine-op-inspct, Adm-clerical, Farming-fishing, Transport-moving, Priv-house-serv, Protective-serv, Armed-Forces.\n",
        "- relationship: Wife, Own-child, Husband, Not-in-family, Other-relative, Unmarried.\n",
        "- race: White, Asian-Pac-Islander, Amer-Indian-Eskimo, Other, Black.\n",
        "- sex: Female, Male.\n",
        "- capital-gain: continuous.\n",
        "- capital-loss: continuous.\n",
        "- hours-per-week: continuous.\n",
        "- native-country: United-States, Cambodia, England, Puerto-Rico, Canada, Germany, Outlying-US(Guam-USVI-etc), India, Japan, Greece, South, China, Cuba, Iran, Honduras, Philippines, Italy, Poland, Jamaica, Vietnam, Mexico, Portugal, Ireland, France, Dominican-Republic, Laos, Ecuador, Taiwan, Haiti, Columbia, Hungary, Guatemala, Nicaragua, Scotland, Thailand, Yugoslavia, El-Salvador, Trinadad&Tobago, Peru, Hong, Holand-Netherlands.\n",
        "isGreater50k: >50K, <=50K.\n",
        "\n",
        "## Breve explicação de alguns atributos\n",
        "\n",
        "Age Work-class Final-weight Education Education-num (Number of years of education) Marital-status Occupation Relationship Race Sex Capital-gain Capital-loss Hours-per-week Native-country The dependent variable is the “income-level” that represents the level of income. This is a categorical variable and thus it can only take two values:\n",
        "Final weight é o peso\n"
      ]
    },
    {
      "cell_type": "markdown",
      "source": [
        "# Configurando a base\n",
        "\n",
        "• Importar biblioteca para leitura da base\n",
        "\n",
        "• Ler e armazenar a base de dados em uma variável"
      ],
      "metadata": {
        "id": "QcKcx1JQ5pGz"
      }
    },
    {
      "cell_type": "code",
      "execution_count": 2,
      "metadata": {
        "colab": {
          "base_uri": "https://localhost:8080/",
          "height": 206
        },
        "id": "4oKxzOVi5euK",
        "outputId": "5877b30c-9df6-4221-993e-f25509e5c501"
      },
      "outputs": [
        {
          "output_type": "execute_result",
          "data": {
            "text/plain": [
              "   age          workclass  fnlwgt   education  education-num  \\\n",
              "0   39          State-gov   77516   Bachelors             13   \n",
              "1   50   Self-emp-not-inc   83311   Bachelors             13   \n",
              "2   38            Private  215646     HS-grad              9   \n",
              "3   53            Private  234721        11th              7   \n",
              "4   28            Private  338409   Bachelors             13   \n",
              "\n",
              "        marital-status           ocupation    relationship    race      sex  \\\n",
              "0        Never-married        Adm-clerical   Not-in-family   White     Male   \n",
              "1   Married-civ-spouse     Exec-managerial         Husband   White     Male   \n",
              "2             Divorced   Handlers-cleaners   Not-in-family   White     Male   \n",
              "3   Married-civ-spouse   Handlers-cleaners         Husband   Black     Male   \n",
              "4   Married-civ-spouse      Prof-specialty            Wife   Black   Female   \n",
              "\n",
              "   capital-gain  capital-loss  hours-per-week  native-country greater  \n",
              "0          2174             0              40   United-States   <=50K  \n",
              "1             0             0              13   United-States   <=50K  \n",
              "2             0             0              40   United-States   <=50K  \n",
              "3             0             0              40   United-States   <=50K  \n",
              "4             0             0              40            Cuba   <=50K  "
            ],
            "text/html": [
              "\n",
              "  <div id=\"df-72ea3f0a-72b6-46c1-b508-4182426d12f3\">\n",
              "    <div class=\"colab-df-container\">\n",
              "      <div>\n",
              "<style scoped>\n",
              "    .dataframe tbody tr th:only-of-type {\n",
              "        vertical-align: middle;\n",
              "    }\n",
              "\n",
              "    .dataframe tbody tr th {\n",
              "        vertical-align: top;\n",
              "    }\n",
              "\n",
              "    .dataframe thead th {\n",
              "        text-align: right;\n",
              "    }\n",
              "</style>\n",
              "<table border=\"1\" class=\"dataframe\">\n",
              "  <thead>\n",
              "    <tr style=\"text-align: right;\">\n",
              "      <th></th>\n",
              "      <th>age</th>\n",
              "      <th>workclass</th>\n",
              "      <th>fnlwgt</th>\n",
              "      <th>education</th>\n",
              "      <th>education-num</th>\n",
              "      <th>marital-status</th>\n",
              "      <th>ocupation</th>\n",
              "      <th>relationship</th>\n",
              "      <th>race</th>\n",
              "      <th>sex</th>\n",
              "      <th>capital-gain</th>\n",
              "      <th>capital-loss</th>\n",
              "      <th>hours-per-week</th>\n",
              "      <th>native-country</th>\n",
              "      <th>greater</th>\n",
              "    </tr>\n",
              "  </thead>\n",
              "  <tbody>\n",
              "    <tr>\n",
              "      <th>0</th>\n",
              "      <td>39</td>\n",
              "      <td>State-gov</td>\n",
              "      <td>77516</td>\n",
              "      <td>Bachelors</td>\n",
              "      <td>13</td>\n",
              "      <td>Never-married</td>\n",
              "      <td>Adm-clerical</td>\n",
              "      <td>Not-in-family</td>\n",
              "      <td>White</td>\n",
              "      <td>Male</td>\n",
              "      <td>2174</td>\n",
              "      <td>0</td>\n",
              "      <td>40</td>\n",
              "      <td>United-States</td>\n",
              "      <td>&lt;=50K</td>\n",
              "    </tr>\n",
              "    <tr>\n",
              "      <th>1</th>\n",
              "      <td>50</td>\n",
              "      <td>Self-emp-not-inc</td>\n",
              "      <td>83311</td>\n",
              "      <td>Bachelors</td>\n",
              "      <td>13</td>\n",
              "      <td>Married-civ-spouse</td>\n",
              "      <td>Exec-managerial</td>\n",
              "      <td>Husband</td>\n",
              "      <td>White</td>\n",
              "      <td>Male</td>\n",
              "      <td>0</td>\n",
              "      <td>0</td>\n",
              "      <td>13</td>\n",
              "      <td>United-States</td>\n",
              "      <td>&lt;=50K</td>\n",
              "    </tr>\n",
              "    <tr>\n",
              "      <th>2</th>\n",
              "      <td>38</td>\n",
              "      <td>Private</td>\n",
              "      <td>215646</td>\n",
              "      <td>HS-grad</td>\n",
              "      <td>9</td>\n",
              "      <td>Divorced</td>\n",
              "      <td>Handlers-cleaners</td>\n",
              "      <td>Not-in-family</td>\n",
              "      <td>White</td>\n",
              "      <td>Male</td>\n",
              "      <td>0</td>\n",
              "      <td>0</td>\n",
              "      <td>40</td>\n",
              "      <td>United-States</td>\n",
              "      <td>&lt;=50K</td>\n",
              "    </tr>\n",
              "    <tr>\n",
              "      <th>3</th>\n",
              "      <td>53</td>\n",
              "      <td>Private</td>\n",
              "      <td>234721</td>\n",
              "      <td>11th</td>\n",
              "      <td>7</td>\n",
              "      <td>Married-civ-spouse</td>\n",
              "      <td>Handlers-cleaners</td>\n",
              "      <td>Husband</td>\n",
              "      <td>Black</td>\n",
              "      <td>Male</td>\n",
              "      <td>0</td>\n",
              "      <td>0</td>\n",
              "      <td>40</td>\n",
              "      <td>United-States</td>\n",
              "      <td>&lt;=50K</td>\n",
              "    </tr>\n",
              "    <tr>\n",
              "      <th>4</th>\n",
              "      <td>28</td>\n",
              "      <td>Private</td>\n",
              "      <td>338409</td>\n",
              "      <td>Bachelors</td>\n",
              "      <td>13</td>\n",
              "      <td>Married-civ-spouse</td>\n",
              "      <td>Prof-specialty</td>\n",
              "      <td>Wife</td>\n",
              "      <td>Black</td>\n",
              "      <td>Female</td>\n",
              "      <td>0</td>\n",
              "      <td>0</td>\n",
              "      <td>40</td>\n",
              "      <td>Cuba</td>\n",
              "      <td>&lt;=50K</td>\n",
              "    </tr>\n",
              "  </tbody>\n",
              "</table>\n",
              "</div>\n",
              "      <button class=\"colab-df-convert\" onclick=\"convertToInteractive('df-72ea3f0a-72b6-46c1-b508-4182426d12f3')\"\n",
              "              title=\"Convert this dataframe to an interactive table.\"\n",
              "              style=\"display:none;\">\n",
              "        \n",
              "  <svg xmlns=\"http://www.w3.org/2000/svg\" height=\"24px\"viewBox=\"0 0 24 24\"\n",
              "       width=\"24px\">\n",
              "    <path d=\"M0 0h24v24H0V0z\" fill=\"none\"/>\n",
              "    <path d=\"M18.56 5.44l.94 2.06.94-2.06 2.06-.94-2.06-.94-.94-2.06-.94 2.06-2.06.94zm-11 1L8.5 8.5l.94-2.06 2.06-.94-2.06-.94L8.5 2.5l-.94 2.06-2.06.94zm10 10l.94 2.06.94-2.06 2.06-.94-2.06-.94-.94-2.06-.94 2.06-2.06.94z\"/><path d=\"M17.41 7.96l-1.37-1.37c-.4-.4-.92-.59-1.43-.59-.52 0-1.04.2-1.43.59L10.3 9.45l-7.72 7.72c-.78.78-.78 2.05 0 2.83L4 21.41c.39.39.9.59 1.41.59.51 0 1.02-.2 1.41-.59l7.78-7.78 2.81-2.81c.8-.78.8-2.07 0-2.86zM5.41 20L4 18.59l7.72-7.72 1.47 1.35L5.41 20z\"/>\n",
              "  </svg>\n",
              "      </button>\n",
              "      \n",
              "  <style>\n",
              "    .colab-df-container {\n",
              "      display:flex;\n",
              "      flex-wrap:wrap;\n",
              "      gap: 12px;\n",
              "    }\n",
              "\n",
              "    .colab-df-convert {\n",
              "      background-color: #E8F0FE;\n",
              "      border: none;\n",
              "      border-radius: 50%;\n",
              "      cursor: pointer;\n",
              "      display: none;\n",
              "      fill: #1967D2;\n",
              "      height: 32px;\n",
              "      padding: 0 0 0 0;\n",
              "      width: 32px;\n",
              "    }\n",
              "\n",
              "    .colab-df-convert:hover {\n",
              "      background-color: #E2EBFA;\n",
              "      box-shadow: 0px 1px 2px rgba(60, 64, 67, 0.3), 0px 1px 3px 1px rgba(60, 64, 67, 0.15);\n",
              "      fill: #174EA6;\n",
              "    }\n",
              "\n",
              "    [theme=dark] .colab-df-convert {\n",
              "      background-color: #3B4455;\n",
              "      fill: #D2E3FC;\n",
              "    }\n",
              "\n",
              "    [theme=dark] .colab-df-convert:hover {\n",
              "      background-color: #434B5C;\n",
              "      box-shadow: 0px 1px 3px 1px rgba(0, 0, 0, 0.15);\n",
              "      filter: drop-shadow(0px 1px 2px rgba(0, 0, 0, 0.3));\n",
              "      fill: #FFFFFF;\n",
              "    }\n",
              "  </style>\n",
              "\n",
              "      <script>\n",
              "        const buttonEl =\n",
              "          document.querySelector('#df-72ea3f0a-72b6-46c1-b508-4182426d12f3 button.colab-df-convert');\n",
              "        buttonEl.style.display =\n",
              "          google.colab.kernel.accessAllowed ? 'block' : 'none';\n",
              "\n",
              "        async function convertToInteractive(key) {\n",
              "          const element = document.querySelector('#df-72ea3f0a-72b6-46c1-b508-4182426d12f3');\n",
              "          const dataTable =\n",
              "            await google.colab.kernel.invokeFunction('convertToInteractive',\n",
              "                                                     [key], {});\n",
              "          if (!dataTable) return;\n",
              "\n",
              "          const docLinkHtml = 'Like what you see? Visit the ' +\n",
              "            '<a target=\"_blank\" href=https://colab.research.google.com/notebooks/data_table.ipynb>data table notebook</a>'\n",
              "            + ' to learn more about interactive tables.';\n",
              "          element.innerHTML = '';\n",
              "          dataTable['output_type'] = 'display_data';\n",
              "          await google.colab.output.renderOutput(dataTable, element);\n",
              "          const docLink = document.createElement('div');\n",
              "          docLink.innerHTML = docLinkHtml;\n",
              "          element.appendChild(docLink);\n",
              "        }\n",
              "      </script>\n",
              "    </div>\n",
              "  </div>\n",
              "  "
            ]
          },
          "metadata": {},
          "execution_count": 2
        }
      ],
      "source": [
        "# Importar biblioteca pandas para leitura da base\n",
        "import pandas as pd\n",
        "\n",
        "# Ler base de dados e atribuir interrogação para os valores nulos\n",
        "df = pd.read_csv('adult.data')\n",
        "\n",
        "# Mostra os 5 primeiros dados da base\n",
        "df.head()"
      ]
    },
    {
      "cell_type": "markdown",
      "metadata": {
        "id": "Z8_4aNhu5euM"
      },
      "source": [
        "# Analise dos dados\n",
        "\n",
        "Primeiro foi feito a limpeza dos dados nulos. Como a quantidade de dados inválidos encontrados não eram expressivos, foi optado por remover todas as linhas que possuissem dados inválidos"
      ]
    },
    {
      "cell_type": "code",
      "execution_count": 3,
      "metadata": {
        "colab": {
          "base_uri": "https://localhost:8080/"
        },
        "id": "N6HeeWTX5euN",
        "outputId": "9ffe0a6d-39c8-441b-dc00-99b01377e8b9"
      },
      "outputs": [
        {
          "output_type": "execute_result",
          "data": {
            "text/plain": [
              "age               0\n",
              "workclass         0\n",
              "fnlwgt            0\n",
              "education         0\n",
              "education-num     0\n",
              "marital-status    0\n",
              "ocupation         0\n",
              "relationship      0\n",
              "race              0\n",
              "sex               0\n",
              "capital-gain      0\n",
              "capital-loss      0\n",
              "hours-per-week    0\n",
              "native-country    0\n",
              "greater           1\n",
              "dtype: int64"
            ]
          },
          "metadata": {},
          "execution_count": 3
        }
      ],
      "source": [
        "# Somando os valores nulos\n",
        "df.isna().sum()"
      ]
    },
    {
      "cell_type": "code",
      "execution_count": 4,
      "metadata": {
        "colab": {
          "base_uri": "https://localhost:8080/"
        },
        "id": "hmHvKEi45euO",
        "outputId": "7c3f367b-135c-42a7-e67d-48d55cf1365e"
      },
      "outputs": [
        {
          "output_type": "stream",
          "name": "stdout",
          "text": [
            "(25565, 15)\n"
          ]
        }
      ],
      "source": [
        "# Mostrando a forma (Linhas x Colunas) da base de dados\n",
        "print(df.shape)"
      ]
    },
    {
      "cell_type": "code",
      "execution_count": 5,
      "metadata": {
        "colab": {
          "base_uri": "https://localhost:8080/"
        },
        "id": "NehQiFgE5euO",
        "outputId": "ede198e1-8e89-4e79-c8f9-721ca185f045"
      },
      "outputs": [
        {
          "output_type": "stream",
          "name": "stdout",
          "text": [
            "(25564, 15)\n"
          ]
        }
      ],
      "source": [
        "# Eliminando as linhas com dados nulos\n",
        "df = df.dropna()\n",
        "\n",
        "# Mostrando a forma (Linhas x Colunas) após remover as linhas vazias\n",
        "print(df.shape)"
      ]
    },
    {
      "cell_type": "markdown",
      "metadata": {
        "id": "GG6ou_J85euO"
      },
      "source": [
        "descrever que sera feita a analise para ver o balanceamento da base \n"
      ]
    },
    {
      "cell_type": "code",
      "execution_count": null,
      "metadata": {
        "id": "wN4uH-kZ5euP"
      },
      "outputs": [],
      "source": [
        "import seaborn as sns\n",
        "import matplotlib.pyplot as plt"
      ]
    },
    {
      "cell_type": "markdown",
      "metadata": {
        "id": "Gk5wG6Jo5euP"
      },
      "source": [
        "## Gráfico com frequẽncia de renda\n",
        "O gráfico plotado abaixo mostra como a base de dados é desbalanceada onde boa parte dos registros são de pessoas com uma renda inferior a 50k/ano"
      ]
    },
    {
      "cell_type": "code",
      "execution_count": null,
      "metadata": {
        "id": "dGv4z6yW5euP",
        "outputId": "5d1e69d9-85d2-4a33-f332-71b8a8ad64b2"
      },
      "outputs": [
        {
          "data": {
            "image/png": "[encoded data removed]",
            "text/plain": [
              "<Figure size 432x288 with 1 Axes>"
            ]
          },
          "metadata": {
            "needs_background": "light"
          },
          "output_type": "display_data"
        }
      ],
      "source": [
        "# dfformatted = df.greater.map({' <=50K': 0, ' >50K': 1})\n",
        "sns.countplot(x=\"greater\", data=df)\n",
        "plt.show()\n"
      ]
    },
    {
      "cell_type": "code",
      "execution_count": null,
      "metadata": {
        "id": "qtUucnXr5euQ",
        "outputId": "271acaf9-ce6c-4a30-888e-4bd24318d1b6"
      },
      "outputs": [
        {
          "name": "stdout",
          "output_type": "stream",
          "text": [
            "greater  hours-per-week\n",
            " <=50K   40                11141\n",
            "         50                 1481\n",
            "         45                 1083\n",
            "         35                 1002\n",
            "         20                  986\n",
            "                           ...  \n",
            " >50K    73                    1\n",
            "         89                    1\n",
            "         95                    1\n",
            "         96                    1\n",
            "         97                    1\n",
            "Name: hours-per-week, Length: 173, dtype: int64\n"
          ]
        },
        {
          "data": {
            "text/plain": [
              "<AxesSubplot:xlabel='greater,hours-per-week'>"
            ]
          },
          "execution_count": 25,
          "metadata": {},
          "output_type": "execute_result"
        },
        {
          "data": {
            "image/png": "[encoded data removed]",
            "text/plain": [
              "<Figure size 432x288 with 1 Axes>"
            ]
          },
          "metadata": {
            "needs_background": "light"
          },
          "output_type": "display_data"
        }
      ],
      "source": [
        "column = 'hours-per-week'\n",
        "dfNativeCountry = df[[column, 'greater']]\n",
        "dfTableMC = dfNativeCountry.groupby('greater')[column].value_counts()\n",
        "print(dfTableMC)\n",
        "dfTableMC.plot()\n"
      ]
    },
    {
      "cell_type": "code",
      "execution_count": null,
      "metadata": {
        "id": "_ZKD4HTJ5euR",
        "outputId": "9913d02d-84bb-4daf-def8-d4f632273a13"
      },
      "outputs": [
        {
          "name": "stdout",
          "output_type": "stream",
          "text": [
            "greater  ocupation         \n",
            " <=50K    Adm-clerical         3223\n",
            "          Craft-repair         3122\n",
            "          Other-service        3080\n",
            "          Sales                2614\n",
            "          Prof-specialty       2227\n",
            "          Exec-managerial      2055\n",
            "          Machine-op-inspct    1721\n",
            "          Handlers-cleaners    1267\n",
            "          Transport-moving     1253\n",
            "          Farming-fishing       874\n",
            "          Tech-support          634\n",
            "          Protective-serv       434\n",
            "          Priv-house-serv       142\n",
            "          Armed-Forces            8\n",
            " >50K     Exec-managerial      1937\n",
            "          Prof-specialty       1811\n",
            "          Sales                 970\n",
            "          Craft-repair          908\n",
            "          Adm-clerical          498\n",
            "          Transport-moving      319\n",
            "          Tech-support          278\n",
            "          Machine-op-inspct     245\n",
            "          Protective-serv       210\n",
            "          Other-service         132\n",
            "          Farming-fishing       115\n",
            "          Handlers-cleaners      83\n",
            "          Armed-Forces            1\n",
            "          Priv-house-serv         1\n",
            "Name: ocupation, dtype: int64\n"
          ]
        },
        {
          "data": {
            "text/plain": [
              "<AxesSubplot:ylabel='greater,ocupation'>"
            ]
          },
          "execution_count": 26,
          "metadata": {},
          "output_type": "execute_result"
        },
        {
          "data": {
            "image/png": "[encoded data removed]",
            "text/plain": [
              "<Figure size 432x288 with 1 Axes>"
            ]
          },
          "metadata": {
            "needs_background": "light"
          },
          "output_type": "display_data"
        }
      ],
      "source": [
        "column = 'ocupation'\n",
        "dfNativeCountry = df[[column, 'greater']]\n",
        "dfTableMC = dfNativeCountry.groupby('greater')[column].value_counts()\n",
        "print(dfTableMC)\n",
        "dfTableMC.plot(kind='barh')\n"
      ]
    },
    {
      "cell_type": "code",
      "execution_count": null,
      "metadata": {
        "id": "o44vbqYU5euS",
        "outputId": "8df9c418-51f9-49ba-e7a1-c23cdb60acec"
      },
      "outputs": [
        {
          "ename": "TypeError",
          "evalue": "'data' must be pandas DataFrame object, not: <class 'pandas.core.series.Series'>",
          "output_type": "error",
          "traceback": [
            "\u001b[0;31m---------------------------------------------------------------------------\u001b[0m",
            "\u001b[0;31mTypeError\u001b[0m                                 Traceback (most recent call last)",
            "\u001b[1;32m/home/lucas/workspace/ac2-projeto-ic/projeto.ipynb Cell 14'\u001b[0m in \u001b[0;36m<cell line: 3>\u001b[0;34m()\u001b[0m\n\u001b[1;32m      <a href='vscode-notebook-cell:/home/lucas/workspace/ac2-projeto-ic/projeto.ipynb#ch0000013?line=0'>1</a>\u001b[0m dfFormatted \u001b[39m=\u001b[39m df[\u001b[39m'\u001b[39m\u001b[39mgreater\u001b[39m\u001b[39m'\u001b[39m] \u001b[39m==\u001b[39m \u001b[39m'\u001b[39m\u001b[39m>50K\u001b[39m\u001b[39m'\u001b[39m\n\u001b[1;32m      <a href='vscode-notebook-cell:/home/lucas/workspace/ac2-projeto-ic/projeto.ipynb#ch0000013?line=1'>2</a>\u001b[0m get_ipython()\u001b[39m.\u001b[39mrun_line_magic(\u001b[39m'\u001b[39m\u001b[39mmatplotlib\u001b[39m\u001b[39m'\u001b[39m, \u001b[39m'\u001b[39m\u001b[39minline\u001b[39m\u001b[39m'\u001b[39m)\n\u001b[0;32m----> <a href='vscode-notebook-cell:/home/lucas/workspace/ac2-projeto-ic/projeto.ipynb#ch0000013?line=2'>3</a>\u001b[0m sns\u001b[39m.\u001b[39;49mpairplot(dfFormatted, x_vars\u001b[39m=\u001b[39;49m[\u001b[39m'\u001b[39;49m\u001b[39mage\u001b[39;49m\u001b[39m'\u001b[39;49m, \u001b[39m'\u001b[39;49m\u001b[39meducation-num\u001b[39;49m\u001b[39m'\u001b[39;49m], y_vars\u001b[39m=\u001b[39;49m\u001b[39m'\u001b[39;49m\u001b[39msex\u001b[39;49m\u001b[39m'\u001b[39;49m, aspect\u001b[39m=\u001b[39;49m\u001b[39m0.7\u001b[39;49m, kind\u001b[39m=\u001b[39;49m\u001b[39m'\u001b[39;49m\u001b[39mreg\u001b[39;49m\u001b[39m'\u001b[39;49m)\n",
            "File \u001b[0;32m~/workspace/ac2-projeto-ic/.venv/lib/python3.8/site-packages/seaborn/_decorators.py:46\u001b[0m, in \u001b[0;36m_deprecate_positional_args.<locals>.inner_f\u001b[0;34m(*args, **kwargs)\u001b[0m\n\u001b[1;32m     <a href='file:///home/lucas/workspace/ac2-projeto-ic/.venv/lib/python3.8/site-packages/seaborn/_decorators.py?line=35'>36</a>\u001b[0m     warnings\u001b[39m.\u001b[39mwarn(\n\u001b[1;32m     <a href='file:///home/lucas/workspace/ac2-projeto-ic/.venv/lib/python3.8/site-packages/seaborn/_decorators.py?line=36'>37</a>\u001b[0m         \u001b[39m\"\u001b[39m\u001b[39mPass the following variable\u001b[39m\u001b[39m{}\u001b[39;00m\u001b[39m as \u001b[39m\u001b[39m{}\u001b[39;00m\u001b[39mkeyword arg\u001b[39m\u001b[39m{}\u001b[39;00m\u001b[39m: \u001b[39m\u001b[39m{}\u001b[39;00m\u001b[39m. \u001b[39m\u001b[39m\"\u001b[39m\n\u001b[1;32m     <a href='file:///home/lucas/workspace/ac2-projeto-ic/.venv/lib/python3.8/site-packages/seaborn/_decorators.py?line=37'>38</a>\u001b[0m         \u001b[39m\"\u001b[39m\u001b[39mFrom version 0.12, the only valid positional argument \u001b[39m\u001b[39m\"\u001b[39m\n\u001b[0;32m   (...)\u001b[0m\n\u001b[1;32m     <a href='file:///home/lucas/workspace/ac2-projeto-ic/.venv/lib/python3.8/site-packages/seaborn/_decorators.py?line=42'>43</a>\u001b[0m         \u001b[39mFutureWarning\u001b[39;00m\n\u001b[1;32m     <a href='file:///home/lucas/workspace/ac2-projeto-ic/.venv/lib/python3.8/site-packages/seaborn/_decorators.py?line=43'>44</a>\u001b[0m     )\n\u001b[1;32m     <a href='file:///home/lucas/workspace/ac2-projeto-ic/.venv/lib/python3.8/site-packages/seaborn/_decorators.py?line=44'>45</a>\u001b[0m kwargs\u001b[39m.\u001b[39mupdate({k: arg \u001b[39mfor\u001b[39;00m k, arg \u001b[39min\u001b[39;00m \u001b[39mzip\u001b[39m(sig\u001b[39m.\u001b[39mparameters, args)})\n\u001b[0;32m---> <a href='file:///home/lucas/workspace/ac2-projeto-ic/.venv/lib/python3.8/site-packages/seaborn/_decorators.py?line=45'>46</a>\u001b[0m \u001b[39mreturn\u001b[39;00m f(\u001b[39m*\u001b[39;49m\u001b[39m*\u001b[39;49mkwargs)\n",
            "File \u001b[0;32m~/workspace/ac2-projeto-ic/.venv/lib/python3.8/site-packages/seaborn/axisgrid.py:2079\u001b[0m, in \u001b[0;36mpairplot\u001b[0;34m(data, hue, hue_order, palette, vars, x_vars, y_vars, kind, diag_kind, markers, height, aspect, corner, dropna, plot_kws, diag_kws, grid_kws, size)\u001b[0m\n\u001b[1;32m   <a href='file:///home/lucas/workspace/ac2-projeto-ic/.venv/lib/python3.8/site-packages/seaborn/axisgrid.py?line=2075'>2076</a>\u001b[0m     warnings\u001b[39m.\u001b[39mwarn(msg, \u001b[39mUserWarning\u001b[39;00m)\n\u001b[1;32m   <a href='file:///home/lucas/workspace/ac2-projeto-ic/.venv/lib/python3.8/site-packages/seaborn/axisgrid.py?line=2077'>2078</a>\u001b[0m \u001b[39mif\u001b[39;00m \u001b[39mnot\u001b[39;00m \u001b[39misinstance\u001b[39m(data, pd\u001b[39m.\u001b[39mDataFrame):\n\u001b[0;32m-> <a href='file:///home/lucas/workspace/ac2-projeto-ic/.venv/lib/python3.8/site-packages/seaborn/axisgrid.py?line=2078'>2079</a>\u001b[0m     \u001b[39mraise\u001b[39;00m \u001b[39mTypeError\u001b[39;00m(\n\u001b[1;32m   <a href='file:///home/lucas/workspace/ac2-projeto-ic/.venv/lib/python3.8/site-packages/seaborn/axisgrid.py?line=2079'>2080</a>\u001b[0m         \u001b[39m\"\u001b[39m\u001b[39m'\u001b[39m\u001b[39mdata\u001b[39m\u001b[39m'\u001b[39m\u001b[39m must be pandas DataFrame object, not: \u001b[39m\u001b[39m{typefound}\u001b[39;00m\u001b[39m\"\u001b[39m\u001b[39m.\u001b[39mformat(\n\u001b[1;32m   <a href='file:///home/lucas/workspace/ac2-projeto-ic/.venv/lib/python3.8/site-packages/seaborn/axisgrid.py?line=2080'>2081</a>\u001b[0m             typefound\u001b[39m=\u001b[39m\u001b[39mtype\u001b[39m(data)))\n\u001b[1;32m   <a href='file:///home/lucas/workspace/ac2-projeto-ic/.venv/lib/python3.8/site-packages/seaborn/axisgrid.py?line=2082'>2083</a>\u001b[0m plot_kws \u001b[39m=\u001b[39m {} \u001b[39mif\u001b[39;00m plot_kws \u001b[39mis\u001b[39;00m \u001b[39mNone\u001b[39;00m \u001b[39melse\u001b[39;00m plot_kws\u001b[39m.\u001b[39mcopy()\n\u001b[1;32m   <a href='file:///home/lucas/workspace/ac2-projeto-ic/.venv/lib/python3.8/site-packages/seaborn/axisgrid.py?line=2083'>2084</a>\u001b[0m diag_kws \u001b[39m=\u001b[39m {} \u001b[39mif\u001b[39;00m diag_kws \u001b[39mis\u001b[39;00m \u001b[39mNone\u001b[39;00m \u001b[39melse\u001b[39;00m diag_kws\u001b[39m.\u001b[39mcopy()\n",
            "\u001b[0;31mTypeError\u001b[0m: 'data' must be pandas DataFrame object, not: <class 'pandas.core.series.Series'>"
          ]
        }
      ],
      "source": [
        "dfFormatted = df['greater'] == '>50K'\n",
        "%matplotlib inline\n",
        "sns.pairplot(dfFormatted, x_vars=['age', 'education-num'], y_vars='sex', aspect=0.7, kind='reg')\n"
      ]
    },
    {
      "cell_type": "code",
      "execution_count": null,
      "metadata": {
        "id": "EUi62x0e5euS",
        "outputId": "f4c67c01-bdc4-484a-f369-5ac97ffca033"
      },
      "outputs": [
        {
          "data": {
            "text/html": [
              "<div>\n",
              "<style scoped>\n",
              "    .dataframe tbody tr th:only-of-type {\n",
              "        vertical-align: middle;\n",
              "    }\n",
              "\n",
              "    .dataframe tbody tr th {\n",
              "        vertical-align: top;\n",
              "    }\n",
              "\n",
              "    .dataframe thead th {\n",
              "        text-align: right;\n",
              "    }\n",
              "</style>\n",
              "<table border=\"1\" class=\"dataframe\">\n",
              "  <thead>\n",
              "    <tr style=\"text-align: right;\">\n",
              "      <th></th>\n",
              "      <th>age</th>\n",
              "      <th>fnlwgt</th>\n",
              "      <th>education-num</th>\n",
              "      <th>capital-gain</th>\n",
              "      <th>capital-loss</th>\n",
              "      <th>hours-per-week</th>\n",
              "    </tr>\n",
              "  </thead>\n",
              "  <tbody>\n",
              "    <tr>\n",
              "      <th>count</th>\n",
              "      <td>30162.000000</td>\n",
              "      <td>3.016200e+04</td>\n",
              "      <td>30162.000000</td>\n",
              "      <td>30162.000000</td>\n",
              "      <td>30162.000000</td>\n",
              "      <td>30162.000000</td>\n",
              "    </tr>\n",
              "    <tr>\n",
              "      <th>mean</th>\n",
              "      <td>38.437902</td>\n",
              "      <td>1.897938e+05</td>\n",
              "      <td>10.121312</td>\n",
              "      <td>1092.007858</td>\n",
              "      <td>88.372489</td>\n",
              "      <td>40.931238</td>\n",
              "    </tr>\n",
              "    <tr>\n",
              "      <th>std</th>\n",
              "      <td>13.134665</td>\n",
              "      <td>1.056530e+05</td>\n",
              "      <td>2.549995</td>\n",
              "      <td>7406.346497</td>\n",
              "      <td>404.298370</td>\n",
              "      <td>11.979984</td>\n",
              "    </tr>\n",
              "    <tr>\n",
              "      <th>min</th>\n",
              "      <td>17.000000</td>\n",
              "      <td>1.376900e+04</td>\n",
              "      <td>1.000000</td>\n",
              "      <td>0.000000</td>\n",
              "      <td>0.000000</td>\n",
              "      <td>1.000000</td>\n",
              "    </tr>\n",
              "    <tr>\n",
              "      <th>25%</th>\n",
              "      <td>28.000000</td>\n",
              "      <td>1.176272e+05</td>\n",
              "      <td>9.000000</td>\n",
              "      <td>0.000000</td>\n",
              "      <td>0.000000</td>\n",
              "      <td>40.000000</td>\n",
              "    </tr>\n",
              "    <tr>\n",
              "      <th>50%</th>\n",
              "      <td>37.000000</td>\n",
              "      <td>1.784250e+05</td>\n",
              "      <td>10.000000</td>\n",
              "      <td>0.000000</td>\n",
              "      <td>0.000000</td>\n",
              "      <td>40.000000</td>\n",
              "    </tr>\n",
              "    <tr>\n",
              "      <th>75%</th>\n",
              "      <td>47.000000</td>\n",
              "      <td>2.376285e+05</td>\n",
              "      <td>13.000000</td>\n",
              "      <td>0.000000</td>\n",
              "      <td>0.000000</td>\n",
              "      <td>45.000000</td>\n",
              "    </tr>\n",
              "    <tr>\n",
              "      <th>max</th>\n",
              "      <td>90.000000</td>\n",
              "      <td>1.484705e+06</td>\n",
              "      <td>16.000000</td>\n",
              "      <td>99999.000000</td>\n",
              "      <td>4356.000000</td>\n",
              "      <td>99.000000</td>\n",
              "    </tr>\n",
              "  </tbody>\n",
              "</table>\n",
              "</div>"
            ],
            "text/plain": [
              "                age        fnlwgt  education-num  capital-gain  capital-loss  \\\n",
              "count  30162.000000  3.016200e+04   30162.000000  30162.000000  30162.000000   \n",
              "mean      38.437902  1.897938e+05      10.121312   1092.007858     88.372489   \n",
              "std       13.134665  1.056530e+05       2.549995   7406.346497    404.298370   \n",
              "min       17.000000  1.376900e+04       1.000000      0.000000      0.000000   \n",
              "25%       28.000000  1.176272e+05       9.000000      0.000000      0.000000   \n",
              "50%       37.000000  1.784250e+05      10.000000      0.000000      0.000000   \n",
              "75%       47.000000  2.376285e+05      13.000000      0.000000      0.000000   \n",
              "max       90.000000  1.484705e+06      16.000000  99999.000000   4356.000000   \n",
              "\n",
              "       hours-per-week  \n",
              "count    30162.000000  \n",
              "mean        40.931238  \n",
              "std         11.979984  \n",
              "min          1.000000  \n",
              "25%         40.000000  \n",
              "50%         40.000000  \n",
              "75%         45.000000  \n",
              "max         99.000000  "
            ]
          },
          "execution_count": 27,
          "metadata": {},
          "output_type": "execute_result"
        }
      ],
      "source": [
        "df['sex'] = df['sex'] == 'Male'\n",
        "df.describe()"
      ]
    },
    {
      "cell_type": "code",
      "execution_count": null,
      "metadata": {
        "id": "LSkvyTOR5euT"
      },
      "outputs": [],
      "source": [
        "from sklearn.utils import shuffle\n",
        "\n",
        "df = shuffle(df, random_state=42)"
      ]
    },
    {
      "cell_type": "code",
      "execution_count": null,
      "metadata": {
        "id": "CnFZqmha5euU",
        "outputId": "7467120f-ad2c-4f3b-b098-ae5fe327ddb8"
      },
      "outputs": [
        {
          "data": {
            "text/html": [
              "<div>\n",
              "<style scoped>\n",
              "    .dataframe tbody tr th:only-of-type {\n",
              "        vertical-align: middle;\n",
              "    }\n",
              "\n",
              "    .dataframe tbody tr th {\n",
              "        vertical-align: top;\n",
              "    }\n",
              "\n",
              "    .dataframe thead th {\n",
              "        text-align: right;\n",
              "    }\n",
              "</style>\n",
              "<table border=\"1\" class=\"dataframe\">\n",
              "  <thead>\n",
              "    <tr style=\"text-align: right;\">\n",
              "      <th></th>\n",
              "      <th>age</th>\n",
              "      <th>workclass</th>\n",
              "      <th>fnlwgt</th>\n",
              "      <th>education</th>\n",
              "      <th>education-num</th>\n",
              "      <th>marital-status</th>\n",
              "      <th>ocupation</th>\n",
              "      <th>relationship</th>\n",
              "      <th>race</th>\n",
              "      <th>sex</th>\n",
              "      <th>capital-gain</th>\n",
              "      <th>capital-loss</th>\n",
              "      <th>hours-per-week</th>\n",
              "      <th>native-country</th>\n",
              "      <th>greater</th>\n",
              "    </tr>\n",
              "  </thead>\n",
              "  <tbody>\n",
              "    <tr>\n",
              "      <th>234</th>\n",
              "      <td>28</td>\n",
              "      <td>Private</td>\n",
              "      <td>76714</td>\n",
              "      <td>Prof-school</td>\n",
              "      <td>15</td>\n",
              "      <td>Never-married</td>\n",
              "      <td>Prof-specialty</td>\n",
              "      <td>Not-in-family</td>\n",
              "      <td>White</td>\n",
              "      <td>False</td>\n",
              "      <td>0</td>\n",
              "      <td>0</td>\n",
              "      <td>55</td>\n",
              "      <td>United-States</td>\n",
              "      <td>&gt;50K</td>\n",
              "    </tr>\n",
              "    <tr>\n",
              "      <th>26879</th>\n",
              "      <td>41</td>\n",
              "      <td>Private</td>\n",
              "      <td>178431</td>\n",
              "      <td>HS-grad</td>\n",
              "      <td>9</td>\n",
              "      <td>Married-civ-spouse</td>\n",
              "      <td>Craft-repair</td>\n",
              "      <td>Husband</td>\n",
              "      <td>Asian-Pac-Islander</td>\n",
              "      <td>False</td>\n",
              "      <td>0</td>\n",
              "      <td>0</td>\n",
              "      <td>40</td>\n",
              "      <td>Taiwan</td>\n",
              "      <td>&lt;=50K</td>\n",
              "    </tr>\n",
              "    <tr>\n",
              "      <th>19182</th>\n",
              "      <td>53</td>\n",
              "      <td>Private</td>\n",
              "      <td>290640</td>\n",
              "      <td>HS-grad</td>\n",
              "      <td>9</td>\n",
              "      <td>Married-civ-spouse</td>\n",
              "      <td>Other-service</td>\n",
              "      <td>Husband</td>\n",
              "      <td>White</td>\n",
              "      <td>False</td>\n",
              "      <td>0</td>\n",
              "      <td>0</td>\n",
              "      <td>50</td>\n",
              "      <td>Germany</td>\n",
              "      <td>&gt;50K</td>\n",
              "    </tr>\n",
              "    <tr>\n",
              "      <th>13485</th>\n",
              "      <td>31</td>\n",
              "      <td>Private</td>\n",
              "      <td>215297</td>\n",
              "      <td>HS-grad</td>\n",
              "      <td>9</td>\n",
              "      <td>Married-civ-spouse</td>\n",
              "      <td>Craft-repair</td>\n",
              "      <td>Husband</td>\n",
              "      <td>White</td>\n",
              "      <td>False</td>\n",
              "      <td>0</td>\n",
              "      <td>0</td>\n",
              "      <td>45</td>\n",
              "      <td>United-States</td>\n",
              "      <td>&lt;=50K</td>\n",
              "    </tr>\n",
              "    <tr>\n",
              "      <th>9625</th>\n",
              "      <td>34</td>\n",
              "      <td>Local-gov</td>\n",
              "      <td>188682</td>\n",
              "      <td>Bachelors</td>\n",
              "      <td>13</td>\n",
              "      <td>Married-spouse-absent</td>\n",
              "      <td>Prof-specialty</td>\n",
              "      <td>Not-in-family</td>\n",
              "      <td>White</td>\n",
              "      <td>False</td>\n",
              "      <td>0</td>\n",
              "      <td>0</td>\n",
              "      <td>40</td>\n",
              "      <td>United-States</td>\n",
              "      <td>&lt;=50K</td>\n",
              "    </tr>\n",
              "  </tbody>\n",
              "</table>\n",
              "</div>"
            ],
            "text/plain": [
              "       age   workclass  fnlwgt     education  education-num  \\\n",
              "234     28     Private   76714   Prof-school             15   \n",
              "26879   41     Private  178431       HS-grad              9   \n",
              "19182   53     Private  290640       HS-grad              9   \n",
              "13485   31     Private  215297       HS-grad              9   \n",
              "9625    34   Local-gov  188682     Bachelors             13   \n",
              "\n",
              "               marital-status        ocupation    relationship  \\\n",
              "234             Never-married   Prof-specialty   Not-in-family   \n",
              "26879      Married-civ-spouse     Craft-repair         Husband   \n",
              "19182      Married-civ-spouse    Other-service         Husband   \n",
              "13485      Married-civ-spouse     Craft-repair         Husband   \n",
              "9625    Married-spouse-absent   Prof-specialty   Not-in-family   \n",
              "\n",
              "                      race    sex  capital-gain  capital-loss  hours-per-week  \\\n",
              "234                  White  False             0             0              55   \n",
              "26879   Asian-Pac-Islander  False             0             0              40   \n",
              "19182                White  False             0             0              50   \n",
              "13485                White  False             0             0              45   \n",
              "9625                 White  False             0             0              40   \n",
              "\n",
              "       native-country greater  \n",
              "234     United-States    >50K  \n",
              "26879          Taiwan   <=50K  \n",
              "19182         Germany    >50K  \n",
              "13485   United-States   <=50K  \n",
              "9625    United-States   <=50K  "
            ]
          },
          "execution_count": 29,
          "metadata": {},
          "output_type": "execute_result"
        }
      ],
      "source": [
        "df.head()"
      ]
    },
    {
      "cell_type": "code",
      "execution_count": null,
      "metadata": {
        "id": "_dZu6GQF5euV",
        "outputId": "ad7fa65d-6972-4848-84e3-d12466f22ba8"
      },
      "outputs": [
        {
          "name": "stdout",
          "output_type": "stream",
          "text": [
            "(9049, 15)\n",
            "(30062, 15)\n"
          ]
        }
      ],
      "source": [
        "treino = df[:9049].values\n",
        "teste = df[100:].values\n",
        "\n",
        "print(treino.shape)\n",
        "print(teste.shape)\n",
        "# 30162 * 0.3"
      ]
    },
    {
      "cell_type": "code",
      "execution_count": null,
      "metadata": {
        "id": "rkAhSctg5euV",
        "outputId": "62bfec9e-9705-493f-9cb1-2c0a197a844f"
      },
      "outputs": [
        {
          "data": {
            "text/html": [
              "<div>\n",
              "<style scoped>\n",
              "    .dataframe tbody tr th:only-of-type {\n",
              "        vertical-align: middle;\n",
              "    }\n",
              "\n",
              "    .dataframe tbody tr th {\n",
              "        vertical-align: top;\n",
              "    }\n",
              "\n",
              "    .dataframe thead th {\n",
              "        text-align: right;\n",
              "    }\n",
              "</style>\n",
              "<table border=\"1\" class=\"dataframe\">\n",
              "  <thead>\n",
              "    <tr style=\"text-align: right;\">\n",
              "      <th></th>\n",
              "      <th>age</th>\n",
              "      <th>fnlwgt</th>\n",
              "      <th>education-num</th>\n",
              "      <th>marital-status</th>\n",
              "      <th>ocupation</th>\n",
              "      <th>relationship</th>\n",
              "      <th>sex</th>\n",
              "      <th>capital-gain</th>\n",
              "      <th>capital-loss</th>\n",
              "      <th>hours-per-week</th>\n",
              "      <th>...</th>\n",
              "      <th>education_ 9th</th>\n",
              "      <th>education_ Assoc-acdm</th>\n",
              "      <th>education_ Assoc-voc</th>\n",
              "      <th>education_ Bachelors</th>\n",
              "      <th>education_ Doctorate</th>\n",
              "      <th>education_ HS-grad</th>\n",
              "      <th>education_ Masters</th>\n",
              "      <th>education_ Preschool</th>\n",
              "      <th>education_ Prof-school</th>\n",
              "      <th>education_ Some-college</th>\n",
              "    </tr>\n",
              "  </thead>\n",
              "  <tbody>\n",
              "    <tr>\n",
              "      <th>234</th>\n",
              "      <td>28</td>\n",
              "      <td>76714</td>\n",
              "      <td>15</td>\n",
              "      <td>Never-married</td>\n",
              "      <td>Prof-specialty</td>\n",
              "      <td>Not-in-family</td>\n",
              "      <td>False</td>\n",
              "      <td>0</td>\n",
              "      <td>0</td>\n",
              "      <td>55</td>\n",
              "      <td>...</td>\n",
              "      <td>0</td>\n",
              "      <td>0</td>\n",
              "      <td>0</td>\n",
              "      <td>0</td>\n",
              "      <td>0</td>\n",
              "      <td>0</td>\n",
              "      <td>0</td>\n",
              "      <td>0</td>\n",
              "      <td>1</td>\n",
              "      <td>0</td>\n",
              "    </tr>\n",
              "    <tr>\n",
              "      <th>26879</th>\n",
              "      <td>41</td>\n",
              "      <td>178431</td>\n",
              "      <td>9</td>\n",
              "      <td>Married-civ-spouse</td>\n",
              "      <td>Craft-repair</td>\n",
              "      <td>Husband</td>\n",
              "      <td>False</td>\n",
              "      <td>0</td>\n",
              "      <td>0</td>\n",
              "      <td>40</td>\n",
              "      <td>...</td>\n",
              "      <td>0</td>\n",
              "      <td>0</td>\n",
              "      <td>0</td>\n",
              "      <td>0</td>\n",
              "      <td>0</td>\n",
              "      <td>1</td>\n",
              "      <td>0</td>\n",
              "      <td>0</td>\n",
              "      <td>0</td>\n",
              "      <td>0</td>\n",
              "    </tr>\n",
              "    <tr>\n",
              "      <th>19182</th>\n",
              "      <td>53</td>\n",
              "      <td>290640</td>\n",
              "      <td>9</td>\n",
              "      <td>Married-civ-spouse</td>\n",
              "      <td>Other-service</td>\n",
              "      <td>Husband</td>\n",
              "      <td>False</td>\n",
              "      <td>0</td>\n",
              "      <td>0</td>\n",
              "      <td>50</td>\n",
              "      <td>...</td>\n",
              "      <td>0</td>\n",
              "      <td>0</td>\n",
              "      <td>0</td>\n",
              "      <td>0</td>\n",
              "      <td>0</td>\n",
              "      <td>1</td>\n",
              "      <td>0</td>\n",
              "      <td>0</td>\n",
              "      <td>0</td>\n",
              "      <td>0</td>\n",
              "    </tr>\n",
              "    <tr>\n",
              "      <th>13485</th>\n",
              "      <td>31</td>\n",
              "      <td>215297</td>\n",
              "      <td>9</td>\n",
              "      <td>Married-civ-spouse</td>\n",
              "      <td>Craft-repair</td>\n",
              "      <td>Husband</td>\n",
              "      <td>False</td>\n",
              "      <td>0</td>\n",
              "      <td>0</td>\n",
              "      <td>45</td>\n",
              "      <td>...</td>\n",
              "      <td>0</td>\n",
              "      <td>0</td>\n",
              "      <td>0</td>\n",
              "      <td>0</td>\n",
              "      <td>0</td>\n",
              "      <td>1</td>\n",
              "      <td>0</td>\n",
              "      <td>0</td>\n",
              "      <td>0</td>\n",
              "      <td>0</td>\n",
              "    </tr>\n",
              "    <tr>\n",
              "      <th>9625</th>\n",
              "      <td>34</td>\n",
              "      <td>188682</td>\n",
              "      <td>13</td>\n",
              "      <td>Married-spouse-absent</td>\n",
              "      <td>Prof-specialty</td>\n",
              "      <td>Not-in-family</td>\n",
              "      <td>False</td>\n",
              "      <td>0</td>\n",
              "      <td>0</td>\n",
              "      <td>40</td>\n",
              "      <td>...</td>\n",
              "      <td>0</td>\n",
              "      <td>0</td>\n",
              "      <td>0</td>\n",
              "      <td>1</td>\n",
              "      <td>0</td>\n",
              "      <td>0</td>\n",
              "      <td>0</td>\n",
              "      <td>0</td>\n",
              "      <td>0</td>\n",
              "      <td>0</td>\n",
              "    </tr>\n",
              "  </tbody>\n",
              "</table>\n",
              "<p>5 rows × 40 columns</p>\n",
              "</div>"
            ],
            "text/plain": [
              "       age  fnlwgt  education-num          marital-status        ocupation  \\\n",
              "234     28   76714             15           Never-married   Prof-specialty   \n",
              "26879   41  178431              9      Married-civ-spouse     Craft-repair   \n",
              "19182   53  290640              9      Married-civ-spouse    Other-service   \n",
              "13485   31  215297              9      Married-civ-spouse     Craft-repair   \n",
              "9625    34  188682             13   Married-spouse-absent   Prof-specialty   \n",
              "\n",
              "         relationship    sex  capital-gain  capital-loss  hours-per-week  ...  \\\n",
              "234     Not-in-family  False             0             0              55  ...   \n",
              "26879         Husband  False             0             0              40  ...   \n",
              "19182         Husband  False             0             0              50  ...   \n",
              "13485         Husband  False             0             0              45  ...   \n",
              "9625    Not-in-family  False             0             0              40  ...   \n",
              "\n",
              "      education_ 9th education_ Assoc-acdm  education_ Assoc-voc  \\\n",
              "234                0                     0                     0   \n",
              "26879              0                     0                     0   \n",
              "19182              0                     0                     0   \n",
              "13485              0                     0                     0   \n",
              "9625               0                     0                     0   \n",
              "\n",
              "       education_ Bachelors  education_ Doctorate  education_ HS-grad  \\\n",
              "234                       0                     0                   0   \n",
              "26879                     0                     0                   1   \n",
              "19182                     0                     0                   1   \n",
              "13485                     0                     0                   1   \n",
              "9625                      1                     0                   0   \n",
              "\n",
              "       education_ Masters  education_ Preschool  education_ Prof-school  \\\n",
              "234                     0                     0                       1   \n",
              "26879                   0                     0                       0   \n",
              "19182                   0                     0                       0   \n",
              "13485                   0                     0                       0   \n",
              "9625                    0                     0                       0   \n",
              "\n",
              "       education_ Some-college  \n",
              "234                          0  \n",
              "26879                        0  \n",
              "19182                        0  \n",
              "13485                        0  \n",
              "9625                         0  \n",
              "\n",
              "[5 rows x 40 columns]"
            ]
          },
          "execution_count": 34,
          "metadata": {},
          "output_type": "execute_result"
        }
      ],
      "source": [
        "# from sklearn.preprocessing import StandardScaler\n",
        "\n",
        "# Transforma em valor numérico, as colunas que contém texto\n",
        "df_c = pd.get_dummies(\n",
        "    df, columns=['race', 'workclass', 'education'])\n",
        "df_c.head()\n",
        "# Normalização\n",
        "# scaler = StandardScaler()\n",
        "# scaler.fit(df_c)\n",
        "# df_c = scaler.transform(df_c)\n"
      ]
    },
    {
      "cell_type": "code",
      "execution_count": null,
      "metadata": {
        "id": "ruA1S_G55euW",
        "outputId": "7a5eb353-0a4d-4518-826f-990e9d1a8a78"
      },
      "outputs": [
        {
          "data": {
            "text/plain": [
              "(30162, 7)"
            ]
          },
          "execution_count": 35,
          "metadata": {},
          "output_type": "execute_result"
        }
      ],
      "source": [
        "from sklearn.model_selection import train_test_split\n",
        "\n",
        "X = df.drop(columns=['greater', 'race', 'workclass', 'education', 'native-country', 'marital-status', 'ocupation', 'relationship'])\n",
        "y = df.greater\n",
        "\n",
        "X_train, X_test, y_train, y_test = train_test_split(\n",
        "    X, y, test_size=0.33, random_state=42)\n",
        "X.shape"
      ]
    },
    {
      "cell_type": "code",
      "execution_count": null,
      "metadata": {
        "id": "ok05370U5euW",
        "outputId": "7de27af2-fd3f-49f2-d93d-6b2a0fab5f87"
      },
      "outputs": [
        {
          "name": "stdout",
          "output_type": "stream",
          "text": [
            "Quantas amostras de treino sobraram: 7612\n",
            "Acurácia: 75.33654812135825\n"
          ]
        }
      ],
      "source": [
        "# ELIMINACAO SEQUENCIAL\n",
        "\n",
        "from sklearn.neighbors import KNeighborsClassifier\n",
        "import numpy as np\n",
        "import warnings\n",
        "warnings.filterwarnings(\"ignore\")\n",
        "\n",
        "\n",
        "# cria um vetor que vai auxiliar a identificar quais registros são considerados\n",
        "# no treino e quais não são, como se fosse um filtro\n",
        "indices = []\n",
        "for _ in range(len(X_train)):\n",
        "  indices.append(True)\n",
        "\n",
        "# faz a logica de tentar eliminar cada registro e ver se está correto\n",
        "for i in range(len(X_train)):\n",
        "  indices[i] = False\n",
        "  model = KNeighborsClassifier(n_neighbors=1)\n",
        "  model.fit(X_train[indices], y_train[indices])\n",
        "\n",
        "  pred = model.predict([X_train.values[i]])\n",
        "  if pred != y_train.values[i]:\n",
        "    indices[i] = True\n",
        "\n",
        "print(\"Quantas amostras de treino sobraram:\", len(X_train[indices]))\n",
        "\n",
        "# calcula o resultado final depois da redução\n",
        "\n",
        "model = KNeighborsClassifier(n_neighbors=100)\n",
        "model.fit(X_train[indices], y_train[indices])\n",
        "pred = model.predict(X_test)\n",
        "\n",
        "print(\"Acurácia:\", (pred == y_test).sum() / len(X_test) * 100)\n"
      ]
    },
    {
      "cell_type": "markdown",
      "source": [
        "# Dados para treino e teste\n",
        "\n",
        "• Embaralhar dados para melhorar a acertividade dos treinos e testes para não correr o risco dos dados estarem ordenados de alguma maneira.\n",
        "\n",
        "• Selecionar as colunas com maior relevância para o problema.\n",
        "\n",
        "• Remover as linhas com dados nulos ou preencher de alguma maneira para não prejudicar a predição. \"Já foi feito anteriormente utilizando o comando: df = df.dropna()\""
      ],
      "metadata": {
        "id": "Dq4z9wpt7Kle"
      }
    },
    {
      "cell_type": "code",
      "source": [
        "# Embaralhamento das linhas da base\n",
        "df = df.sample(len(df))"
      ],
      "metadata": {
        "id": "zFiY2vRk-mZG"
      },
      "execution_count": 7,
      "outputs": []
    },
    {
      "cell_type": "code",
      "source": [
        "# Colunas de maior relevância que serão utilizadas para a classificação\n",
        "columns = ['workclass','education','education-num','marital-status','relationship', 'race', 'sex', 'hours-per-week', 'native-country']\n",
        "\n",
        "# Criação de um DataFrame sem a coluna de predição\n",
        "df_c = df[columns]\n",
        "\n",
        "# Definindo 'y' com a coluna de predição\n",
        "y = df['greater']"
      ],
      "metadata": {
        "id": "Sqhn7rDX_SWz"
      },
      "execution_count": 11,
      "outputs": []
    },
    {
      "cell_type": "markdown",
      "source": [
        "### Dummies\n",
        "• Como não existem apenas dados numéricos, mas também dados categóricos, para construir os modelos de predição pelo 'Sickit Learn' é necessário transformar as colunas que possuem valores em texto em valores númericos. Isso é feito pelo get_dummies\n",
        "\n",
        "### StandartScaler\n",
        "• Para evitar o cenário de haver colunas com valores grandes, por exemplo, 30.000 e colunas com valores pequenos 1.000 e isso impactar os resultados, é interessante colocar esses valores dentro de um intervalo de 0 e 1. Isso é feito utilizando o StandartScaler"
      ],
      "metadata": {
        "id": "vI9so8flAgEg"
      }
    },
    {
      "cell_type": "code",
      "source": [
        "from sklearn.preprocessing import StandardScaler\n",
        "\n",
        "# Transforma em valor numérico, as colunas que contém texto\n",
        "df_c = pd.get_dummies(df_c, columns=['workclass','education','marital-status','relationship','race', 'sex', 'native-country'])\n",
        "\n",
        "# Normalização\n",
        "scaler = StandardScaler()\n",
        "scaler.fit(df_c)\n",
        "df_c = scaler.transform(df_c)"
      ],
      "metadata": {
        "id": "o_ReyQeXCatI"
      },
      "execution_count": 12,
      "outputs": []
    },
    {
      "cell_type": "markdown",
      "source": [
        "### Hold-out\n",
        "\n",
        "Hold-out é um método de separação de valores para treino e teste\n",
        "\n",
        "Foi escolhido a proporção de 70% treino e 30% teste (proporção padrão)"
      ],
      "metadata": {
        "id": "ArXuPXzBDXdR"
      }
    },
    {
      "cell_type": "code",
      "source": [
        "# Capturando a quantidade que será utilizado para treino e para teste\n",
        "\n",
        "# Valor total\n",
        "print(len(df))\n",
        "\n",
        "# 70% da base\n",
        "train_percentage = int(len(df)*70/100)\n",
        "print(train_percentage)"
      ],
      "metadata": {
        "colab": {
          "base_uri": "https://localhost:8080/"
        },
        "id": "HMWlUFY_CjE_",
        "outputId": "1b98970a-9766-4d68-a66c-fcd4b435c4f6"
      },
      "execution_count": 13,
      "outputs": [
        {
          "output_type": "stream",
          "name": "stdout",
          "text": [
            "25564\n",
            "17894\n"
          ]
        }
      ]
    },
    {
      "cell_type": "code",
      "source": [
        "# Criação da massa de treino e teste, utilizando o Holdout\n",
        "X_train, X_test = df_c[:train_percentage], df_c[train_percentage:]\n",
        "y_train, y_test = y[:train_percentage], y[train_percentage:]"
      ],
      "metadata": {
        "id": "W9qz29EeEg9k"
      },
      "execution_count": 14,
      "outputs": []
    }
  ],
  "metadata": {
    "interpreter": {
      "hash": "fa6f34dd7144ca72c76a4f1b96991c2d2d642a5777194ef587676924069bb17a"
    },
    "kernelspec": {
      "display_name": "Python 3.8.10 ('.venv': venv)",
      "language": "python",
      "name": "python3"
    },
    "language_info": {
      "codemirror_mode": {
        "name": "ipython",
        "version": 3
      },
      "file_extension": ".py",
      "mimetype": "text/x-python",
      "name": "python",
      "nbconvert_exporter": "python",
      "pygments_lexer": "ipython3",
      "version": "3.8.10"
    },
    "orig_nbformat": 4,
    "colab": {
      "name": "projeto.ipynb",
      "provenance": [],
      "collapsed_sections": []
    }
  },
  "nbformat": 4,
  "nbformat_minor": 0
}