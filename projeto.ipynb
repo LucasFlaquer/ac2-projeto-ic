{
  "cells": [
    {
      "cell_type": "markdown",
      "metadata": {
        "id": "i7H42UXk5euG"
      },
      "source": [
        "# Projeto\n",
        "## Integrantes do Grupo:\n",
        "  - Lucas Henrique Antoneli Flaquer - 180952\n",
        "  - Jean Augusto Bauch - 180375\n",
        "  - Vinícius Espinosa de Oliveira - 180853\n",
        "  - Samel Ferraz de Araujo - 180207"
      ]
    },
    {
      "cell_type": "markdown",
      "metadata": {
        "id": "4XoklK1b5euJ"
      },
      "source": [
        "## Sobre a Base de Dados\n",
        "\n",
        "Link da base: https://archive.ics.uci.edu/ml/datasets/Adult\n",
        "OBS: A base original possui apenas as linhas, sem o cabeçalho. Tivemos que colocar na mão os cabeçalhos da base para que seja possível executa-la\n",
        "\n",
        "## Base Escolhida: Adult Data Set\n",
        "Uma base de dados que informa se um cidadão norte americano tem ou não uma renda maior que 50mil/ano de acordo com os parâmetros do censo como sexo, idade, grau de escolaridade, país de origem, dentre outros.\n",
        "\n",
        "## Atributos (Português)\n",
        "A base de dados conta com os seguintes atributos que poderão ser utilizados para descobrir se a pessoa possui ou não uma renda maior do que 50mil/ano\n",
        "* Idade\n",
        "* Classe operária\n",
        "* Peso\n",
        "* Escolaridade\n",
        "* Anos de escolaridade\n",
        "* Estado civil\n",
        "* Ocupação\n",
        "* Relação\n",
        "* Raça\n",
        "* Sexo\n",
        "* Ganho de capital\n",
        "* Perda de capital\n",
        "* Horas por semana\n",
        "* País de origem.\n",
        "\n",
        "## Descrição dos atributos\n",
        "\n",
        "- **age**: Valor contínuo da idade.\n",
        "- **workclass**: Classe de trabalho (Private, Self-emp-not-inc, Self-emp-inc, Federal-gov, Local-gov, State-gov, Without-pay, Never-worked).\n",
        "- **fnlwgt**: Valor contínuo que representa o peso.\n",
        "- **education**: escolaridade (Bachelors, Some-college, 11th, HS-grad, Prof-school, Assoc-acdm, Assoc-voc, 9th, 7th-8th, 12th, Masters, 1st-4th, 10th, Doctorate, 5th-6th, Preschool).\n",
        "- **education-num**: anos de escolaridade.\n",
        "- **marital-status**: estado civil (Married-civ-spouse, Divorced, Never-married, Separated, Widowed, Married-spouse-absent, Married-AF-spouse).\n",
        "- **occupation**: Ocupação (Tech-support, Craft-repair, Other-service, Sales, Exec-managerial, Prof-specialty, Handlers-cleaners, Machine-op-inspct, Adm-clerical, Farming-fishing, Transport-moving, Priv-house-serv, Protective-serv, Armed-Forces).\n",
        "- **relationship**: Relação civil (Wife, Own-child, Husband, Not-in-family, Other-relative, Unmarried).\n",
        "- **race**: raça étinica (White, Asian-Pac-Islander, Amer-Indian-Eskimo, Other, Black).\n",
        "- **sex**: Sexo (Female, Male).\n",
        "- **capital-gain**: valor contínuo.\n",
        "- **capital-loss**: valor contínuo.\n",
        "- **hours-per-week**: valor contínuo.\n",
        "- **native-country**: País de origem (United-States, Cambodia, England, Puerto-Rico, Canada, Germany, Outlying-US(Guam-USVI-etc), India, Japan, Greece, South, China, Cuba, Iran, Honduras, Philippines, Italy, Poland, Jamaica, Vietnam, Mexico, Portugal, Ireland, France, Dominican-Republic, Laos, Ecuador, Taiwan, Haiti, Columbia, Hungary, Guatemala, Nicaragua, Scotland, Thailand, Yugoslavia, El-Salvador, Trinadad&Tobago, Peru, Hong, Holand-Netherlands).\n",
        "- **greater**: >50K, <=50K."
      ]
    },
    {
      "cell_type": "markdown",
      "metadata": {
        "id": "QcKcx1JQ5pGz"
      },
      "source": [
        "# Configurando a base\n",
        "Primeiramente será feita a leitura da base de dados onde os valores considerados como nulos são aqueles que estão preenchidos com este valor `\" ?\"`. Tendo isto em mente é lido e armazenado o valor da base em uma variável"
      ]
    },
    {
      "cell_type": "code",
      "execution_count": 1,
      "metadata": {
        "colab": {
          "base_uri": "https://localhost:8080/",
          "height": 206
        },
        "id": "4oKxzOVi5euK",
        "outputId": "f20c9fa9-4116-4e80-dd35-563a7fc8e640"
      },
      "outputs": [
        {
          "data": {
            "text/html": [
              "<div>\n",
              "<style scoped>\n",
              "    .dataframe tbody tr th:only-of-type {\n",
              "        vertical-align: middle;\n",
              "    }\n",
              "\n",
              "    .dataframe tbody tr th {\n",
              "        vertical-align: top;\n",
              "    }\n",
              "\n",
              "    .dataframe thead th {\n",
              "        text-align: right;\n",
              "    }\n",
              "</style>\n",
              "<table border=\"1\" class=\"dataframe\">\n",
              "  <thead>\n",
              "    <tr style=\"text-align: right;\">\n",
              "      <th></th>\n",
              "      <th>age</th>\n",
              "      <th>workclass</th>\n",
              "      <th>fnlwgt</th>\n",
              "      <th>education</th>\n",
              "      <th>education-num</th>\n",
              "      <th>marital-status</th>\n",
              "      <th>ocupation</th>\n",
              "      <th>relationship</th>\n",
              "      <th>race</th>\n",
              "      <th>sex</th>\n",
              "      <th>capital-gain</th>\n",
              "      <th>capital-loss</th>\n",
              "      <th>hours-per-week</th>\n",
              "      <th>native-country</th>\n",
              "      <th>greater</th>\n",
              "    </tr>\n",
              "  </thead>\n",
              "  <tbody>\n",
              "    <tr>\n",
              "      <th>0</th>\n",
              "      <td>39</td>\n",
              "      <td>State-gov</td>\n",
              "      <td>77516</td>\n",
              "      <td>Bachelors</td>\n",
              "      <td>13</td>\n",
              "      <td>Never-married</td>\n",
              "      <td>Adm-clerical</td>\n",
              "      <td>Not-in-family</td>\n",
              "      <td>White</td>\n",
              "      <td>Male</td>\n",
              "      <td>2174</td>\n",
              "      <td>0</td>\n",
              "      <td>40</td>\n",
              "      <td>United-States</td>\n",
              "      <td>&lt;=50K</td>\n",
              "    </tr>\n",
              "    <tr>\n",
              "      <th>1</th>\n",
              "      <td>50</td>\n",
              "      <td>Self-emp-not-inc</td>\n",
              "      <td>83311</td>\n",
              "      <td>Bachelors</td>\n",
              "      <td>13</td>\n",
              "      <td>Married-civ-spouse</td>\n",
              "      <td>Exec-managerial</td>\n",
              "      <td>Husband</td>\n",
              "      <td>White</td>\n",
              "      <td>Male</td>\n",
              "      <td>0</td>\n",
              "      <td>0</td>\n",
              "      <td>13</td>\n",
              "      <td>United-States</td>\n",
              "      <td>&lt;=50K</td>\n",
              "    </tr>\n",
              "    <tr>\n",
              "      <th>2</th>\n",
              "      <td>38</td>\n",
              "      <td>Private</td>\n",
              "      <td>215646</td>\n",
              "      <td>HS-grad</td>\n",
              "      <td>9</td>\n",
              "      <td>Divorced</td>\n",
              "      <td>Handlers-cleaners</td>\n",
              "      <td>Not-in-family</td>\n",
              "      <td>White</td>\n",
              "      <td>Male</td>\n",
              "      <td>0</td>\n",
              "      <td>0</td>\n",
              "      <td>40</td>\n",
              "      <td>United-States</td>\n",
              "      <td>&lt;=50K</td>\n",
              "    </tr>\n",
              "    <tr>\n",
              "      <th>3</th>\n",
              "      <td>53</td>\n",
              "      <td>Private</td>\n",
              "      <td>234721</td>\n",
              "      <td>11th</td>\n",
              "      <td>7</td>\n",
              "      <td>Married-civ-spouse</td>\n",
              "      <td>Handlers-cleaners</td>\n",
              "      <td>Husband</td>\n",
              "      <td>Black</td>\n",
              "      <td>Male</td>\n",
              "      <td>0</td>\n",
              "      <td>0</td>\n",
              "      <td>40</td>\n",
              "      <td>United-States</td>\n",
              "      <td>&lt;=50K</td>\n",
              "    </tr>\n",
              "    <tr>\n",
              "      <th>4</th>\n",
              "      <td>28</td>\n",
              "      <td>Private</td>\n",
              "      <td>338409</td>\n",
              "      <td>Bachelors</td>\n",
              "      <td>13</td>\n",
              "      <td>Married-civ-spouse</td>\n",
              "      <td>Prof-specialty</td>\n",
              "      <td>Wife</td>\n",
              "      <td>Black</td>\n",
              "      <td>Female</td>\n",
              "      <td>0</td>\n",
              "      <td>0</td>\n",
              "      <td>40</td>\n",
              "      <td>Cuba</td>\n",
              "      <td>&lt;=50K</td>\n",
              "    </tr>\n",
              "  </tbody>\n",
              "</table>\n",
              "</div>"
            ],
            "text/plain": [
              "   age          workclass  fnlwgt   education  education-num  \\\n",
              "0   39          State-gov   77516   Bachelors             13   \n",
              "1   50   Self-emp-not-inc   83311   Bachelors             13   \n",
              "2   38            Private  215646     HS-grad              9   \n",
              "3   53            Private  234721        11th              7   \n",
              "4   28            Private  338409   Bachelors             13   \n",
              "\n",
              "        marital-status           ocupation    relationship    race      sex  \\\n",
              "0        Never-married        Adm-clerical   Not-in-family   White     Male   \n",
              "1   Married-civ-spouse     Exec-managerial         Husband   White     Male   \n",
              "2             Divorced   Handlers-cleaners   Not-in-family   White     Male   \n",
              "3   Married-civ-spouse   Handlers-cleaners         Husband   Black     Male   \n",
              "4   Married-civ-spouse      Prof-specialty            Wife   Black   Female   \n",
              "\n",
              "   capital-gain  capital-loss  hours-per-week  native-country greater  \n",
              "0          2174             0              40   United-States   <=50K  \n",
              "1             0             0              13   United-States   <=50K  \n",
              "2             0             0              40   United-States   <=50K  \n",
              "3             0             0              40   United-States   <=50K  \n",
              "4             0             0              40            Cuba   <=50K  "
            ]
          },
          "execution_count": 1,
          "metadata": {},
          "output_type": "execute_result"
        }
      ],
      "source": [
        "# Importar biblioteca pandas para leitura da base\n",
        "import pandas as pd\n",
        "import numpy as np\n",
        "\n",
        "# Ler base de dados e atribuir interrogação para os valores nulos\n",
        "df = pd.read_csv('adult.data', na_values=' ?')\n",
        "\n",
        "# Mostra os 5 primeiros dados da base\n",
        "df.head()"
      ]
    },
    {
      "cell_type": "markdown",
      "metadata": {
        "id": "Z8_4aNhu5euM"
      },
      "source": [
        "# Analise dos dados\n",
        "\n",
        "Primeiro foi feito a limpeza dos dados nulos. Como a quantidade de dados inválidos encontrados não eram expressivos, foi optado por remover todas as linhas que possuissem dados inválidos"
      ]
    },
    {
      "cell_type": "code",
      "execution_count": 3,
      "metadata": {
        "colab": {
          "base_uri": "https://localhost:8080/"
        },
        "id": "N6HeeWTX5euN",
        "outputId": "9ffe0a6d-39c8-441b-dc00-99b01377e8b9"
      },
      "outputs": [
        {
          "data": {
            "text/plain": [
              "age               0\n",
              "workclass         0\n",
              "fnlwgt            0\n",
              "education         0\n",
              "education-num     0\n",
              "marital-status    0\n",
              "ocupation         0\n",
              "relationship      0\n",
              "race              0\n",
              "sex               0\n",
              "capital-gain      0\n",
              "capital-loss      0\n",
              "hours-per-week    0\n",
              "native-country    0\n",
              "greater           1\n",
              "dtype: int64"
            ]
          },
          "execution_count": 3,
          "metadata": {},
          "output_type": "execute_result"
        }
      ],
      "source": [
        "# Somando os valores nulos\n",
        "df.isna().sum()"
      ]
    },
    {
      "cell_type": "code",
      "execution_count": 2,
      "metadata": {
        "colab": {
          "base_uri": "https://localhost:8080/"
        },
        "id": "hmHvKEi45euO",
        "outputId": "7c3f367b-135c-42a7-e67d-48d55cf1365e"
      },
      "outputs": [
        {
          "name": "stdout",
          "output_type": "stream",
          "text": [
            "(32561, 15)\n"
          ]
        }
      ],
      "source": [
        "# Mostrando a forma (Linhas x Colunas) da base de dados\n",
        "print(df.shape)"
      ]
    },
    {
      "cell_type": "code",
      "execution_count": 3,
      "metadata": {
        "colab": {
          "base_uri": "https://localhost:8080/"
        },
        "id": "NehQiFgE5euO",
        "outputId": "ede198e1-8e89-4e79-c8f9-721ca185f045"
      },
      "outputs": [
        {
          "name": "stdout",
          "output_type": "stream",
          "text": [
            "(32561, 15)\n"
          ]
        }
      ],
      "source": [
        "# Eliminando as linhas com dados nulos\n",
        "df = df.dropna()\n",
        "\n",
        "# Mostrando a forma (Linhas x Colunas) após remover as linhas vazias\n",
        "print(df.shape)"
      ]
    },
    {
      "cell_type": "markdown",
      "metadata": {
        "id": "GG6ou_J85euO"
      },
      "source": [
        "descrever que sera feita a analise para ver o balanceamento da base \n"
      ]
    },
    {
      "cell_type": "code",
      "execution_count": 4,
      "metadata": {
        "id": "wN4uH-kZ5euP"
      },
      "outputs": [],
      "source": [
        "import seaborn as sns\n",
        "import matplotlib.pyplot as plt"
      ]
    },
    {
      "cell_type": "markdown",
      "metadata": {
        "id": "Gk5wG6Jo5euP"
      },
      "source": [
        "## Gráfico com frequẽncia de renda\n",
        "O gráfico plotado abaixo mostra como a base de dados é desbalanceada onde boa parte dos registros são de pessoas com uma renda inferior a 50k/ano"
      ]
    },
    {
      "cell_type": "code",
      "execution_count": 5,
      "metadata": {
        "id": "dGv4z6yW5euP",
        "outputId": "5d1e69d9-85d2-4a33-f332-71b8a8ad64b2"
      },
      "outputs": [
        {
          "data": {
            "image/png": "[encoded data removed]",
            "text/plain": [
              "<Figure size 432x288 with 1 Axes>"
            ]
          },
          "metadata": {
            "needs_background": "light"
          },
          "output_type": "display_data"
        }
      ],
      "source": [
        "# dfformatted = df.greater.map({' <=50K': 0, ' >50K': 1})\n",
        "sns.countplot(x=\"greater\", data=df)\n",
        "plt.show()\n"
      ]
    },
    {
      "cell_type": "code",
      "execution_count": 6,
      "metadata": {
        "id": "qtUucnXr5euQ",
        "outputId": "271acaf9-ce6c-4a30-888e-4bd24318d1b6"
      },
      "outputs": [
        {
          "name": "stdout",
          "output_type": "stream",
          "text": [
            "greater  hours-per-week\n",
            " <=50K   40                11970\n",
            "         50                 1543\n",
            "         20                 1146\n",
            "         45                 1139\n",
            "         35                 1102\n",
            "                           ...  \n",
            " >50K    73                    1\n",
            "         89                    1\n",
            "         95                    1\n",
            "         96                    1\n",
            "         97                    1\n",
            "Name: hours-per-week, Length: 173, dtype: int64\n"
          ]
        },
        {
          "data": {
            "text/plain": [
              "<AxesSubplot:xlabel='greater,hours-per-week'>"
            ]
          },
          "execution_count": 6,
          "metadata": {},
          "output_type": "execute_result"
        },
        {
          "data": {
            "image/png": "[encoded data removed]",
            "text/plain": [
              "<Figure size 432x288 with 1 Axes>"
            ]
          },
          "metadata": {
            "needs_background": "light"
          },
          "output_type": "display_data"
        }
      ],
      "source": [
        "column = 'hours-per-week'\n",
        "dfNativeCountry = df[[column, 'greater']]\n",
        "dfTableMC = dfNativeCountry.groupby('greater')[column].value_counts()\n",
        "print(dfTableMC)\n",
        "dfTableMC.plot()\n"
      ]
    },
    {
      "cell_type": "code",
      "execution_count": 7,
      "metadata": {
        "id": "_ZKD4HTJ5euR",
        "outputId": "9913d02d-84bb-4daf-def8-d4f632273a13"
      },
      "outputs": [
        {
          "name": "stdout",
          "output_type": "stream",
          "text": [
            "greater  ocupation         \n",
            " <=50K    Adm-clerical         3263\n",
            "          Craft-repair         3170\n",
            "          Other-service        3158\n",
            "          Sales                2667\n",
            "          Prof-specialty       2281\n",
            "          Exec-managerial      2098\n",
            "          Machine-op-inspct    1752\n",
            "          ?                    1652\n",
            "          Handlers-cleaners    1284\n",
            "          Transport-moving     1277\n",
            "          Farming-fishing       879\n",
            "          Tech-support          645\n",
            "          Protective-serv       438\n",
            "          Priv-house-serv       148\n",
            "          Armed-Forces            8\n",
            " >50K     Exec-managerial      1968\n",
            "          Prof-specialty       1859\n",
            "          Sales                 983\n",
            "          Craft-repair          929\n",
            "          Adm-clerical          507\n",
            "          Transport-moving      320\n",
            "          Tech-support          283\n",
            "          Machine-op-inspct     250\n",
            "          Protective-serv       211\n",
            "          ?                     191\n",
            "          Other-service         137\n",
            "          Farming-fishing       115\n",
            "          Handlers-cleaners      86\n",
            "          Armed-Forces            1\n",
            "          Priv-house-serv         1\n",
            "Name: ocupation, dtype: int64\n"
          ]
        },
        {
          "data": {
            "text/plain": [
              "<AxesSubplot:ylabel='greater,ocupation'>"
            ]
          },
          "execution_count": 7,
          "metadata": {},
          "output_type": "execute_result"
        },
        {
          "data": {
            "image/png": "[encoded data removed]",
            "text/plain": [
              "<Figure size 432x288 with 1 Axes>"
            ]
          },
          "metadata": {
            "needs_background": "light"
          },
          "output_type": "display_data"
        }
      ],
      "source": [
        "column = 'ocupation'\n",
        "dfNativeCountry = df[[column, 'greater']]\n",
        "dfTableMC = dfNativeCountry.groupby('greater')[column].value_counts()\n",
        "print(dfTableMC)\n",
        "dfTableMC.plot(kind='barh')\n"
      ]
    },
    {
      "cell_type": "code",
      "execution_count": null,
      "metadata": {
        "id": "o44vbqYU5euS",
        "outputId": "8df9c418-51f9-49ba-e7a1-c23cdb60acec"
      },
      "outputs": [
        {
          "ename": "TypeError",
          "evalue": "'data' must be pandas DataFrame object, not: <class 'pandas.core.series.Series'>",
          "output_type": "error",
          "traceback": [
            "\u001b[0;31m---------------------------------------------------------------------------\u001b[0m",
            "\u001b[0;31mTypeError\u001b[0m                                 Traceback (most recent call last)",
            "\u001b[1;32m/home/lucas/workspace/ac2-projeto-ic/projeto.ipynb Cell 14'\u001b[0m in \u001b[0;36m<cell line: 3>\u001b[0;34m()\u001b[0m\n\u001b[1;32m      <a href='vscode-notebook-cell:/home/lucas/workspace/ac2-projeto-ic/projeto.ipynb#ch0000013?line=0'>1</a>\u001b[0m dfFormatted \u001b[39m=\u001b[39m df[\u001b[39m'\u001b[39m\u001b[39mgreater\u001b[39m\u001b[39m'\u001b[39m] \u001b[39m==\u001b[39m \u001b[39m'\u001b[39m\u001b[39m>50K\u001b[39m\u001b[39m'\u001b[39m\n\u001b[1;32m      <a href='vscode-notebook-cell:/home/lucas/workspace/ac2-projeto-ic/projeto.ipynb#ch0000013?line=1'>2</a>\u001b[0m get_ipython()\u001b[39m.\u001b[39mrun_line_magic(\u001b[39m'\u001b[39m\u001b[39mmatplotlib\u001b[39m\u001b[39m'\u001b[39m, \u001b[39m'\u001b[39m\u001b[39minline\u001b[39m\u001b[39m'\u001b[39m)\n\u001b[0;32m----> <a href='vscode-notebook-cell:/home/lucas/workspace/ac2-projeto-ic/projeto.ipynb#ch0000013?line=2'>3</a>\u001b[0m sns\u001b[39m.\u001b[39;49mpairplot(dfFormatted, x_vars\u001b[39m=\u001b[39;49m[\u001b[39m'\u001b[39;49m\u001b[39mage\u001b[39;49m\u001b[39m'\u001b[39;49m, \u001b[39m'\u001b[39;49m\u001b[39meducation-num\u001b[39;49m\u001b[39m'\u001b[39;49m], y_vars\u001b[39m=\u001b[39;49m\u001b[39m'\u001b[39;49m\u001b[39msex\u001b[39;49m\u001b[39m'\u001b[39;49m, aspect\u001b[39m=\u001b[39;49m\u001b[39m0.7\u001b[39;49m, kind\u001b[39m=\u001b[39;49m\u001b[39m'\u001b[39;49m\u001b[39mreg\u001b[39;49m\u001b[39m'\u001b[39;49m)\n",
            "File \u001b[0;32m~/workspace/ac2-projeto-ic/.venv/lib/python3.8/site-packages/seaborn/_decorators.py:46\u001b[0m, in \u001b[0;36m_deprecate_positional_args.<locals>.inner_f\u001b[0;34m(*args, **kwargs)\u001b[0m\n\u001b[1;32m     <a href='file:///home/lucas/workspace/ac2-projeto-ic/.venv/lib/python3.8/site-packages/seaborn/_decorators.py?line=35'>36</a>\u001b[0m     warnings\u001b[39m.\u001b[39mwarn(\n\u001b[1;32m     <a href='file:///home/lucas/workspace/ac2-projeto-ic/.venv/lib/python3.8/site-packages/seaborn/_decorators.py?line=36'>37</a>\u001b[0m         \u001b[39m\"\u001b[39m\u001b[39mPass the following variable\u001b[39m\u001b[39m{}\u001b[39;00m\u001b[39m as \u001b[39m\u001b[39m{}\u001b[39;00m\u001b[39mkeyword arg\u001b[39m\u001b[39m{}\u001b[39;00m\u001b[39m: \u001b[39m\u001b[39m{}\u001b[39;00m\u001b[39m. \u001b[39m\u001b[39m\"\u001b[39m\n\u001b[1;32m     <a href='file:///home/lucas/workspace/ac2-projeto-ic/.venv/lib/python3.8/site-packages/seaborn/_decorators.py?line=37'>38</a>\u001b[0m         \u001b[39m\"\u001b[39m\u001b[39mFrom version 0.12, the only valid positional argument \u001b[39m\u001b[39m\"\u001b[39m\n\u001b[0;32m   (...)\u001b[0m\n\u001b[1;32m     <a href='file:///home/lucas/workspace/ac2-projeto-ic/.venv/lib/python3.8/site-packages/seaborn/_decorators.py?line=42'>43</a>\u001b[0m         \u001b[39mFutureWarning\u001b[39;00m\n\u001b[1;32m     <a href='file:///home/lucas/workspace/ac2-projeto-ic/.venv/lib/python3.8/site-packages/seaborn/_decorators.py?line=43'>44</a>\u001b[0m     )\n\u001b[1;32m     <a href='file:///home/lucas/workspace/ac2-projeto-ic/.venv/lib/python3.8/site-packages/seaborn/_decorators.py?line=44'>45</a>\u001b[0m kwargs\u001b[39m.\u001b[39mupdate({k: arg \u001b[39mfor\u001b[39;00m k, arg \u001b[39min\u001b[39;00m \u001b[39mzip\u001b[39m(sig\u001b[39m.\u001b[39mparameters, args)})\n\u001b[0;32m---> <a href='file:///home/lucas/workspace/ac2-projeto-ic/.venv/lib/python3.8/site-packages/seaborn/_decorators.py?line=45'>46</a>\u001b[0m \u001b[39mreturn\u001b[39;00m f(\u001b[39m*\u001b[39;49m\u001b[39m*\u001b[39;49mkwargs)\n",
            "File \u001b[0;32m~/workspace/ac2-projeto-ic/.venv/lib/python3.8/site-packages/seaborn/axisgrid.py:2079\u001b[0m, in \u001b[0;36mpairplot\u001b[0;34m(data, hue, hue_order, palette, vars, x_vars, y_vars, kind, diag_kind, markers, height, aspect, corner, dropna, plot_kws, diag_kws, grid_kws, size)\u001b[0m\n\u001b[1;32m   <a href='file:///home/lucas/workspace/ac2-projeto-ic/.venv/lib/python3.8/site-packages/seaborn/axisgrid.py?line=2075'>2076</a>\u001b[0m     warnings\u001b[39m.\u001b[39mwarn(msg, \u001b[39mUserWarning\u001b[39;00m)\n\u001b[1;32m   <a href='file:///home/lucas/workspace/ac2-projeto-ic/.venv/lib/python3.8/site-packages/seaborn/axisgrid.py?line=2077'>2078</a>\u001b[0m \u001b[39mif\u001b[39;00m \u001b[39mnot\u001b[39;00m \u001b[39misinstance\u001b[39m(data, pd\u001b[39m.\u001b[39mDataFrame):\n\u001b[0;32m-> <a href='file:///home/lucas/workspace/ac2-projeto-ic/.venv/lib/python3.8/site-packages/seaborn/axisgrid.py?line=2078'>2079</a>\u001b[0m     \u001b[39mraise\u001b[39;00m \u001b[39mTypeError\u001b[39;00m(\n\u001b[1;32m   <a href='file:///home/lucas/workspace/ac2-projeto-ic/.venv/lib/python3.8/site-packages/seaborn/axisgrid.py?line=2079'>2080</a>\u001b[0m         \u001b[39m\"\u001b[39m\u001b[39m'\u001b[39m\u001b[39mdata\u001b[39m\u001b[39m'\u001b[39m\u001b[39m must be pandas DataFrame object, not: \u001b[39m\u001b[39m{typefound}\u001b[39;00m\u001b[39m\"\u001b[39m\u001b[39m.\u001b[39mformat(\n\u001b[1;32m   <a href='file:///home/lucas/workspace/ac2-projeto-ic/.venv/lib/python3.8/site-packages/seaborn/axisgrid.py?line=2080'>2081</a>\u001b[0m             typefound\u001b[39m=\u001b[39m\u001b[39mtype\u001b[39m(data)))\n\u001b[1;32m   <a href='file:///home/lucas/workspace/ac2-projeto-ic/.venv/lib/python3.8/site-packages/seaborn/axisgrid.py?line=2082'>2083</a>\u001b[0m plot_kws \u001b[39m=\u001b[39m {} \u001b[39mif\u001b[39;00m plot_kws \u001b[39mis\u001b[39;00m \u001b[39mNone\u001b[39;00m \u001b[39melse\u001b[39;00m plot_kws\u001b[39m.\u001b[39mcopy()\n\u001b[1;32m   <a href='file:///home/lucas/workspace/ac2-projeto-ic/.venv/lib/python3.8/site-packages/seaborn/axisgrid.py?line=2083'>2084</a>\u001b[0m diag_kws \u001b[39m=\u001b[39m {} \u001b[39mif\u001b[39;00m diag_kws \u001b[39mis\u001b[39;00m \u001b[39mNone\u001b[39;00m \u001b[39melse\u001b[39;00m diag_kws\u001b[39m.\u001b[39mcopy()\n",
            "\u001b[0;31mTypeError\u001b[0m: 'data' must be pandas DataFrame object, not: <class 'pandas.core.series.Series'>"
          ]
        }
      ],
      "source": [
        "dfFormatted = df['greater'] == '>50K'\n",
        "%matplotlib inline\n",
        "sns.pairplot(dfFormatted, x_vars=['age', 'education-num'], y_vars='sex', aspect=0.7, kind='reg')\n"
      ]
    },
    {
      "cell_type": "code",
      "execution_count": 8,
      "metadata": {
        "id": "EUi62x0e5euS",
        "outputId": "f4c67c01-bdc4-484a-f369-5ac97ffca033"
      },
      "outputs": [
        {
          "data": {
            "text/html": [
              "<div>\n",
              "<style scoped>\n",
              "    .dataframe tbody tr th:only-of-type {\n",
              "        vertical-align: middle;\n",
              "    }\n",
              "\n",
              "    .dataframe tbody tr th {\n",
              "        vertical-align: top;\n",
              "    }\n",
              "\n",
              "    .dataframe thead th {\n",
              "        text-align: right;\n",
              "    }\n",
              "</style>\n",
              "<table border=\"1\" class=\"dataframe\">\n",
              "  <thead>\n",
              "    <tr style=\"text-align: right;\">\n",
              "      <th></th>\n",
              "      <th>age</th>\n",
              "      <th>fnlwgt</th>\n",
              "      <th>education-num</th>\n",
              "      <th>capital-gain</th>\n",
              "      <th>capital-loss</th>\n",
              "      <th>hours-per-week</th>\n",
              "    </tr>\n",
              "  </thead>\n",
              "  <tbody>\n",
              "    <tr>\n",
              "      <th>count</th>\n",
              "      <td>32561.000000</td>\n",
              "      <td>3.256100e+04</td>\n",
              "      <td>32561.000000</td>\n",
              "      <td>32561.000000</td>\n",
              "      <td>32561.000000</td>\n",
              "      <td>32561.000000</td>\n",
              "    </tr>\n",
              "    <tr>\n",
              "      <th>mean</th>\n",
              "      <td>38.581647</td>\n",
              "      <td>1.897784e+05</td>\n",
              "      <td>10.080679</td>\n",
              "      <td>1077.648844</td>\n",
              "      <td>87.303830</td>\n",
              "      <td>40.437456</td>\n",
              "    </tr>\n",
              "    <tr>\n",
              "      <th>std</th>\n",
              "      <td>13.640433</td>\n",
              "      <td>1.055500e+05</td>\n",
              "      <td>2.572720</td>\n",
              "      <td>7385.292085</td>\n",
              "      <td>402.960219</td>\n",
              "      <td>12.347429</td>\n",
              "    </tr>\n",
              "    <tr>\n",
              "      <th>min</th>\n",
              "      <td>17.000000</td>\n",
              "      <td>1.228500e+04</td>\n",
              "      <td>1.000000</td>\n",
              "      <td>0.000000</td>\n",
              "      <td>0.000000</td>\n",
              "      <td>1.000000</td>\n",
              "    </tr>\n",
              "    <tr>\n",
              "      <th>25%</th>\n",
              "      <td>28.000000</td>\n",
              "      <td>1.178270e+05</td>\n",
              "      <td>9.000000</td>\n",
              "      <td>0.000000</td>\n",
              "      <td>0.000000</td>\n",
              "      <td>40.000000</td>\n",
              "    </tr>\n",
              "    <tr>\n",
              "      <th>50%</th>\n",
              "      <td>37.000000</td>\n",
              "      <td>1.783560e+05</td>\n",
              "      <td>10.000000</td>\n",
              "      <td>0.000000</td>\n",
              "      <td>0.000000</td>\n",
              "      <td>40.000000</td>\n",
              "    </tr>\n",
              "    <tr>\n",
              "      <th>75%</th>\n",
              "      <td>48.000000</td>\n",
              "      <td>2.370510e+05</td>\n",
              "      <td>12.000000</td>\n",
              "      <td>0.000000</td>\n",
              "      <td>0.000000</td>\n",
              "      <td>45.000000</td>\n",
              "    </tr>\n",
              "    <tr>\n",
              "      <th>max</th>\n",
              "      <td>90.000000</td>\n",
              "      <td>1.484705e+06</td>\n",
              "      <td>16.000000</td>\n",
              "      <td>99999.000000</td>\n",
              "      <td>4356.000000</td>\n",
              "      <td>99.000000</td>\n",
              "    </tr>\n",
              "  </tbody>\n",
              "</table>\n",
              "</div>"
            ],
            "text/plain": [
              "                age        fnlwgt  education-num  capital-gain  capital-loss  \\\n",
              "count  32561.000000  3.256100e+04   32561.000000  32561.000000  32561.000000   \n",
              "mean      38.581647  1.897784e+05      10.080679   1077.648844     87.303830   \n",
              "std       13.640433  1.055500e+05       2.572720   7385.292085    402.960219   \n",
              "min       17.000000  1.228500e+04       1.000000      0.000000      0.000000   \n",
              "25%       28.000000  1.178270e+05       9.000000      0.000000      0.000000   \n",
              "50%       37.000000  1.783560e+05      10.000000      0.000000      0.000000   \n",
              "75%       48.000000  2.370510e+05      12.000000      0.000000      0.000000   \n",
              "max       90.000000  1.484705e+06      16.000000  99999.000000   4356.000000   \n",
              "\n",
              "       hours-per-week  \n",
              "count    32561.000000  \n",
              "mean        40.437456  \n",
              "std         12.347429  \n",
              "min          1.000000  \n",
              "25%         40.000000  \n",
              "50%         40.000000  \n",
              "75%         45.000000  \n",
              "max         99.000000  "
            ]
          },
          "execution_count": 8,
          "metadata": {},
          "output_type": "execute_result"
        }
      ],
      "source": [
        "df['sex'] = df['sex'] == 'Male'\n",
        "df.describe()"
      ]
    },
    {
      "cell_type": "code",
      "execution_count": 9,
      "metadata": {
        "id": "LSkvyTOR5euT"
      },
      "outputs": [],
      "source": [
        "from sklearn.utils import shuffle\n",
        "\n",
        "df = shuffle(df, random_state=42)"
      ]
    },
    {
      "cell_type": "code",
      "execution_count": null,
      "metadata": {
        "id": "CnFZqmha5euU",
        "outputId": "7467120f-ad2c-4f3b-b098-ae5fe327ddb8"
      },
      "outputs": [
        {
          "data": {
            "text/html": [
              "<div>\n",
              "<style scoped>\n",
              "    .dataframe tbody tr th:only-of-type {\n",
              "        vertical-align: middle;\n",
              "    }\n",
              "\n",
              "    .dataframe tbody tr th {\n",
              "        vertical-align: top;\n",
              "    }\n",
              "\n",
              "    .dataframe thead th {\n",
              "        text-align: right;\n",
              "    }\n",
              "</style>\n",
              "<table border=\"1\" class=\"dataframe\">\n",
              "  <thead>\n",
              "    <tr style=\"text-align: right;\">\n",
              "      <th></th>\n",
              "      <th>age</th>\n",
              "      <th>workclass</th>\n",
              "      <th>fnlwgt</th>\n",
              "      <th>education</th>\n",
              "      <th>education-num</th>\n",
              "      <th>marital-status</th>\n",
              "      <th>ocupation</th>\n",
              "      <th>relationship</th>\n",
              "      <th>race</th>\n",
              "      <th>sex</th>\n",
              "      <th>capital-gain</th>\n",
              "      <th>capital-loss</th>\n",
              "      <th>hours-per-week</th>\n",
              "      <th>native-country</th>\n",
              "      <th>greater</th>\n",
              "    </tr>\n",
              "  </thead>\n",
              "  <tbody>\n",
              "    <tr>\n",
              "      <th>234</th>\n",
              "      <td>28</td>\n",
              "      <td>Private</td>\n",
              "      <td>76714</td>\n",
              "      <td>Prof-school</td>\n",
              "      <td>15</td>\n",
              "      <td>Never-married</td>\n",
              "      <td>Prof-specialty</td>\n",
              "      <td>Not-in-family</td>\n",
              "      <td>White</td>\n",
              "      <td>False</td>\n",
              "      <td>0</td>\n",
              "      <td>0</td>\n",
              "      <td>55</td>\n",
              "      <td>United-States</td>\n",
              "      <td>&gt;50K</td>\n",
              "    </tr>\n",
              "    <tr>\n",
              "      <th>26879</th>\n",
              "      <td>41</td>\n",
              "      <td>Private</td>\n",
              "      <td>178431</td>\n",
              "      <td>HS-grad</td>\n",
              "      <td>9</td>\n",
              "      <td>Married-civ-spouse</td>\n",
              "      <td>Craft-repair</td>\n",
              "      <td>Husband</td>\n",
              "      <td>Asian-Pac-Islander</td>\n",
              "      <td>False</td>\n",
              "      <td>0</td>\n",
              "      <td>0</td>\n",
              "      <td>40</td>\n",
              "      <td>Taiwan</td>\n",
              "      <td>&lt;=50K</td>\n",
              "    </tr>\n",
              "    <tr>\n",
              "      <th>19182</th>\n",
              "      <td>53</td>\n",
              "      <td>Private</td>\n",
              "      <td>290640</td>\n",
              "      <td>HS-grad</td>\n",
              "      <td>9</td>\n",
              "      <td>Married-civ-spouse</td>\n",
              "      <td>Other-service</td>\n",
              "      <td>Husband</td>\n",
              "      <td>White</td>\n",
              "      <td>False</td>\n",
              "      <td>0</td>\n",
              "      <td>0</td>\n",
              "      <td>50</td>\n",
              "      <td>Germany</td>\n",
              "      <td>&gt;50K</td>\n",
              "    </tr>\n",
              "    <tr>\n",
              "      <th>13485</th>\n",
              "      <td>31</td>\n",
              "      <td>Private</td>\n",
              "      <td>215297</td>\n",
              "      <td>HS-grad</td>\n",
              "      <td>9</td>\n",
              "      <td>Married-civ-spouse</td>\n",
              "      <td>Craft-repair</td>\n",
              "      <td>Husband</td>\n",
              "      <td>White</td>\n",
              "      <td>False</td>\n",
              "      <td>0</td>\n",
              "      <td>0</td>\n",
              "      <td>45</td>\n",
              "      <td>United-States</td>\n",
              "      <td>&lt;=50K</td>\n",
              "    </tr>\n",
              "    <tr>\n",
              "      <th>9625</th>\n",
              "      <td>34</td>\n",
              "      <td>Local-gov</td>\n",
              "      <td>188682</td>\n",
              "      <td>Bachelors</td>\n",
              "      <td>13</td>\n",
              "      <td>Married-spouse-absent</td>\n",
              "      <td>Prof-specialty</td>\n",
              "      <td>Not-in-family</td>\n",
              "      <td>White</td>\n",
              "      <td>False</td>\n",
              "      <td>0</td>\n",
              "      <td>0</td>\n",
              "      <td>40</td>\n",
              "      <td>United-States</td>\n",
              "      <td>&lt;=50K</td>\n",
              "    </tr>\n",
              "  </tbody>\n",
              "</table>\n",
              "</div>"
            ],
            "text/plain": [
              "       age   workclass  fnlwgt     education  education-num  \\\n",
              "234     28     Private   76714   Prof-school             15   \n",
              "26879   41     Private  178431       HS-grad              9   \n",
              "19182   53     Private  290640       HS-grad              9   \n",
              "13485   31     Private  215297       HS-grad              9   \n",
              "9625    34   Local-gov  188682     Bachelors             13   \n",
              "\n",
              "               marital-status        ocupation    relationship  \\\n",
              "234             Never-married   Prof-specialty   Not-in-family   \n",
              "26879      Married-civ-spouse     Craft-repair         Husband   \n",
              "19182      Married-civ-spouse    Other-service         Husband   \n",
              "13485      Married-civ-spouse     Craft-repair         Husband   \n",
              "9625    Married-spouse-absent   Prof-specialty   Not-in-family   \n",
              "\n",
              "                      race    sex  capital-gain  capital-loss  hours-per-week  \\\n",
              "234                  White  False             0             0              55   \n",
              "26879   Asian-Pac-Islander  False             0             0              40   \n",
              "19182                White  False             0             0              50   \n",
              "13485                White  False             0             0              45   \n",
              "9625                 White  False             0             0              40   \n",
              "\n",
              "       native-country greater  \n",
              "234     United-States    >50K  \n",
              "26879          Taiwan   <=50K  \n",
              "19182         Germany    >50K  \n",
              "13485   United-States   <=50K  \n",
              "9625    United-States   <=50K  "
            ]
          },
          "execution_count": 29,
          "metadata": {},
          "output_type": "execute_result"
        }
      ],
      "source": [
        "df.head()"
      ]
    },
    {
      "cell_type": "code",
      "execution_count": 22,
      "metadata": {
        "id": "_dZu6GQF5euV",
        "outputId": "ad7fa65d-6972-4848-84e3-d12466f22ba8"
      },
      "outputs": [
        {
          "name": "stdout",
          "output_type": "stream",
          "text": [
            "(23512, 15)\n",
            "(9049, 15)\n"
          ]
        }
      ],
      "source": [
        "teste = df[:9049].values\n",
        "treino = df[9049:].values\n",
        "\n",
        "print(treino.shape)\n",
        "print(teste.shape)\n",
        "# 30162 * 0.3"
      ]
    },
    {
      "cell_type": "code",
      "execution_count": 23,
      "metadata": {
        "id": "rkAhSctg5euV",
        "outputId": "62bfec9e-9705-493f-9cb1-2c0a197a844f"
      },
      "outputs": [
        {
          "data": {
            "text/html": [
              "<div>\n",
              "<style scoped>\n",
              "    .dataframe tbody tr th:only-of-type {\n",
              "        vertical-align: middle;\n",
              "    }\n",
              "\n",
              "    .dataframe tbody tr th {\n",
              "        vertical-align: top;\n",
              "    }\n",
              "\n",
              "    .dataframe thead th {\n",
              "        text-align: right;\n",
              "    }\n",
              "</style>\n",
              "<table border=\"1\" class=\"dataframe\">\n",
              "  <thead>\n",
              "    <tr style=\"text-align: right;\">\n",
              "      <th></th>\n",
              "      <th>age</th>\n",
              "      <th>fnlwgt</th>\n",
              "      <th>education-num</th>\n",
              "      <th>marital-status</th>\n",
              "      <th>ocupation</th>\n",
              "      <th>relationship</th>\n",
              "      <th>sex</th>\n",
              "      <th>capital-gain</th>\n",
              "      <th>capital-loss</th>\n",
              "      <th>hours-per-week</th>\n",
              "      <th>...</th>\n",
              "      <th>education_ 9th</th>\n",
              "      <th>education_ Assoc-acdm</th>\n",
              "      <th>education_ Assoc-voc</th>\n",
              "      <th>education_ Bachelors</th>\n",
              "      <th>education_ Doctorate</th>\n",
              "      <th>education_ HS-grad</th>\n",
              "      <th>education_ Masters</th>\n",
              "      <th>education_ Preschool</th>\n",
              "      <th>education_ Prof-school</th>\n",
              "      <th>education_ Some-college</th>\n",
              "    </tr>\n",
              "  </thead>\n",
              "  <tbody>\n",
              "    <tr>\n",
              "      <th>1674</th>\n",
              "      <td>47</td>\n",
              "      <td>170846</td>\n",
              "      <td>12</td>\n",
              "      <td>Married-civ-spouse</td>\n",
              "      <td>Adm-clerical</td>\n",
              "      <td>Wife</td>\n",
              "      <td>False</td>\n",
              "      <td>0</td>\n",
              "      <td>0</td>\n",
              "      <td>40</td>\n",
              "      <td>...</td>\n",
              "      <td>0</td>\n",
              "      <td>1</td>\n",
              "      <td>0</td>\n",
              "      <td>0</td>\n",
              "      <td>0</td>\n",
              "      <td>0</td>\n",
              "      <td>0</td>\n",
              "      <td>0</td>\n",
              "      <td>0</td>\n",
              "      <td>0</td>\n",
              "    </tr>\n",
              "    <tr>\n",
              "      <th>1380</th>\n",
              "      <td>25</td>\n",
              "      <td>208999</td>\n",
              "      <td>10</td>\n",
              "      <td>Separated</td>\n",
              "      <td>Adm-clerical</td>\n",
              "      <td>Own-child</td>\n",
              "      <td>False</td>\n",
              "      <td>0</td>\n",
              "      <td>0</td>\n",
              "      <td>40</td>\n",
              "      <td>...</td>\n",
              "      <td>0</td>\n",
              "      <td>0</td>\n",
              "      <td>0</td>\n",
              "      <td>0</td>\n",
              "      <td>0</td>\n",
              "      <td>0</td>\n",
              "      <td>0</td>\n",
              "      <td>0</td>\n",
              "      <td>0</td>\n",
              "      <td>1</td>\n",
              "    </tr>\n",
              "    <tr>\n",
              "      <th>2097</th>\n",
              "      <td>56</td>\n",
              "      <td>160829</td>\n",
              "      <td>9</td>\n",
              "      <td>Divorced</td>\n",
              "      <td>Adm-clerical</td>\n",
              "      <td>Not-in-family</td>\n",
              "      <td>False</td>\n",
              "      <td>0</td>\n",
              "      <td>0</td>\n",
              "      <td>46</td>\n",
              "      <td>...</td>\n",
              "      <td>0</td>\n",
              "      <td>0</td>\n",
              "      <td>0</td>\n",
              "      <td>0</td>\n",
              "      <td>0</td>\n",
              "      <td>1</td>\n",
              "      <td>0</td>\n",
              "      <td>0</td>\n",
              "      <td>0</td>\n",
              "      <td>0</td>\n",
              "    </tr>\n",
              "    <tr>\n",
              "      <th>11646</th>\n",
              "      <td>23</td>\n",
              "      <td>287988</td>\n",
              "      <td>13</td>\n",
              "      <td>Never-married</td>\n",
              "      <td>Prof-specialty</td>\n",
              "      <td>Not-in-family</td>\n",
              "      <td>False</td>\n",
              "      <td>0</td>\n",
              "      <td>0</td>\n",
              "      <td>40</td>\n",
              "      <td>...</td>\n",
              "      <td>0</td>\n",
              "      <td>0</td>\n",
              "      <td>0</td>\n",
              "      <td>1</td>\n",
              "      <td>0</td>\n",
              "      <td>0</td>\n",
              "      <td>0</td>\n",
              "      <td>0</td>\n",
              "      <td>0</td>\n",
              "      <td>0</td>\n",
              "    </tr>\n",
              "    <tr>\n",
              "      <th>17007</th>\n",
              "      <td>25</td>\n",
              "      <td>195914</td>\n",
              "      <td>10</td>\n",
              "      <td>Never-married</td>\n",
              "      <td>Sales</td>\n",
              "      <td>Own-child</td>\n",
              "      <td>False</td>\n",
              "      <td>3418</td>\n",
              "      <td>0</td>\n",
              "      <td>30</td>\n",
              "      <td>...</td>\n",
              "      <td>0</td>\n",
              "      <td>0</td>\n",
              "      <td>0</td>\n",
              "      <td>0</td>\n",
              "      <td>0</td>\n",
              "      <td>0</td>\n",
              "      <td>0</td>\n",
              "      <td>0</td>\n",
              "      <td>0</td>\n",
              "      <td>1</td>\n",
              "    </tr>\n",
              "  </tbody>\n",
              "</table>\n",
              "<p>5 rows × 42 columns</p>\n",
              "</div>"
            ],
            "text/plain": [
              "       age  fnlwgt  education-num       marital-status        ocupation  \\\n",
              "1674    47  170846             12   Married-civ-spouse     Adm-clerical   \n",
              "1380    25  208999             10            Separated     Adm-clerical   \n",
              "2097    56  160829              9             Divorced     Adm-clerical   \n",
              "11646   23  287988             13        Never-married   Prof-specialty   \n",
              "17007   25  195914             10        Never-married            Sales   \n",
              "\n",
              "         relationship    sex  capital-gain  capital-loss  hours-per-week  ...  \\\n",
              "1674             Wife  False             0             0              40  ...   \n",
              "1380        Own-child  False             0             0              40  ...   \n",
              "2097    Not-in-family  False             0             0              46  ...   \n",
              "11646   Not-in-family  False             0             0              40  ...   \n",
              "17007       Own-child  False          3418             0              30  ...   \n",
              "\n",
              "      education_ 9th education_ Assoc-acdm  education_ Assoc-voc  \\\n",
              "1674               0                     1                     0   \n",
              "1380               0                     0                     0   \n",
              "2097               0                     0                     0   \n",
              "11646              0                     0                     0   \n",
              "17007              0                     0                     0   \n",
              "\n",
              "       education_ Bachelors  education_ Doctorate  education_ HS-grad  \\\n",
              "1674                      0                     0                   0   \n",
              "1380                      0                     0                   0   \n",
              "2097                      0                     0                   1   \n",
              "11646                     1                     0                   0   \n",
              "17007                     0                     0                   0   \n",
              "\n",
              "       education_ Masters  education_ Preschool  education_ Prof-school  \\\n",
              "1674                    0                     0                       0   \n",
              "1380                    0                     0                       0   \n",
              "2097                    0                     0                       0   \n",
              "11646                   0                     0                       0   \n",
              "17007                   0                     0                       0   \n",
              "\n",
              "       education_ Some-college  \n",
              "1674                         0  \n",
              "1380                         1  \n",
              "2097                         0  \n",
              "11646                        0  \n",
              "17007                        1  \n",
              "\n",
              "[5 rows x 42 columns]"
            ]
          },
          "execution_count": 23,
          "metadata": {},
          "output_type": "execute_result"
        }
      ],
      "source": [
        "# from sklearn.preprocessing import StandardScaler\n",
        "\n",
        "# Transforma em valor numérico, as colunas que contém texto\n",
        "df_c = pd.get_dummies(\n",
        "    df, columns=['race', 'workclass', 'education'])\n",
        "df_c.head()\n",
        "# Normalização\n",
        "# scaler = StandardScaler()\n",
        "# scaler.fit(df_c)\n",
        "# df_c = scaler.transform(df_c)\n"
      ]
    },
    {
      "cell_type": "code",
      "execution_count": 24,
      "metadata": {
        "id": "ruA1S_G55euW",
        "outputId": "7a5eb353-0a4d-4518-826f-990e9d1a8a78"
      },
      "outputs": [
        {
          "ename": "KeyError",
          "evalue": "\"['race', 'workclass', 'education'] not found in axis\"",
          "output_type": "error",
          "traceback": [
            "\u001b[0;31m---------------------------------------------------------------------------\u001b[0m",
            "\u001b[0;31mKeyError\u001b[0m                                  Traceback (most recent call last)",
            "\u001b[1;32m/home/lucas/workspace/ac2-projeto-ic/projeto.ipynb Cell 21'\u001b[0m in \u001b[0;36m<cell line: 3>\u001b[0;34m()\u001b[0m\n\u001b[1;32m      <a href='vscode-notebook-cell:/home/lucas/workspace/ac2-projeto-ic/projeto.ipynb#ch0000020?line=0'>1</a>\u001b[0m \u001b[39mfrom\u001b[39;00m \u001b[39msklearn\u001b[39;00m\u001b[39m.\u001b[39;00m\u001b[39mmodel_selection\u001b[39;00m \u001b[39mimport\u001b[39;00m train_test_split\n\u001b[0;32m----> <a href='vscode-notebook-cell:/home/lucas/workspace/ac2-projeto-ic/projeto.ipynb#ch0000020?line=2'>3</a>\u001b[0m X \u001b[39m=\u001b[39m df_c\u001b[39m.\u001b[39;49mdrop(columns\u001b[39m=\u001b[39;49m[\u001b[39m'\u001b[39;49m\u001b[39mgreater\u001b[39;49m\u001b[39m'\u001b[39;49m, \u001b[39m'\u001b[39;49m\u001b[39mrace\u001b[39;49m\u001b[39m'\u001b[39;49m, \u001b[39m'\u001b[39;49m\u001b[39mworkclass\u001b[39;49m\u001b[39m'\u001b[39;49m, \u001b[39m'\u001b[39;49m\u001b[39meducation\u001b[39;49m\u001b[39m'\u001b[39;49m, \u001b[39m'\u001b[39;49m\u001b[39mnative-country\u001b[39;49m\u001b[39m'\u001b[39;49m, \u001b[39m'\u001b[39;49m\u001b[39mmarital-status\u001b[39;49m\u001b[39m'\u001b[39;49m, \u001b[39m'\u001b[39;49m\u001b[39mocupation\u001b[39;49m\u001b[39m'\u001b[39;49m, \u001b[39m'\u001b[39;49m\u001b[39mrelationship\u001b[39;49m\u001b[39m'\u001b[39;49m])\n\u001b[1;32m      <a href='vscode-notebook-cell:/home/lucas/workspace/ac2-projeto-ic/projeto.ipynb#ch0000020?line=3'>4</a>\u001b[0m y \u001b[39m=\u001b[39m df_c\u001b[39m.\u001b[39mgreater\n\u001b[1;32m      <a href='vscode-notebook-cell:/home/lucas/workspace/ac2-projeto-ic/projeto.ipynb#ch0000020?line=5'>6</a>\u001b[0m X_train, X_test, y_train, y_test \u001b[39m=\u001b[39m train_test_split(\n\u001b[1;32m      <a href='vscode-notebook-cell:/home/lucas/workspace/ac2-projeto-ic/projeto.ipynb#ch0000020?line=6'>7</a>\u001b[0m     X, y, test_size\u001b[39m=\u001b[39m\u001b[39m0.33\u001b[39m, random_state\u001b[39m=\u001b[39m\u001b[39m42\u001b[39m)\n",
            "File \u001b[0;32m~/workspace/ac2-projeto-ic/.venv/lib/python3.8/site-packages/pandas/util/_decorators.py:311\u001b[0m, in \u001b[0;36mdeprecate_nonkeyword_arguments.<locals>.decorate.<locals>.wrapper\u001b[0;34m(*args, **kwargs)\u001b[0m\n\u001b[1;32m    <a href='file:///home/lucas/workspace/ac2-projeto-ic/.venv/lib/python3.8/site-packages/pandas/util/_decorators.py?line=304'>305</a>\u001b[0m \u001b[39mif\u001b[39;00m \u001b[39mlen\u001b[39m(args) \u001b[39m>\u001b[39m num_allow_args:\n\u001b[1;32m    <a href='file:///home/lucas/workspace/ac2-projeto-ic/.venv/lib/python3.8/site-packages/pandas/util/_decorators.py?line=305'>306</a>\u001b[0m     warnings\u001b[39m.\u001b[39mwarn(\n\u001b[1;32m    <a href='file:///home/lucas/workspace/ac2-projeto-ic/.venv/lib/python3.8/site-packages/pandas/util/_decorators.py?line=306'>307</a>\u001b[0m         msg\u001b[39m.\u001b[39mformat(arguments\u001b[39m=\u001b[39marguments),\n\u001b[1;32m    <a href='file:///home/lucas/workspace/ac2-projeto-ic/.venv/lib/python3.8/site-packages/pandas/util/_decorators.py?line=307'>308</a>\u001b[0m         \u001b[39mFutureWarning\u001b[39;00m,\n\u001b[1;32m    <a href='file:///home/lucas/workspace/ac2-projeto-ic/.venv/lib/python3.8/site-packages/pandas/util/_decorators.py?line=308'>309</a>\u001b[0m         stacklevel\u001b[39m=\u001b[39mstacklevel,\n\u001b[1;32m    <a href='file:///home/lucas/workspace/ac2-projeto-ic/.venv/lib/python3.8/site-packages/pandas/util/_decorators.py?line=309'>310</a>\u001b[0m     )\n\u001b[0;32m--> <a href='file:///home/lucas/workspace/ac2-projeto-ic/.venv/lib/python3.8/site-packages/pandas/util/_decorators.py?line=310'>311</a>\u001b[0m \u001b[39mreturn\u001b[39;00m func(\u001b[39m*\u001b[39;49margs, \u001b[39m*\u001b[39;49m\u001b[39m*\u001b[39;49mkwargs)\n",
            "File \u001b[0;32m~/workspace/ac2-projeto-ic/.venv/lib/python3.8/site-packages/pandas/core/frame.py:4954\u001b[0m, in \u001b[0;36mDataFrame.drop\u001b[0;34m(self, labels, axis, index, columns, level, inplace, errors)\u001b[0m\n\u001b[1;32m   <a href='file:///home/lucas/workspace/ac2-projeto-ic/.venv/lib/python3.8/site-packages/pandas/core/frame.py?line=4805'>4806</a>\u001b[0m \u001b[39m@deprecate_nonkeyword_arguments\u001b[39m(version\u001b[39m=\u001b[39m\u001b[39mNone\u001b[39;00m, allowed_args\u001b[39m=\u001b[39m[\u001b[39m\"\u001b[39m\u001b[39mself\u001b[39m\u001b[39m\"\u001b[39m, \u001b[39m\"\u001b[39m\u001b[39mlabels\u001b[39m\u001b[39m\"\u001b[39m])\n\u001b[1;32m   <a href='file:///home/lucas/workspace/ac2-projeto-ic/.venv/lib/python3.8/site-packages/pandas/core/frame.py?line=4806'>4807</a>\u001b[0m \u001b[39mdef\u001b[39;00m \u001b[39mdrop\u001b[39m(\n\u001b[1;32m   <a href='file:///home/lucas/workspace/ac2-projeto-ic/.venv/lib/python3.8/site-packages/pandas/core/frame.py?line=4807'>4808</a>\u001b[0m     \u001b[39mself\u001b[39m,\n\u001b[0;32m   (...)\u001b[0m\n\u001b[1;32m   <a href='file:///home/lucas/workspace/ac2-projeto-ic/.venv/lib/python3.8/site-packages/pandas/core/frame.py?line=4814'>4815</a>\u001b[0m     errors: \u001b[39mstr\u001b[39m \u001b[39m=\u001b[39m \u001b[39m\"\u001b[39m\u001b[39mraise\u001b[39m\u001b[39m\"\u001b[39m,\n\u001b[1;32m   <a href='file:///home/lucas/workspace/ac2-projeto-ic/.venv/lib/python3.8/site-packages/pandas/core/frame.py?line=4815'>4816</a>\u001b[0m ):\n\u001b[1;32m   <a href='file:///home/lucas/workspace/ac2-projeto-ic/.venv/lib/python3.8/site-packages/pandas/core/frame.py?line=4816'>4817</a>\u001b[0m     \u001b[39m\"\"\"\u001b[39;00m\n\u001b[1;32m   <a href='file:///home/lucas/workspace/ac2-projeto-ic/.venv/lib/python3.8/site-packages/pandas/core/frame.py?line=4817'>4818</a>\u001b[0m \u001b[39m    Drop specified labels from rows or columns.\u001b[39;00m\n\u001b[1;32m   <a href='file:///home/lucas/workspace/ac2-projeto-ic/.venv/lib/python3.8/site-packages/pandas/core/frame.py?line=4818'>4819</a>\u001b[0m \n\u001b[0;32m   (...)\u001b[0m\n\u001b[1;32m   <a href='file:///home/lucas/workspace/ac2-projeto-ic/.venv/lib/python3.8/site-packages/pandas/core/frame.py?line=4951'>4952</a>\u001b[0m \u001b[39m            weight  1.0     0.8\u001b[39;00m\n\u001b[1;32m   <a href='file:///home/lucas/workspace/ac2-projeto-ic/.venv/lib/python3.8/site-packages/pandas/core/frame.py?line=4952'>4953</a>\u001b[0m \u001b[39m    \"\"\"\u001b[39;00m\n\u001b[0;32m-> <a href='file:///home/lucas/workspace/ac2-projeto-ic/.venv/lib/python3.8/site-packages/pandas/core/frame.py?line=4953'>4954</a>\u001b[0m     \u001b[39mreturn\u001b[39;00m \u001b[39msuper\u001b[39;49m()\u001b[39m.\u001b[39;49mdrop(\n\u001b[1;32m   <a href='file:///home/lucas/workspace/ac2-projeto-ic/.venv/lib/python3.8/site-packages/pandas/core/frame.py?line=4954'>4955</a>\u001b[0m         labels\u001b[39m=\u001b[39;49mlabels,\n\u001b[1;32m   <a href='file:///home/lucas/workspace/ac2-projeto-ic/.venv/lib/python3.8/site-packages/pandas/core/frame.py?line=4955'>4956</a>\u001b[0m         axis\u001b[39m=\u001b[39;49maxis,\n\u001b[1;32m   <a href='file:///home/lucas/workspace/ac2-projeto-ic/.venv/lib/python3.8/site-packages/pandas/core/frame.py?line=4956'>4957</a>\u001b[0m         index\u001b[39m=\u001b[39;49mindex,\n\u001b[1;32m   <a href='file:///home/lucas/workspace/ac2-projeto-ic/.venv/lib/python3.8/site-packages/pandas/core/frame.py?line=4957'>4958</a>\u001b[0m         columns\u001b[39m=\u001b[39;49mcolumns,\n\u001b[1;32m   <a href='file:///home/lucas/workspace/ac2-projeto-ic/.venv/lib/python3.8/site-packages/pandas/core/frame.py?line=4958'>4959</a>\u001b[0m         level\u001b[39m=\u001b[39;49mlevel,\n\u001b[1;32m   <a href='file:///home/lucas/workspace/ac2-projeto-ic/.venv/lib/python3.8/site-packages/pandas/core/frame.py?line=4959'>4960</a>\u001b[0m         inplace\u001b[39m=\u001b[39;49minplace,\n\u001b[1;32m   <a href='file:///home/lucas/workspace/ac2-projeto-ic/.venv/lib/python3.8/site-packages/pandas/core/frame.py?line=4960'>4961</a>\u001b[0m         errors\u001b[39m=\u001b[39;49merrors,\n\u001b[1;32m   <a href='file:///home/lucas/workspace/ac2-projeto-ic/.venv/lib/python3.8/site-packages/pandas/core/frame.py?line=4961'>4962</a>\u001b[0m     )\n",
            "File \u001b[0;32m~/workspace/ac2-projeto-ic/.venv/lib/python3.8/site-packages/pandas/core/generic.py:4267\u001b[0m, in \u001b[0;36mNDFrame.drop\u001b[0;34m(self, labels, axis, index, columns, level, inplace, errors)\u001b[0m\n\u001b[1;32m   <a href='file:///home/lucas/workspace/ac2-projeto-ic/.venv/lib/python3.8/site-packages/pandas/core/generic.py?line=4264'>4265</a>\u001b[0m \u001b[39mfor\u001b[39;00m axis, labels \u001b[39min\u001b[39;00m axes\u001b[39m.\u001b[39mitems():\n\u001b[1;32m   <a href='file:///home/lucas/workspace/ac2-projeto-ic/.venv/lib/python3.8/site-packages/pandas/core/generic.py?line=4265'>4266</a>\u001b[0m     \u001b[39mif\u001b[39;00m labels \u001b[39mis\u001b[39;00m \u001b[39mnot\u001b[39;00m \u001b[39mNone\u001b[39;00m:\n\u001b[0;32m-> <a href='file:///home/lucas/workspace/ac2-projeto-ic/.venv/lib/python3.8/site-packages/pandas/core/generic.py?line=4266'>4267</a>\u001b[0m         obj \u001b[39m=\u001b[39m obj\u001b[39m.\u001b[39;49m_drop_axis(labels, axis, level\u001b[39m=\u001b[39;49mlevel, errors\u001b[39m=\u001b[39;49merrors)\n\u001b[1;32m   <a href='file:///home/lucas/workspace/ac2-projeto-ic/.venv/lib/python3.8/site-packages/pandas/core/generic.py?line=4268'>4269</a>\u001b[0m \u001b[39mif\u001b[39;00m inplace:\n\u001b[1;32m   <a href='file:///home/lucas/workspace/ac2-projeto-ic/.venv/lib/python3.8/site-packages/pandas/core/generic.py?line=4269'>4270</a>\u001b[0m     \u001b[39mself\u001b[39m\u001b[39m.\u001b[39m_update_inplace(obj)\n",
            "File \u001b[0;32m~/workspace/ac2-projeto-ic/.venv/lib/python3.8/site-packages/pandas/core/generic.py:4311\u001b[0m, in \u001b[0;36mNDFrame._drop_axis\u001b[0;34m(self, labels, axis, level, errors, consolidate, only_slice)\u001b[0m\n\u001b[1;32m   <a href='file:///home/lucas/workspace/ac2-projeto-ic/.venv/lib/python3.8/site-packages/pandas/core/generic.py?line=4308'>4309</a>\u001b[0m         new_axis \u001b[39m=\u001b[39m axis\u001b[39m.\u001b[39mdrop(labels, level\u001b[39m=\u001b[39mlevel, errors\u001b[39m=\u001b[39merrors)\n\u001b[1;32m   <a href='file:///home/lucas/workspace/ac2-projeto-ic/.venv/lib/python3.8/site-packages/pandas/core/generic.py?line=4309'>4310</a>\u001b[0m     \u001b[39melse\u001b[39;00m:\n\u001b[0;32m-> <a href='file:///home/lucas/workspace/ac2-projeto-ic/.venv/lib/python3.8/site-packages/pandas/core/generic.py?line=4310'>4311</a>\u001b[0m         new_axis \u001b[39m=\u001b[39m axis\u001b[39m.\u001b[39;49mdrop(labels, errors\u001b[39m=\u001b[39;49merrors)\n\u001b[1;32m   <a href='file:///home/lucas/workspace/ac2-projeto-ic/.venv/lib/python3.8/site-packages/pandas/core/generic.py?line=4311'>4312</a>\u001b[0m     indexer \u001b[39m=\u001b[39m axis\u001b[39m.\u001b[39mget_indexer(new_axis)\n\u001b[1;32m   <a href='file:///home/lucas/workspace/ac2-projeto-ic/.venv/lib/python3.8/site-packages/pandas/core/generic.py?line=4313'>4314</a>\u001b[0m \u001b[39m# Case for non-unique axis\u001b[39;00m\n\u001b[1;32m   <a href='file:///home/lucas/workspace/ac2-projeto-ic/.venv/lib/python3.8/site-packages/pandas/core/generic.py?line=4314'>4315</a>\u001b[0m \u001b[39melse\u001b[39;00m:\n",
            "File \u001b[0;32m~/workspace/ac2-projeto-ic/.venv/lib/python3.8/site-packages/pandas/core/indexes/base.py:6644\u001b[0m, in \u001b[0;36mIndex.drop\u001b[0;34m(self, labels, errors)\u001b[0m\n\u001b[1;32m   <a href='file:///home/lucas/workspace/ac2-projeto-ic/.venv/lib/python3.8/site-packages/pandas/core/indexes/base.py?line=6641'>6642</a>\u001b[0m \u001b[39mif\u001b[39;00m mask\u001b[39m.\u001b[39many():\n\u001b[1;32m   <a href='file:///home/lucas/workspace/ac2-projeto-ic/.venv/lib/python3.8/site-packages/pandas/core/indexes/base.py?line=6642'>6643</a>\u001b[0m     \u001b[39mif\u001b[39;00m errors \u001b[39m!=\u001b[39m \u001b[39m\"\u001b[39m\u001b[39mignore\u001b[39m\u001b[39m\"\u001b[39m:\n\u001b[0;32m-> <a href='file:///home/lucas/workspace/ac2-projeto-ic/.venv/lib/python3.8/site-packages/pandas/core/indexes/base.py?line=6643'>6644</a>\u001b[0m         \u001b[39mraise\u001b[39;00m \u001b[39mKeyError\u001b[39;00m(\u001b[39mf\u001b[39m\u001b[39m\"\u001b[39m\u001b[39m{\u001b[39;00m\u001b[39mlist\u001b[39m(labels[mask])\u001b[39m}\u001b[39;00m\u001b[39m not found in axis\u001b[39m\u001b[39m\"\u001b[39m)\n\u001b[1;32m   <a href='file:///home/lucas/workspace/ac2-projeto-ic/.venv/lib/python3.8/site-packages/pandas/core/indexes/base.py?line=6644'>6645</a>\u001b[0m     indexer \u001b[39m=\u001b[39m indexer[\u001b[39m~\u001b[39mmask]\n\u001b[1;32m   <a href='file:///home/lucas/workspace/ac2-projeto-ic/.venv/lib/python3.8/site-packages/pandas/core/indexes/base.py?line=6645'>6646</a>\u001b[0m \u001b[39mreturn\u001b[39;00m \u001b[39mself\u001b[39m\u001b[39m.\u001b[39mdelete(indexer)\n",
            "\u001b[0;31mKeyError\u001b[0m: \"['race', 'workclass', 'education'] not found in axis\""
          ]
        }
      ],
      "source": [
        "from sklearn.model_selection import train_test_split\n",
        "\n",
        "X = df_c.drop(columns=['greater', 'race', 'workclass', 'education', 'native-country', 'marital-status', 'ocupation', 'relationship'])\n",
        "y = df_c.greater\n",
        "\n",
        "X_train, X_test, y_train, y_test = train_test_split(\n",
        "    X, y, test_size=0.33, random_state=42)\n",
        "X.shape"
      ]
    },
    {
      "cell_type": "code",
      "execution_count": null,
      "metadata": {
        "id": "ok05370U5euW",
        "outputId": "7de27af2-fd3f-49f2-d93d-6b2a0fab5f87"
      },
      "outputs": [
        {
          "name": "stdout",
          "output_type": "stream",
          "text": [
            "Quantas amostras de treino sobraram: 7612\n",
            "Acurácia: 75.33654812135825\n"
          ]
        }
      ],
      "source": [
        "# ELIMINACAO SEQUENCIAL\n",
        "\n",
        "from sklearn.neighbors import KNeighborsClassifier\n",
        "import numpy as np\n",
        "import warnings\n",
        "warnings.filterwarnings(\"ignore\")\n",
        "\n",
        "\n",
        "# cria um vetor que vai auxiliar a identificar quais registros são considerados\n",
        "# no treino e quais não são, como se fosse um filtro\n",
        "indices = []\n",
        "for _ in range(len(X_train)):\n",
        "  indices.append(True)\n",
        "\n",
        "# faz a logica de tentar eliminar cada registro e ver se está correto\n",
        "for i in range(len(X_train)):\n",
        "  indices[i] = False\n",
        "  model = KNeighborsClassifier(n_neighbors=1)\n",
        "  model.fit(X_train[indices], y_train[indices])\n",
        "\n",
        "  pred = model.predict([X_train.values[i]])\n",
        "  if pred != y_train.values[i]:\n",
        "    indices[i] = True\n",
        "\n",
        "print(\"Quantas amostras de treino sobraram:\", len(X_train[indices]))\n",
        "\n",
        "# calcula o resultado final depois da redução\n",
        "\n",
        "model = KNeighborsClassifier(n_neighbors=100)\n",
        "model.fit(X_train[indices], y_train[indices])\n",
        "pred = model.predict(X_test)\n",
        "\n",
        "print(\"Acurácia:\", (pred == y_test).sum() / len(X_test) * 100)\n"
      ]
    },
    {
      "cell_type": "markdown",
      "metadata": {
        "id": "Dq4z9wpt7Kle"
      },
      "source": [
        "# Dados para treino e teste\n",
        "\n",
        "• Embaralhar dados para melhorar a acertividade dos treinos e testes para não correr o risco dos dados estarem ordenados de alguma maneira.\n",
        "\n",
        "• Selecionar as colunas com maior relevância para o problema.\n",
        "\n",
        "• Remover as linhas com dados nulos ou preencher de alguma maneira para não prejudicar a predição. \"Já foi feito anteriormente utilizando o comando: df = df.dropna()\""
      ]
    },
    {
      "cell_type": "code",
      "execution_count": 13,
      "metadata": {
        "id": "zFiY2vRk-mZG"
      },
      "outputs": [],
      "source": [
        "# Embaralhamento das linhas da base\n",
        "df = df.sample(len(df))"
      ]
    },
    {
      "cell_type": "code",
      "execution_count": 14,
      "metadata": {
        "id": "Sqhn7rDX_SWz"
      },
      "outputs": [],
      "source": [
        "# Colunas de maior relevância que serão utilizadas para a classificação\n",
        "columns = ['workclass','education','education-num','marital-status','relationship', 'race', 'sex', 'hours-per-week', 'native-country']\n",
        "\n",
        "# Criação de um DataFrame sem a coluna de predição\n",
        "df_c = df[columns]\n",
        "\n",
        "# Definindo 'y' com a coluna de predição\n",
        "y = df['greater']"
      ]
    },
    {
      "cell_type": "markdown",
      "metadata": {
        "id": "vI9so8flAgEg"
      },
      "source": [
        "### Dummies\n",
        "• Como não existem apenas dados numéricos, mas também dados categóricos, para construir os modelos de predição pelo 'Sickit Learn' é necessário transformar as colunas que possuem valores em texto em valores númericos. Isso é feito pelo get_dummies\n",
        "\n",
        "### StandartScaler\n",
        "• Para evitar o cenário de haver colunas com valores grandes, por exemplo, 30.000 e colunas com valores pequenos 1.000 e isso impactar os resultados, é interessante colocar esses valores dentro de um intervalo de 0 e 1. Isso é feito utilizando o StandartScaler"
      ]
    },
    {
      "cell_type": "code",
      "execution_count": 15,
      "metadata": {
        "id": "o_ReyQeXCatI"
      },
      "outputs": [],
      "source": [
        "from sklearn.preprocessing import StandardScaler\n",
        "\n",
        "# Transforma em valor numérico, as colunas que contém texto\n",
        "df_c = pd.get_dummies(df_c, columns=['workclass','education','marital-status','relationship','race', 'sex', 'native-country'])\n",
        "\n",
        "# Normalização\n",
        "scaler = StandardScaler()\n",
        "scaler.fit(df_c)\n",
        "df_c = scaler.transform(df_c)"
      ]
    },
    {
      "cell_type": "markdown",
      "metadata": {
        "id": "ArXuPXzBDXdR"
      },
      "source": [
        "### Hold-out\n",
        "\n",
        "Hold-out é um método de separação de valores para treino e teste\n",
        "\n",
        "Foi escolhido a proporção de 70% treino e 30% teste (proporção padrão)"
      ]
    },
    {
      "cell_type": "code",
      "execution_count": 16,
      "metadata": {
        "colab": {
          "base_uri": "https://localhost:8080/"
        },
        "id": "HMWlUFY_CjE_",
        "outputId": "1b98970a-9766-4d68-a66c-fcd4b435c4f6"
      },
      "outputs": [
        {
          "name": "stdout",
          "output_type": "stream",
          "text": [
            "32561\n",
            "22792\n"
          ]
        }
      ],
      "source": [
        "# Capturando a quantidade que será utilizado para treino e para teste\n",
        "\n",
        "# Valor total\n",
        "print(len(df))\n",
        "\n",
        "# 70% da base\n",
        "train_percentage = int(len(df)*70/100)\n",
        "print(train_percentage)"
      ]
    },
    {
      "cell_type": "code",
      "execution_count": 17,
      "metadata": {
        "id": "W9qz29EeEg9k"
      },
      "outputs": [],
      "source": [
        "# Criação da massa de treino e teste, utilizando o Holdout\n",
        "X_train, X_test = df_c[:train_percentage], df_c[train_percentage:]\n",
        "y_train, y_test = y[:train_percentage], y[train_percentage:]"
      ]
    },
    {
      "cell_type": "markdown",
      "metadata": {
        "id": "cTM_wXGRFMaT"
      },
      "source": [
        "# Modelo KNN\n",
        "\n",
        "• Criar modelo KNN utilizando valor fixo de vizinhos\n",
        "\n",
        "• Criar modelo KNN utilizando GridSearch para verificar o melhor número de vizinhos para a maior acurácia\n",
        "\n",
        "• Criar modelo KNN utilizando validação cruzada para garantir que todos os dados foram, alguma vez utilizados como teste e como treino"
      ]
    },
    {
      "cell_type": "code",
      "execution_count": 18,
      "metadata": {
        "id": "8xCq0YXyF9La"
      },
      "outputs": [],
      "source": [
        "from sklearn.neighbors import KNeighborsClassifier\n",
        "\n",
        "# Aplicação do modelo KNN e treinamento do mesmo\n",
        "modelo = KNeighborsClassifier(n_neighbors = 13)\n",
        "modelo.fit(X_train, y_train)\n",
        "\n",
        "# Aplicação da predição no modelo\n",
        "y_pred = modelo.predict(X_test)"
      ]
    },
    {
      "cell_type": "code",
      "execution_count": 19,
      "metadata": {
        "colab": {
          "base_uri": "https://localhost:8080/"
        },
        "id": "urA7qqCxGAcc",
        "outputId": "49439d37-8e84-47da-e576-3a4b3ec38810"
      },
      "outputs": [
        {
          "data": {
            "text/plain": [
              "0.8154365851161839"
            ]
          },
          "execution_count": 19,
          "metadata": {},
          "output_type": "execute_result"
        }
      ],
      "source": [
        "from sklearn.metrics import accuracy_score\n",
        " \n",
        "# Demonstração da acurácia encontrada pelo modelo\n",
        "accuracy_score(y_pred, y_test)"
      ]
    },
    {
      "cell_type": "code",
      "execution_count": 20,
      "metadata": {
        "colab": {
          "base_uri": "https://localhost:8080/"
        },
        "id": "PNIcgLXIGB_J",
        "outputId": "99786752-7d10-4ab9-d34c-6ac0789fc5ab"
      },
      "outputs": [
        {
          "name": "stdout",
          "output_type": "stream",
          "text": [
            "              precision    recall  f1-score   support\n",
            "\n",
            "       <=50K       0.90      0.86      0.88      7804\n",
            "        >50K       0.53      0.63      0.58      1965\n",
            "\n",
            "    accuracy                           0.82      9769\n",
            "   macro avg       0.72      0.75      0.73      9769\n",
            "weighted avg       0.83      0.82      0.82      9769\n",
            "\n"
          ]
        }
      ],
      "source": [
        "from sklearn.metrics import classification_report\n",
        " \n",
        "# Exibindo relatório da precisão de acertos dos valores menores e maiores que 50k\n",
        "print(classification_report(y_pred, y_test))"
      ]
    },
    {
      "cell_type": "markdown",
      "metadata": {
        "id": "y7W_jpjiGyMZ"
      },
      "source": [
        "## KNN: GridSearch\n",
        "\n",
        "Verificar o melhor número de vizinhos para a maior acurácia"
      ]
    },
    {
      "cell_type": "code",
      "execution_count": 21,
      "metadata": {
        "colab": {
          "base_uri": "https://localhost:8080/"
        },
        "id": "73-sEfN9G5nx",
        "outputId": "e30273ae-79ed-49cb-d6bb-8f755471760e"
      },
      "outputs": [
        {
          "data": {
            "text/html": [
              "<style>#sk-container-id-1 {color: black;background-color: white;}#sk-container-id-1 pre{padding: 0;}#sk-container-id-1 div.sk-toggleable {background-color: white;}#sk-container-id-1 label.sk-toggleable__label {cursor: pointer;display: block;width: 100%;margin-bottom: 0;padding: 0.3em;box-sizing: border-box;text-align: center;}#sk-container-id-1 label.sk-toggleable__label-arrow:before {content: \"▸\";float: left;margin-right: 0.25em;color: #696969;}#sk-container-id-1 label.sk-toggleable__label-arrow:hover:before {color: black;}#sk-container-id-1 div.sk-estimator:hover label.sk-toggleable__label-arrow:before {color: black;}#sk-container-id-1 div.sk-toggleable__content {max-height: 0;max-width: 0;overflow: hidden;text-align: left;background-color: #f0f8ff;}#sk-container-id-1 div.sk-toggleable__content pre {margin: 0.2em;color: black;border-radius: 0.25em;background-color: #f0f8ff;}#sk-container-id-1 input.sk-toggleable__control:checked~div.sk-toggleable__content {max-height: 200px;max-width: 100%;overflow: auto;}#sk-container-id-1 input.sk-toggleable__control:checked~label.sk-toggleable__label-arrow:before {content: \"▾\";}#sk-container-id-1 div.sk-estimator input.sk-toggleable__control:checked~label.sk-toggleable__label {background-color: #d4ebff;}#sk-container-id-1 div.sk-label input.sk-toggleable__control:checked~label.sk-toggleable__label {background-color: #d4ebff;}#sk-container-id-1 input.sk-hidden--visually {border: 0;clip: rect(1px 1px 1px 1px);clip: rect(1px, 1px, 1px, 1px);height: 1px;margin: -1px;overflow: hidden;padding: 0;position: absolute;width: 1px;}#sk-container-id-1 div.sk-estimator {font-family: monospace;background-color: #f0f8ff;border: 1px dotted black;border-radius: 0.25em;box-sizing: border-box;margin-bottom: 0.5em;}#sk-container-id-1 div.sk-estimator:hover {background-color: #d4ebff;}#sk-container-id-1 div.sk-parallel-item::after {content: \"\";width: 100%;border-bottom: 1px solid gray;flex-grow: 1;}#sk-container-id-1 div.sk-label:hover label.sk-toggleable__label {background-color: #d4ebff;}#sk-container-id-1 div.sk-serial::before {content: \"\";position: absolute;border-left: 1px solid gray;box-sizing: border-box;top: 0;bottom: 0;left: 50%;z-index: 0;}#sk-container-id-1 div.sk-serial {display: flex;flex-direction: column;align-items: center;background-color: white;padding-right: 0.2em;padding-left: 0.2em;position: relative;}#sk-container-id-1 div.sk-item {position: relative;z-index: 1;}#sk-container-id-1 div.sk-parallel {display: flex;align-items: stretch;justify-content: center;background-color: white;position: relative;}#sk-container-id-1 div.sk-item::before, #sk-container-id-1 div.sk-parallel-item::before {content: \"\";position: absolute;border-left: 1px solid gray;box-sizing: border-box;top: 0;bottom: 0;left: 50%;z-index: -1;}#sk-container-id-1 div.sk-parallel-item {display: flex;flex-direction: column;z-index: 1;position: relative;background-color: white;}#sk-container-id-1 div.sk-parallel-item:first-child::after {align-self: flex-end;width: 50%;}#sk-container-id-1 div.sk-parallel-item:last-child::after {align-self: flex-start;width: 50%;}#sk-container-id-1 div.sk-parallel-item:only-child::after {width: 0;}#sk-container-id-1 div.sk-dashed-wrapped {border: 1px dashed gray;margin: 0 0.4em 0.5em 0.4em;box-sizing: border-box;padding-bottom: 0.4em;background-color: white;}#sk-container-id-1 div.sk-label label {font-family: monospace;font-weight: bold;display: inline-block;line-height: 1.2em;}#sk-container-id-1 div.sk-label-container {text-align: center;}#sk-container-id-1 div.sk-container {/* jupyter's `normalize.less` sets `[hidden] { display: none; }` but bootstrap.min.css set `[hidden] { display: none !important; }` so we also need the `!important` here to be able to override the default hidden behavior on the sphinx rendered scikit-learn.org. See: https://github.com/scikit-learn/scikit-learn/issues/21755 */display: inline-block !important;position: relative;}#sk-container-id-1 div.sk-text-repr-fallback {display: none;}</style><div id=\"sk-container-id-1\" class=\"sk-top-container\"><div class=\"sk-text-repr-fallback\"><pre>GridSearchCV(estimator=KNeighborsClassifier(n_neighbors=13),\n",
              "             param_grid={&#x27;n_neighbors&#x27;: [1, 5, 9, 13, 101, 207]})</pre><b>In a Jupyter environment, please rerun this cell to show the HTML representation or trust the notebook. <br />On GitHub, the HTML representation is unable to render, please try loading this page with nbviewer.org.</b></div><div class=\"sk-container\" hidden><div class=\"sk-item sk-dashed-wrapped\"><div class=\"sk-label-container\"><div class=\"sk-label sk-toggleable\"><input class=\"sk-toggleable__control sk-hidden--visually\" id=\"sk-estimator-id-1\" type=\"checkbox\" ><label for=\"sk-estimator-id-1\" class=\"sk-toggleable__label sk-toggleable__label-arrow\">GridSearchCV</label><div class=\"sk-toggleable__content\"><pre>GridSearchCV(estimator=KNeighborsClassifier(n_neighbors=13),\n",
              "             param_grid={&#x27;n_neighbors&#x27;: [1, 5, 9, 13, 101, 207]})</pre></div></div></div><div class=\"sk-parallel\"><div class=\"sk-parallel-item\"><div class=\"sk-item\"><div class=\"sk-label-container\"><div class=\"sk-label sk-toggleable\"><input class=\"sk-toggleable__control sk-hidden--visually\" id=\"sk-estimator-id-2\" type=\"checkbox\" ><label for=\"sk-estimator-id-2\" class=\"sk-toggleable__label sk-toggleable__label-arrow\">estimator: KNeighborsClassifier</label><div class=\"sk-toggleable__content\"><pre>KNeighborsClassifier(n_neighbors=13)</pre></div></div></div><div class=\"sk-serial\"><div class=\"sk-item\"><div class=\"sk-estimator sk-toggleable\"><input class=\"sk-toggleable__control sk-hidden--visually\" id=\"sk-estimator-id-3\" type=\"checkbox\" ><label for=\"sk-estimator-id-3\" class=\"sk-toggleable__label sk-toggleable__label-arrow\">KNeighborsClassifier</label><div class=\"sk-toggleable__content\"><pre>KNeighborsClassifier(n_neighbors=13)</pre></div></div></div></div></div></div></div></div></div></div>"
            ],
            "text/plain": [
              "GridSearchCV(estimator=KNeighborsClassifier(n_neighbors=13),\n",
              "             param_grid={'n_neighbors': [1, 5, 9, 13, 101, 207]})"
            ]
          },
          "execution_count": 21,
          "metadata": {},
          "output_type": "execute_result"
        }
      ],
      "source": [
        "from sklearn.model_selection import GridSearchCV\n",
        "\n",
        "# Definir o intervalo de parametros para teste\n",
        "params = {'n_neighbors':[1,5,9,13,101,207]}\n",
        "clf = GridSearchCV(modelo, params)\n",
        "clf.fit(X_train, y_train)"
      ]
    },
    {
      "cell_type": "code",
      "execution_count": 39,
      "metadata": {
        "colab": {
          "base_uri": "https://localhost:8080/",
          "height": 406
        },
        "id": "KFlK3AIFHQn8",
        "outputId": "b851791c-70d4-4f0e-d3ae-e0d872f2fc3a"
      },
      "outputs": [
        {
          "data": {
            "text/html": [
              "\n",
              "  <div id=\"df-ef658982-46ea-4745-96da-85ea535a5ec9\">\n",
              "    <div class=\"colab-df-container\">\n",
              "      <div>\n",
              "<style scoped>\n",
              "    .dataframe tbody tr th:only-of-type {\n",
              "        vertical-align: middle;\n",
              "    }\n",
              "\n",
              "    .dataframe tbody tr th {\n",
              "        vertical-align: top;\n",
              "    }\n",
              "\n",
              "    .dataframe thead th {\n",
              "        text-align: right;\n",
              "    }\n",
              "</style>\n",
              "<table border=\"1\" class=\"dataframe\">\n",
              "  <thead>\n",
              "    <tr style=\"text-align: right;\">\n",
              "      <th></th>\n",
              "      <th>mean_fit_time</th>\n",
              "      <th>std_fit_time</th>\n",
              "      <th>mean_score_time</th>\n",
              "      <th>std_score_time</th>\n",
              "      <th>param_n_neighbors</th>\n",
              "      <th>params</th>\n",
              "      <th>split0_test_score</th>\n",
              "      <th>split1_test_score</th>\n",
              "      <th>split2_test_score</th>\n",
              "      <th>split3_test_score</th>\n",
              "      <th>split4_test_score</th>\n",
              "      <th>mean_test_score</th>\n",
              "      <th>std_test_score</th>\n",
              "      <th>rank_test_score</th>\n",
              "    </tr>\n",
              "  </thead>\n",
              "  <tbody>\n",
              "    <tr>\n",
              "      <th>0</th>\n",
              "      <td>0.025812</td>\n",
              "      <td>0.006023</td>\n",
              "      <td>0.836299</td>\n",
              "      <td>0.150884</td>\n",
              "      <td>1</td>\n",
              "      <td>{'n_neighbors': 1}</td>\n",
              "      <td>0.770327</td>\n",
              "      <td>0.768092</td>\n",
              "      <td>0.770886</td>\n",
              "      <td>0.767253</td>\n",
              "      <td>0.762996</td>\n",
              "      <td>0.767911</td>\n",
              "      <td>0.002804</td>\n",
              "      <td>6</td>\n",
              "    </tr>\n",
              "    <tr>\n",
              "      <th>1</th>\n",
              "      <td>0.019684</td>\n",
              "      <td>0.000142</td>\n",
              "      <td>1.188673</td>\n",
              "      <td>0.077240</td>\n",
              "      <td>5</td>\n",
              "      <td>{'n_neighbors': 5}</td>\n",
              "      <td>0.803018</td>\n",
              "      <td>0.803018</td>\n",
              "      <td>0.806929</td>\n",
              "      <td>0.808326</td>\n",
              "      <td>0.802963</td>\n",
              "      <td>0.804851</td>\n",
              "      <td>0.002310</td>\n",
              "      <td>5</td>\n",
              "    </tr>\n",
              "    <tr>\n",
              "      <th>2</th>\n",
              "      <td>0.020161</td>\n",
              "      <td>0.000868</td>\n",
              "      <td>1.181182</td>\n",
              "      <td>0.075618</td>\n",
              "      <td>9</td>\n",
              "      <td>{'n_neighbors': 9}</td>\n",
              "      <td>0.810003</td>\n",
              "      <td>0.821738</td>\n",
              "      <td>0.814753</td>\n",
              "      <td>0.810562</td>\n",
              "      <td>0.815819</td>\n",
              "      <td>0.814575</td>\n",
              "      <td>0.004240</td>\n",
              "      <td>4</td>\n",
              "    </tr>\n",
              "    <tr>\n",
              "      <th>3</th>\n",
              "      <td>0.020000</td>\n",
              "      <td>0.000712</td>\n",
              "      <td>1.180115</td>\n",
              "      <td>0.067204</td>\n",
              "      <td>13</td>\n",
              "      <td>{'n_neighbors': 13}</td>\n",
              "      <td>0.813635</td>\n",
              "      <td>0.811959</td>\n",
              "      <td>0.817547</td>\n",
              "      <td>0.818664</td>\n",
              "      <td>0.816657</td>\n",
              "      <td>0.815692</td>\n",
              "      <td>0.002505</td>\n",
              "      <td>3</td>\n",
              "    </tr>\n",
              "    <tr>\n",
              "      <th>4</th>\n",
              "      <td>0.020384</td>\n",
              "      <td>0.000682</td>\n",
              "      <td>1.317520</td>\n",
              "      <td>0.175540</td>\n",
              "      <td>101</td>\n",
              "      <td>{'n_neighbors': 101}</td>\n",
              "      <td>0.813076</td>\n",
              "      <td>0.825650</td>\n",
              "      <td>0.827326</td>\n",
              "      <td>0.813076</td>\n",
              "      <td>0.817216</td>\n",
              "      <td>0.819269</td>\n",
              "      <td>0.006108</td>\n",
              "      <td>1</td>\n",
              "    </tr>\n",
              "    <tr>\n",
              "      <th>5</th>\n",
              "      <td>0.019825</td>\n",
              "      <td>0.000196</td>\n",
              "      <td>1.279775</td>\n",
              "      <td>0.073196</td>\n",
              "      <td>207</td>\n",
              "      <td>{'n_neighbors': 207}</td>\n",
              "      <td>0.813356</td>\n",
              "      <td>0.821459</td>\n",
              "      <td>0.822856</td>\n",
              "      <td>0.816150</td>\n",
              "      <td>0.814701</td>\n",
              "      <td>0.817704</td>\n",
              "      <td>0.003768</td>\n",
              "      <td>2</td>\n",
              "    </tr>\n",
              "  </tbody>\n",
              "</table>\n",
              "</div>\n",
              "      <button class=\"colab-df-convert\" onclick=\"convertToInteractive('df-ef658982-46ea-4745-96da-85ea535a5ec9')\"\n",
              "              title=\"Convert this dataframe to an interactive table.\"\n",
              "              style=\"display:none;\">\n",
              "        \n",
              "  <svg xmlns=\"http://www.w3.org/2000/svg\" height=\"24px\"viewBox=\"0 0 24 24\"\n",
              "       width=\"24px\">\n",
              "    <path d=\"M0 0h24v24H0V0z\" fill=\"none\"/>\n",
              "    <path d=\"M18.56 5.44l.94 2.06.94-2.06 2.06-.94-2.06-.94-.94-2.06-.94 2.06-2.06.94zm-11 1L8.5 8.5l.94-2.06 2.06-.94-2.06-.94L8.5 2.5l-.94 2.06-2.06.94zm10 10l.94 2.06.94-2.06 2.06-.94-2.06-.94-.94-2.06-.94 2.06-2.06.94z\"/><path d=\"M17.41 7.96l-1.37-1.37c-.4-.4-.92-.59-1.43-.59-.52 0-1.04.2-1.43.59L10.3 9.45l-7.72 7.72c-.78.78-.78 2.05 0 2.83L4 21.41c.39.39.9.59 1.41.59.51 0 1.02-.2 1.41-.59l7.78-7.78 2.81-2.81c.8-.78.8-2.07 0-2.86zM5.41 20L4 18.59l7.72-7.72 1.47 1.35L5.41 20z\"/>\n",
              "  </svg>\n",
              "      </button>\n",
              "      \n",
              "  <style>\n",
              "    .colab-df-container {\n",
              "      display:flex;\n",
              "      flex-wrap:wrap;\n",
              "      gap: 12px;\n",
              "    }\n",
              "\n",
              "    .colab-df-convert {\n",
              "      background-color: #E8F0FE;\n",
              "      border: none;\n",
              "      border-radius: 50%;\n",
              "      cursor: pointer;\n",
              "      display: none;\n",
              "      fill: #1967D2;\n",
              "      height: 32px;\n",
              "      padding: 0 0 0 0;\n",
              "      width: 32px;\n",
              "    }\n",
              "\n",
              "    .colab-df-convert:hover {\n",
              "      background-color: #E2EBFA;\n",
              "      box-shadow: 0px 1px 2px rgba(60, 64, 67, 0.3), 0px 1px 3px 1px rgba(60, 64, 67, 0.15);\n",
              "      fill: #174EA6;\n",
              "    }\n",
              "\n",
              "    [theme=dark] .colab-df-convert {\n",
              "      background-color: #3B4455;\n",
              "      fill: #D2E3FC;\n",
              "    }\n",
              "\n",
              "    [theme=dark] .colab-df-convert:hover {\n",
              "      background-color: #434B5C;\n",
              "      box-shadow: 0px 1px 3px 1px rgba(0, 0, 0, 0.15);\n",
              "      filter: drop-shadow(0px 1px 2px rgba(0, 0, 0, 0.3));\n",
              "      fill: #FFFFFF;\n",
              "    }\n",
              "  </style>\n",
              "\n",
              "      <script>\n",
              "        const buttonEl =\n",
              "          document.querySelector('#df-ef658982-46ea-4745-96da-85ea535a5ec9 button.colab-df-convert');\n",
              "        buttonEl.style.display =\n",
              "          google.colab.kernel.accessAllowed ? 'block' : 'none';\n",
              "\n",
              "        async function convertToInteractive(key) {\n",
              "          const element = document.querySelector('#df-ef658982-46ea-4745-96da-85ea535a5ec9');\n",
              "          const dataTable =\n",
              "            await google.colab.kernel.invokeFunction('convertToInteractive',\n",
              "                                                     [key], {});\n",
              "          if (!dataTable) return;\n",
              "\n",
              "          const docLinkHtml = 'Like what you see? Visit the ' +\n",
              "            '<a target=\"_blank\" href=https://colab.research.google.com/notebooks/data_table.ipynb>data table notebook</a>'\n",
              "            + ' to learn more about interactive tables.';\n",
              "          element.innerHTML = '';\n",
              "          dataTable['output_type'] = 'display_data';\n",
              "          await google.colab.output.renderOutput(dataTable, element);\n",
              "          const docLink = document.createElement('div');\n",
              "          docLink.innerHTML = docLinkHtml;\n",
              "          element.appendChild(docLink);\n",
              "        }\n",
              "      </script>\n",
              "    </div>\n",
              "  </div>\n",
              "  "
            ],
            "text/plain": [
              "   mean_fit_time  std_fit_time  mean_score_time  std_score_time  \\\n",
              "0       0.025812      0.006023         0.836299        0.150884   \n",
              "1       0.019684      0.000142         1.188673        0.077240   \n",
              "2       0.020161      0.000868         1.181182        0.075618   \n",
              "3       0.020000      0.000712         1.180115        0.067204   \n",
              "4       0.020384      0.000682         1.317520        0.175540   \n",
              "5       0.019825      0.000196         1.279775        0.073196   \n",
              "\n",
              "  param_n_neighbors                params  split0_test_score  \\\n",
              "0                 1    {'n_neighbors': 1}           0.770327   \n",
              "1                 5    {'n_neighbors': 5}           0.803018   \n",
              "2                 9    {'n_neighbors': 9}           0.810003   \n",
              "3                13   {'n_neighbors': 13}           0.813635   \n",
              "4               101  {'n_neighbors': 101}           0.813076   \n",
              "5               207  {'n_neighbors': 207}           0.813356   \n",
              "\n",
              "   split1_test_score  split2_test_score  split3_test_score  split4_test_score  \\\n",
              "0           0.768092           0.770886           0.767253           0.762996   \n",
              "1           0.803018           0.806929           0.808326           0.802963   \n",
              "2           0.821738           0.814753           0.810562           0.815819   \n",
              "3           0.811959           0.817547           0.818664           0.816657   \n",
              "4           0.825650           0.827326           0.813076           0.817216   \n",
              "5           0.821459           0.822856           0.816150           0.814701   \n",
              "\n",
              "   mean_test_score  std_test_score  rank_test_score  \n",
              "0         0.767911        0.002804                6  \n",
              "1         0.804851        0.002310                5  \n",
              "2         0.814575        0.004240                4  \n",
              "3         0.815692        0.002505                3  \n",
              "4         0.819269        0.006108                1  \n",
              "5         0.817704        0.003768                2  "
            ]
          },
          "metadata": {},
          "output_type": "display_data"
        }
      ],
      "source": [
        "# Exibir gráfico mostrando as médias com a melhor acurácia\n",
        "display(pd.DataFrame(clf.cv_results_))"
      ]
    },
    {
      "cell_type": "markdown",
      "metadata": {
        "id": "fHSSYG0IJOKW"
      },
      "source": [
        "## KNN: Validação cruzada\n",
        "\n",
        "Garante que todos os dados foram, alguma vez utilizados como teste e como treino"
      ]
    },
    {
      "cell_type": "code",
      "execution_count": 44,
      "metadata": {
        "colab": {
          "base_uri": "https://localhost:8080/"
        },
        "id": "iLH3JspfITHV",
        "outputId": "02f1c948-da92-489b-83c4-bd2d6c080f76"
      },
      "outputs": [
        {
          "name": "stdout",
          "output_type": "stream",
          "text": [
            "R2: 0.75 (+/- 0.03)\n",
            "[0.74721408 0.73313783 0.73372434 0.77595308 0.75058685 0.74295775\n",
            " 0.74823944 0.74647887 0.75762911 0.76819249 0.73650235 0.7435446\n",
            " 0.77288732 0.74765258 0.75704225]\n"
          ]
        }
      ],
      "source": [
        "from sklearn.model_selection import KFold\n",
        "from sklearn.neighbors import KNeighborsClassifier\n",
        "\n",
        "# Atribuição de valor de X e y\n",
        "X = df_c\n",
        "y = df[\"greater\"].values\n",
        "\n",
        "# Insere as informação desejadas para a realização da Validação Cruzada, no caso, com 15 divisões\n",
        "kf = KFold(n_splits = 15, random_state = 42, shuffle = True)\n",
        "\n",
        "# Inicializa vetor de scores, responsável por armazenar dados de cada iteração da Validação Cruzada\n",
        "scores = []\n",
        "\n",
        "# Percorre cada iteração da Validação Cruzada\n",
        "for train_index, test_index in kf.split(X):\n",
        "    \n",
        "    # Define os valores de treino e teste, baseado com a iteração da Validação Cruzada\n",
        "    X_train, X_test = X[train_index], X[test_index]\n",
        "    y_train, y_test = y[train_index], y[test_index]\n",
        "    # Aplicação do modelo KNN e treinamento do mesmo\n",
        "    modelo = KNeighborsClassifier(n_neighbors = 13)\n",
        "    modelo.fit(X_train, y_train)\n",
        "    # Aplicação da predição no modelo\n",
        "    y_pred = modelo.predict(X_test)\n",
        "    # Armazena os valores de cada iteração da Validação Cruzada\n",
        "    score = modelo.score(X_test, y_test)\n",
        "    scores.append(score)\n",
        "\n",
        "# Transforma em array os valores dos scores de forma padronizada\n",
        "scores = np.array(scores)\n",
        "\n",
        "# Printa a média e o desvio da padrão dos modelos encontrados, além de printar os scores encontrados\n",
        "print(\"R2: %0.2f (+/- %0.2f)\" % (scores.mean(), scores.std() * 2))\n",
        "print(scores)"
      ]
    },
    {
      "cell_type": "markdown",
      "metadata": {
        "id": "DYooVIYIMu6b"
      },
      "source": [
        "# Modelo DecisionTree\n",
        "\n",
        "Modelo de DecisionTree se baseia em fazer boas perguntas, por exemplo, fazer boas validações entre as colunas para chegar em dados mais \"extremos\", por exemplo. X > y => 90% sim. Esse é um cenário muito difícil mas é um exemplo."
      ]
    },
    {
      "cell_type": "code",
      "execution_count": 58,
      "metadata": {
        "id": "XxI8-n6POn2E"
      },
      "outputs": [],
      "source": [
        "# Resetando\n",
        "# Colunas de maior relevância que serão utilizadas para a classificação\n",
        "columns = ['workclass','education','education-num','marital-status','relationship', 'race', 'sex', 'hours-per-week', 'native-country']\n",
        "\n",
        "# Criação de um DataFrame sem a coluna de predição\n",
        "df_c = df[columns]\n",
        "\n",
        "# Definindo 'y' com a coluna de predição\n",
        "y = df['greater']\n",
        "\n",
        "# Transforma em valor numérico, as colunas que contém texto\n",
        "df_c = pd.get_dummies(df_c, columns=['workclass','education','marital-status','relationship','race', 'sex', 'native-country'])\n",
        "\n",
        "# Normalização\n",
        "scaler = StandardScaler()\n",
        "scaler.fit(df_c)\n",
        "df_c = scaler.transform(df_c)\n",
        "\n",
        "# Criação da massa de treino e teste, utilizando o Holdout\n",
        "X_train, X_test = df_c[:train_percentage], df_c[train_percentage:]\n",
        "y_train, y_test = y[:train_percentage], y[train_percentage:]"
      ]
    },
    {
      "cell_type": "code",
      "execution_count": 59,
      "metadata": {
        "colab": {
          "base_uri": "https://localhost:8080/"
        },
        "id": "QdRbfhWzNvxv",
        "outputId": "dd997679-d326-46d5-dc3c-519b47204c30"
      },
      "outputs": [
        {
          "data": {
            "text/plain": [
              "DecisionTreeClassifier()"
            ]
          },
          "execution_count": 59,
          "metadata": {},
          "output_type": "execute_result"
        }
      ],
      "source": [
        "from sklearn.tree import DecisionTreeClassifier\n",
        " \n",
        "modelo = DecisionTreeClassifier()\n",
        "modelo.fit(X_train, y_train)"
      ]
    },
    {
      "cell_type": "code",
      "execution_count": 60,
      "metadata": {
        "colab": {
          "base_uri": "https://localhost:8080/"
        },
        "id": "E8JUiuMlNynx",
        "outputId": "49f64495-3534-4f3b-d080-25974598024f"
      },
      "outputs": [
        {
          "data": {
            "text/plain": [
              "0.809504329447058"
            ]
          },
          "execution_count": 60,
          "metadata": {},
          "output_type": "execute_result"
        }
      ],
      "source": [
        "from sklearn.metrics import accuracy_score\n",
        "\n",
        "# Fazendo a predição\n",
        "y_pred = modelo.predict(X_test)\n",
        "accuracy_score(y_pred, y_test)"
      ]
    },
    {
      "cell_type": "code",
      "execution_count": 61,
      "metadata": {
        "colab": {
          "base_uri": "https://localhost:8080/"
        },
        "id": "74YHonZ5N3Ba",
        "outputId": "0bc4cebb-89cf-4367-dcff-06c8b147e8be"
      },
      "outputs": [
        {
          "name": "stdout",
          "output_type": "stream",
          "text": [
            "              precision    recall  f1-score   support\n",
            "\n",
            "       <=50K       0.91      0.85      0.88     11942\n",
            "        >50K       0.49      0.64      0.56      2725\n",
            "\n",
            "    accuracy                           0.81     14667\n",
            "   macro avg       0.70      0.74      0.72     14667\n",
            "weighted avg       0.83      0.81      0.82     14667\n",
            "\n"
          ]
        }
      ],
      "source": [
        "print(classification_report(y_pred, y_test))"
      ]
    },
    {
      "cell_type": "code",
      "execution_count": 62,
      "metadata": {
        "colab": {
          "base_uri": "https://localhost:8080/"
        },
        "id": "4Tj6I3-TODGW",
        "outputId": "dbbb267e-2c61-4926-c6f4-fbd3e576aafd"
      },
      "outputs": [
        {
          "data": {
            "text/plain": [
              "array([2.08729795e-01, 1.58140335e-01, 9.48119500e-03, 9.03761689e-03,\n",
              "       1.01922147e-02, 0.00000000e+00, 1.58098234e-02, 1.37402841e-02,\n",
              "       1.10217944e-02, 9.11379657e-03, 0.00000000e+00, 3.38745584e-04,\n",
              "       1.51164519e-03, 3.89458444e-04, 4.17881265e-04, 0.00000000e+00,\n",
              "       8.70477935e-04, 8.60534478e-04, 3.92752589e-03, 5.21395962e-03,\n",
              "       4.29296987e-03, 3.64764621e-03, 8.87117924e-03, 4.68041563e-03,\n",
              "       3.00918857e-06, 1.59907139e-03, 5.90144101e-03, 5.20067573e-03,\n",
              "       1.21922260e-03, 3.47902189e-01, 1.28081240e-03, 6.43459004e-03,\n",
              "       3.46202478e-03, 3.85596696e-03, 6.32391466e-03, 7.28433396e-03,\n",
              "       3.73542749e-03, 5.89291029e-03, 3.18681247e-03, 6.87935311e-03,\n",
              "       2.40205693e-03, 4.61293797e-03, 9.58441553e-03, 2.33546390e-03,\n",
              "       1.29256631e-02, 7.98563343e-03, 8.55715006e-03, 6.76849430e-03,\n",
              "       1.05766155e-03, 4.36920840e-03, 9.81604066e-04, 1.58040121e-04,\n",
              "       1.81041875e-03, 6.81838681e-04, 3.71544286e-04, 1.13040985e-03,\n",
              "       1.83526839e-03, 6.44402015e-04, 2.48100070e-03, 5.84053520e-04,\n",
              "       0.00000000e+00, 6.98040294e-05, 0.00000000e+00, 0.00000000e+00,\n",
              "       0.00000000e+00, 2.64075263e-04, 1.86769848e-03, 1.24317405e-03,\n",
              "       3.69396719e-04, 2.01299510e-03, 6.52387819e-04, 1.31264373e-03,\n",
              "       0.00000000e+00, 3.32200734e-03, 8.64599890e-04, 0.00000000e+00,\n",
              "       7.22532936e-05, 1.17296968e-03, 2.05619031e-03, 8.54864298e-04,\n",
              "       1.83574625e-03, 0.00000000e+00, 3.13434347e-03, 7.38428575e-04,\n",
              "       4.06337789e-04, 5.56623042e-04, 1.31923184e-02, 8.67575458e-04,\n",
              "       1.40525178e-03])"
            ]
          },
          "execution_count": 62,
          "metadata": {},
          "output_type": "execute_result"
        }
      ],
      "source": [
        "modelo.feature_importances_"
      ]
    },
    {
      "cell_type": "markdown",
      "metadata": {
        "id": "cG_Za_oOPI8e"
      },
      "source": [
        "## RandomForestClassifier\n",
        "\n",
        "Uma floresta aleatória é um meta estimador que ajusta vários classificadores de árvore de decisão em várias subamostras do conjunto de dados e usa a média para melhorar a precisão preditiva e controlar o ajuste excessivo."
      ]
    },
    {
      "cell_type": "code",
      "execution_count": 63,
      "metadata": {
        "colab": {
          "base_uri": "https://localhost:8080/"
        },
        "id": "3FteF2NtOGUS",
        "outputId": "1fb687fb-e18a-483a-ae56-0ba8434ad9ee"
      },
      "outputs": [
        {
          "data": {
            "text/plain": [
              "0.8159814549669325"
            ]
          },
          "execution_count": 63,
          "metadata": {},
          "output_type": "execute_result"
        }
      ],
      "source": [
        "from sklearn.ensemble import RandomForestClassifier\n",
        " \n",
        "modelo = RandomForestClassifier(n_estimators = 200, max_depth = 5)\n",
        "modelo.fit(X_train, y_train)\n",
        " \n",
        "y_pred = modelo.predict(X_test)\n",
        "accuracy_score(y_pred, y_test)"
      ]
    }
  ],
  "metadata": {
    "colab": {
      "collapsed_sections": [
        "Dq4z9wpt7Kle",
        "vI9so8flAgEg",
        "ArXuPXzBDXdR",
        "cTM_wXGRFMaT",
        "y7W_jpjiGyMZ",
        "fHSSYG0IJOKW",
        "DYooVIYIMu6b"
      ],
      "name": "projeto.ipynb",
      "provenance": []
    },
    "interpreter": {
      "hash": "fa6f34dd7144ca72c76a4f1b96991c2d2d642a5777194ef587676924069bb17a"
    },
    "kernelspec": {
      "display_name": "Python 3.8.10 ('.venv': venv)",
      "language": "python",
      "name": "python3"
    },
    "language_info": {
      "codemirror_mode": {
        "name": "ipython",
        "version": 3
      },
      "file_extension": ".py",
      "mimetype": "text/x-python",
      "name": "python",
      "nbconvert_exporter": "python",
      "pygments_lexer": "ipython3",
      "version": "3.8.10"
    },
    "orig_nbformat": 4
  },
  "nbformat": 4,
  "nbformat_minor": 0
}
